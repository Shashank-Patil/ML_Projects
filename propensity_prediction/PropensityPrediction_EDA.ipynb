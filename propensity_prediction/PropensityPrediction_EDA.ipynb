{
 "cells": [
  {
   "cell_type": "markdown",
   "metadata": {},
   "source": [
    "# IIT Madras PayBuddy Case Study\n",
    "## An analysis by Team 1"
   ]
  },
  {
   "cell_type": "markdown",
   "metadata": {},
   "source": [
    "### Importing necessary header files"
   ]
  },
  {
   "cell_type": "code",
   "execution_count": 58,
   "metadata": {},
   "outputs": [],
   "source": [
    "import numpy as np\n",
    "import pandas as pd\n",
    "from functools import reduce\n",
    "from sklearn.ensemble import RandomForestClassifier \n",
    "from sklearn.model_selection import train_test_split\n",
    "from sklearn.metrics import roc_auc_score\n",
    "import seaborn as sns"
   ]
  },
  {
   "cell_type": "markdown",
   "metadata": {},
   "source": [
    "### Exploratory data analysis and data cleaning"
   ]
  },
  {
   "cell_type": "markdown",
   "metadata": {},
   "source": [
    "#### Fraud Update Features"
   ]
  },
  {
   "cell_type": "markdown",
   "metadata": {},
   "source": [
    "This dataset contains a wide range of information. Some of the information requires additional understanding"
   ]
  },
  {
   "cell_type": "code",
   "execution_count": 59,
   "metadata": {},
   "outputs": [],
   "source": [
    "fraud_features=pd.read_csv(\"data/fraud_update_features.csv\", index_col=0)"
   ]
  },
  {
   "cell_type": "code",
   "execution_count": 60,
   "metadata": {},
   "outputs": [
    {
     "name": "stdout",
     "output_type": "stream",
     "text": [
      "The dimensions of the dataset are:  (872890, 21)\n"
     ]
    }
   ],
   "source": [
    "print(\"The dimensions of the dataset are: \", fraud_features.shape)"
   ]
  },
  {
   "cell_type": "code",
   "execution_count": 61,
   "metadata": {},
   "outputs": [
    {
     "data": {
      "text/html": [
       "<div>\n",
       "<style scoped>\n",
       "    .dataframe tbody tr th:only-of-type {\n",
       "        vertical-align: middle;\n",
       "    }\n",
       "\n",
       "    .dataframe tbody tr th {\n",
       "        vertical-align: top;\n",
       "    }\n",
       "\n",
       "    .dataframe thead th {\n",
       "        text-align: right;\n",
       "    }\n",
       "</style>\n",
       "<table border=\"1\" class=\"dataframe\">\n",
       "  <thead>\n",
       "    <tr style=\"text-align: right;\">\n",
       "      <th></th>\n",
       "      <th>cust_id</th>\n",
       "      <th>fraud_update_features_1</th>\n",
       "      <th>fraud_update_features_2</th>\n",
       "      <th>fraud_update_features_3</th>\n",
       "      <th>fraud_update_features_4</th>\n",
       "      <th>fraud_update_features_5</th>\n",
       "      <th>fraud_update_features_6</th>\n",
       "      <th>fraud_update_features_7</th>\n",
       "      <th>fraud_update_features_8</th>\n",
       "      <th>fraud_update_features_9</th>\n",
       "      <th>...</th>\n",
       "      <th>fraud_update_features_11</th>\n",
       "      <th>fraud_update_features_12</th>\n",
       "      <th>fraud_update_features_13</th>\n",
       "      <th>fraud_update_features_14</th>\n",
       "      <th>fraud_update_features_15</th>\n",
       "      <th>fraud_update_features_16</th>\n",
       "      <th>fraud_update_features_17</th>\n",
       "      <th>fraud_update_features_18</th>\n",
       "      <th>fraud_update_features_19</th>\n",
       "      <th>fraud_update_features_20</th>\n",
       "    </tr>\n",
       "  </thead>\n",
       "  <tbody>\n",
       "    <tr>\n",
       "      <th>0</th>\n",
       "      <td>10021085</td>\n",
       "      <td>0</td>\n",
       "      <td>0</td>\n",
       "      <td>0</td>\n",
       "      <td>NaN</td>\n",
       "      <td>NaN</td>\n",
       "      <td>0</td>\n",
       "      <td>0</td>\n",
       "      <td>0</td>\n",
       "      <td>0</td>\n",
       "      <td>...</td>\n",
       "      <td>0</td>\n",
       "      <td>0</td>\n",
       "      <td>0</td>\n",
       "      <td>0</td>\n",
       "      <td>2020-05-21 11:45:42</td>\n",
       "      <td>NaN</td>\n",
       "      <td>NaN</td>\n",
       "      <td>NaN</td>\n",
       "      <td>NaN</td>\n",
       "      <td>1</td>\n",
       "    </tr>\n",
       "    <tr>\n",
       "      <th>1</th>\n",
       "      <td>10061508</td>\n",
       "      <td>0</td>\n",
       "      <td>0</td>\n",
       "      <td>0</td>\n",
       "      <td>NaN</td>\n",
       "      <td>NaN</td>\n",
       "      <td>0</td>\n",
       "      <td>0</td>\n",
       "      <td>0</td>\n",
       "      <td>0</td>\n",
       "      <td>...</td>\n",
       "      <td>0</td>\n",
       "      <td>0</td>\n",
       "      <td>0</td>\n",
       "      <td>0</td>\n",
       "      <td>2021-01-04 12:51:59</td>\n",
       "      <td>NaN</td>\n",
       "      <td>NaN</td>\n",
       "      <td>NaN</td>\n",
       "      <td>NaN</td>\n",
       "      <td>1</td>\n",
       "    </tr>\n",
       "    <tr>\n",
       "      <th>2</th>\n",
       "      <td>10104649</td>\n",
       "      <td>0</td>\n",
       "      <td>0</td>\n",
       "      <td>0</td>\n",
       "      <td>NaN</td>\n",
       "      <td>NaN</td>\n",
       "      <td>0</td>\n",
       "      <td>0</td>\n",
       "      <td>0</td>\n",
       "      <td>0</td>\n",
       "      <td>...</td>\n",
       "      <td>0</td>\n",
       "      <td>0</td>\n",
       "      <td>0</td>\n",
       "      <td>0</td>\n",
       "      <td>NaN</td>\n",
       "      <td>NaN</td>\n",
       "      <td>NaN</td>\n",
       "      <td>NaN</td>\n",
       "      <td>NaN</td>\n",
       "      <td>0</td>\n",
       "    </tr>\n",
       "    <tr>\n",
       "      <th>3</th>\n",
       "      <td>10107248</td>\n",
       "      <td>0</td>\n",
       "      <td>0</td>\n",
       "      <td>1</td>\n",
       "      <td>NaN</td>\n",
       "      <td>NaN</td>\n",
       "      <td>0</td>\n",
       "      <td>0</td>\n",
       "      <td>0</td>\n",
       "      <td>0</td>\n",
       "      <td>...</td>\n",
       "      <td>0</td>\n",
       "      <td>1</td>\n",
       "      <td>0</td>\n",
       "      <td>1</td>\n",
       "      <td>NaN</td>\n",
       "      <td>NaN</td>\n",
       "      <td>NaN</td>\n",
       "      <td>NaN</td>\n",
       "      <td>NaN</td>\n",
       "      <td>0</td>\n",
       "    </tr>\n",
       "    <tr>\n",
       "      <th>4</th>\n",
       "      <td>10124427</td>\n",
       "      <td>0</td>\n",
       "      <td>0</td>\n",
       "      <td>0</td>\n",
       "      <td>NaN</td>\n",
       "      <td>NaN</td>\n",
       "      <td>0</td>\n",
       "      <td>0</td>\n",
       "      <td>0</td>\n",
       "      <td>0</td>\n",
       "      <td>...</td>\n",
       "      <td>0</td>\n",
       "      <td>0</td>\n",
       "      <td>0</td>\n",
       "      <td>0</td>\n",
       "      <td>NaN</td>\n",
       "      <td>NaN</td>\n",
       "      <td>NaN</td>\n",
       "      <td>NaN</td>\n",
       "      <td>NaN</td>\n",
       "      <td>0</td>\n",
       "    </tr>\n",
       "  </tbody>\n",
       "</table>\n",
       "<p>5 rows × 21 columns</p>\n",
       "</div>"
      ],
      "text/plain": [
       "    cust_id  fraud_update_features_1  fraud_update_features_2  \\\n",
       "0  10021085                        0                        0   \n",
       "1  10061508                        0                        0   \n",
       "2  10104649                        0                        0   \n",
       "3  10107248                        0                        0   \n",
       "4  10124427                        0                        0   \n",
       "\n",
       "   fraud_update_features_3 fraud_update_features_4 fraud_update_features_5  \\\n",
       "0                        0                     NaN                     NaN   \n",
       "1                        0                     NaN                     NaN   \n",
       "2                        0                     NaN                     NaN   \n",
       "3                        1                     NaN                     NaN   \n",
       "4                        0                     NaN                     NaN   \n",
       "\n",
       "   fraud_update_features_6  fraud_update_features_7  fraud_update_features_8  \\\n",
       "0                        0                        0                        0   \n",
       "1                        0                        0                        0   \n",
       "2                        0                        0                        0   \n",
       "3                        0                        0                        0   \n",
       "4                        0                        0                        0   \n",
       "\n",
       "   fraud_update_features_9  ...  fraud_update_features_11  \\\n",
       "0                        0  ...                         0   \n",
       "1                        0  ...                         0   \n",
       "2                        0  ...                         0   \n",
       "3                        0  ...                         0   \n",
       "4                        0  ...                         0   \n",
       "\n",
       "   fraud_update_features_12  fraud_update_features_13  \\\n",
       "0                         0                         0   \n",
       "1                         0                         0   \n",
       "2                         0                         0   \n",
       "3                         1                         0   \n",
       "4                         0                         0   \n",
       "\n",
       "   fraud_update_features_14  fraud_update_features_15  \\\n",
       "0                         0       2020-05-21 11:45:42   \n",
       "1                         0       2021-01-04 12:51:59   \n",
       "2                         0                       NaN   \n",
       "3                         1                       NaN   \n",
       "4                         0                       NaN   \n",
       "\n",
       "  fraud_update_features_16 fraud_update_features_17  fraud_update_features_18  \\\n",
       "0                      NaN                      NaN                       NaN   \n",
       "1                      NaN                      NaN                       NaN   \n",
       "2                      NaN                      NaN                       NaN   \n",
       "3                      NaN                      NaN                       NaN   \n",
       "4                      NaN                      NaN                       NaN   \n",
       "\n",
       "   fraud_update_features_19  fraud_update_features_20  \n",
       "0                       NaN                         1  \n",
       "1                       NaN                         1  \n",
       "2                       NaN                         0  \n",
       "3                       NaN                         0  \n",
       "4                       NaN                         0  \n",
       "\n",
       "[5 rows x 21 columns]"
      ]
     },
     "execution_count": 61,
     "metadata": {},
     "output_type": "execute_result"
    }
   ],
   "source": [
    "fraud_features.head()"
   ]
  },
  {
   "cell_type": "markdown",
   "metadata": {},
   "source": [
    "Number of NaN values of each column"
   ]
  },
  {
   "cell_type": "code",
   "execution_count": 62,
   "metadata": {},
   "outputs": [
    {
     "data": {
      "text/plain": [
       "fraud_update_features_4     853650\n",
       "fraud_update_features_5     719848\n",
       "fraud_update_features_15    669472\n",
       "fraud_update_features_16    747217\n",
       "fraud_update_features_17    747217\n",
       "fraud_update_features_18    853650\n",
       "fraud_update_features_19    719848\n",
       "dtype: int64"
      ]
     },
     "execution_count": 62,
     "metadata": {},
     "output_type": "execute_result"
    }
   ],
   "source": [
    "fraud_features.isnull().sum()[fraud_features.isnull().sum()>0]"
   ]
  },
  {
   "cell_type": "markdown",
   "metadata": {},
   "source": [
    "Clearly from the above data, certain features have a large amount of missing data (>50%), so extrapolating data for those features would not make a lot of sense. As a result, we choose to drop those features from our analysis.\n",
    "\n",
    "Features 4, 5, 15, 16 are timeseries data features, so those perhaps can be somehow considered in the analysis"
   ]
  },
  {
   "cell_type": "code",
   "execution_count": 63,
   "metadata": {},
   "outputs": [],
   "source": [
    "fraud=fraud_features.drop([\"fraud_update_features_4\",\"fraud_update_features_5\",\"fraud_update_features_15\",\"fraud_update_features_16\",\"fraud_update_features_17\",\"fraud_update_features_18\",\"fraud_update_features_19\"], axis=1)"
   ]
  },
  {
   "cell_type": "markdown",
   "metadata": {},
   "source": [
    "\n",
    "#### Payment Cashout Fail"
   ]
  },
  {
   "cell_type": "code",
   "execution_count": 64,
   "metadata": {},
   "outputs": [],
   "source": [
    "payment_cashout_fail=pd.read_csv(\"data/payment_cashout_fail_df.csv\", index_col=0)"
   ]
  },
  {
   "cell_type": "code",
   "execution_count": 65,
   "metadata": {},
   "outputs": [],
   "source": [
    "cashout_fail_cols=payment_cashout_fail.columns\n",
    "cashout_fail_cols=cashout_fail_cols[1:]"
   ]
  },
  {
   "cell_type": "code",
   "execution_count": 66,
   "metadata": {},
   "outputs": [
    {
     "data": {
      "text/plain": [
       "Index(['payment_cashout_fail_1', 'payment_cashout_fail_2',\n",
       "       'payment_cashout_fail_3', 'payment_cashout_fail_4',\n",
       "       'payment_cashout_fail_5', 'payment_cashout_fail_6',\n",
       "       'payment_cashout_fail_7', 'payment_cashout_fail_8',\n",
       "       'payment_cashout_fail_9', 'payment_cashout_fail_10',\n",
       "       'payment_cashout_fail_11', 'payment_cashout_fail_12',\n",
       "       'payment_cashout_fail_13', 'payment_cashout_fail_14',\n",
       "       'payment_cashout_fail_15', 'payment_cashout_fail_16',\n",
       "       'payment_cashout_fail_17', 'payment_cashout_fail_18',\n",
       "       'payment_cashout_fail_19', 'payment_cashout_fail_20',\n",
       "       'payment_cashout_fail_21', 'payment_cashout_fail_22',\n",
       "       'payment_cashout_fail_23', 'payment_cashout_fail_24',\n",
       "       'payment_cashout_fail_25', 'payment_cashout_fail_26',\n",
       "       'payment_cashout_fail_27', 'payment_cashout_fail_28',\n",
       "       'payment_cashout_fail_29', 'payment_cashout_fail_30',\n",
       "       'payment_cashout_fail_31', 'payment_cashout_fail_32',\n",
       "       'payment_cashout_fail_33', 'payment_cashout_fail_34',\n",
       "       'payment_cashout_fail_35', 'payment_cashout_fail_36',\n",
       "       'payment_cashout_fail_37', 'payment_cashout_fail_38',\n",
       "       'payment_cashout_fail_39', 'payment_cashout_fail_40',\n",
       "       'payment_cashout_fail_41', 'payment_cashout_fail_42',\n",
       "       'payment_cashout_fail_43', 'payment_cashout_fail_44',\n",
       "       'payment_cashout_fail_45', 'payment_cashout_fail_46',\n",
       "       'payment_cashout_fail_47', 'payment_cashout_fail_48',\n",
       "       'payment_cashout_fail_49', 'payment_cashout_fail_50',\n",
       "       'payment_cashout_fail_51', 'payment_cashout_fail_52',\n",
       "       'payment_cashout_fail_53', 'payment_cashout_fail_54',\n",
       "       'payment_cashout_fail_55', 'payment_cashout_fail_56'],\n",
       "      dtype='object')"
      ]
     },
     "execution_count": 66,
     "metadata": {},
     "output_type": "execute_result"
    }
   ],
   "source": [
    "cashout_fail_cols"
   ]
  },
  {
   "cell_type": "code",
   "execution_count": 67,
   "metadata": {},
   "outputs": [
    {
     "name": "stdout",
     "output_type": "stream",
     "text": [
      "The dimensions of the dataset are:  (49978, 57)\n"
     ]
    }
   ],
   "source": [
    "print(\"The dimensions of the dataset are: \", payment_cashout_fail.shape)"
   ]
  },
  {
   "cell_type": "code",
   "execution_count": 68,
   "metadata": {},
   "outputs": [
    {
     "data": {
      "text/html": [
       "<div>\n",
       "<style scoped>\n",
       "    .dataframe tbody tr th:only-of-type {\n",
       "        vertical-align: middle;\n",
       "    }\n",
       "\n",
       "    .dataframe tbody tr th {\n",
       "        vertical-align: top;\n",
       "    }\n",
       "\n",
       "    .dataframe thead th {\n",
       "        text-align: right;\n",
       "    }\n",
       "</style>\n",
       "<table border=\"1\" class=\"dataframe\">\n",
       "  <thead>\n",
       "    <tr style=\"text-align: right;\">\n",
       "      <th></th>\n",
       "      <th>cust_id</th>\n",
       "      <th>payment_cashout_fail_1</th>\n",
       "      <th>payment_cashout_fail_2</th>\n",
       "      <th>payment_cashout_fail_3</th>\n",
       "      <th>payment_cashout_fail_4</th>\n",
       "      <th>payment_cashout_fail_5</th>\n",
       "      <th>payment_cashout_fail_6</th>\n",
       "      <th>payment_cashout_fail_7</th>\n",
       "      <th>payment_cashout_fail_8</th>\n",
       "      <th>payment_cashout_fail_9</th>\n",
       "      <th>...</th>\n",
       "      <th>payment_cashout_fail_47</th>\n",
       "      <th>payment_cashout_fail_48</th>\n",
       "      <th>payment_cashout_fail_49</th>\n",
       "      <th>payment_cashout_fail_50</th>\n",
       "      <th>payment_cashout_fail_51</th>\n",
       "      <th>payment_cashout_fail_52</th>\n",
       "      <th>payment_cashout_fail_53</th>\n",
       "      <th>payment_cashout_fail_54</th>\n",
       "      <th>payment_cashout_fail_55</th>\n",
       "      <th>payment_cashout_fail_56</th>\n",
       "    </tr>\n",
       "  </thead>\n",
       "  <tbody>\n",
       "    <tr>\n",
       "      <th>0</th>\n",
       "      <td>10000827</td>\n",
       "      <td>111.87</td>\n",
       "      <td>111.87</td>\n",
       "      <td>111.87</td>\n",
       "      <td>111.87</td>\n",
       "      <td>111.87</td>\n",
       "      <td>111.87</td>\n",
       "      <td>0.0</td>\n",
       "      <td>0.0</td>\n",
       "      <td>1</td>\n",
       "      <td>...</td>\n",
       "      <td>111.87</td>\n",
       "      <td>111.87</td>\n",
       "      <td>0.0</td>\n",
       "      <td>0.0</td>\n",
       "      <td>1</td>\n",
       "      <td>1</td>\n",
       "      <td>1</td>\n",
       "      <td>0</td>\n",
       "      <td>0</td>\n",
       "      <td>55.0</td>\n",
       "    </tr>\n",
       "    <tr>\n",
       "      <th>1</th>\n",
       "      <td>10001467</td>\n",
       "      <td>49.50</td>\n",
       "      <td>49.50</td>\n",
       "      <td>49.50</td>\n",
       "      <td>49.50</td>\n",
       "      <td>49.50</td>\n",
       "      <td>0.00</td>\n",
       "      <td>0.0</td>\n",
       "      <td>0.0</td>\n",
       "      <td>1</td>\n",
       "      <td>...</td>\n",
       "      <td>49.50</td>\n",
       "      <td>0.00</td>\n",
       "      <td>0.0</td>\n",
       "      <td>0.0</td>\n",
       "      <td>1</td>\n",
       "      <td>1</td>\n",
       "      <td>0</td>\n",
       "      <td>0</td>\n",
       "      <td>0</td>\n",
       "      <td>126.0</td>\n",
       "    </tr>\n",
       "    <tr>\n",
       "      <th>2</th>\n",
       "      <td>10005135</td>\n",
       "      <td>141.08</td>\n",
       "      <td>141.08</td>\n",
       "      <td>141.08</td>\n",
       "      <td>141.08</td>\n",
       "      <td>0.00</td>\n",
       "      <td>0.00</td>\n",
       "      <td>0.0</td>\n",
       "      <td>0.0</td>\n",
       "      <td>1</td>\n",
       "      <td>...</td>\n",
       "      <td>0.00</td>\n",
       "      <td>0.00</td>\n",
       "      <td>0.0</td>\n",
       "      <td>0.0</td>\n",
       "      <td>1</td>\n",
       "      <td>0</td>\n",
       "      <td>0</td>\n",
       "      <td>0</td>\n",
       "      <td>0</td>\n",
       "      <td>190.0</td>\n",
       "    </tr>\n",
       "    <tr>\n",
       "      <th>3</th>\n",
       "      <td>10006258</td>\n",
       "      <td>297.00</td>\n",
       "      <td>148.50</td>\n",
       "      <td>148.50</td>\n",
       "      <td>148.50</td>\n",
       "      <td>297.00</td>\n",
       "      <td>0.00</td>\n",
       "      <td>0.0</td>\n",
       "      <td>0.0</td>\n",
       "      <td>2</td>\n",
       "      <td>...</td>\n",
       "      <td>297.00</td>\n",
       "      <td>0.00</td>\n",
       "      <td>0.0</td>\n",
       "      <td>0.0</td>\n",
       "      <td>2</td>\n",
       "      <td>2</td>\n",
       "      <td>0</td>\n",
       "      <td>0</td>\n",
       "      <td>0</td>\n",
       "      <td>174.0</td>\n",
       "    </tr>\n",
       "    <tr>\n",
       "      <th>4</th>\n",
       "      <td>10006555</td>\n",
       "      <td>29.70</td>\n",
       "      <td>29.70</td>\n",
       "      <td>29.70</td>\n",
       "      <td>29.70</td>\n",
       "      <td>0.00</td>\n",
       "      <td>0.00</td>\n",
       "      <td>0.0</td>\n",
       "      <td>0.0</td>\n",
       "      <td>1</td>\n",
       "      <td>...</td>\n",
       "      <td>0.00</td>\n",
       "      <td>0.00</td>\n",
       "      <td>0.0</td>\n",
       "      <td>0.0</td>\n",
       "      <td>1</td>\n",
       "      <td>0</td>\n",
       "      <td>0</td>\n",
       "      <td>0</td>\n",
       "      <td>0</td>\n",
       "      <td>239.0</td>\n",
       "    </tr>\n",
       "  </tbody>\n",
       "</table>\n",
       "<p>5 rows × 57 columns</p>\n",
       "</div>"
      ],
      "text/plain": [
       "    cust_id  payment_cashout_fail_1  payment_cashout_fail_2  \\\n",
       "0  10000827                  111.87                  111.87   \n",
       "1  10001467                   49.50                   49.50   \n",
       "2  10005135                  141.08                  141.08   \n",
       "3  10006258                  297.00                  148.50   \n",
       "4  10006555                   29.70                   29.70   \n",
       "\n",
       "   payment_cashout_fail_3  payment_cashout_fail_4  payment_cashout_fail_5  \\\n",
       "0                  111.87                  111.87                  111.87   \n",
       "1                   49.50                   49.50                   49.50   \n",
       "2                  141.08                  141.08                    0.00   \n",
       "3                  148.50                  148.50                  297.00   \n",
       "4                   29.70                   29.70                    0.00   \n",
       "\n",
       "   payment_cashout_fail_6  payment_cashout_fail_7  payment_cashout_fail_8  \\\n",
       "0                  111.87                     0.0                     0.0   \n",
       "1                    0.00                     0.0                     0.0   \n",
       "2                    0.00                     0.0                     0.0   \n",
       "3                    0.00                     0.0                     0.0   \n",
       "4                    0.00                     0.0                     0.0   \n",
       "\n",
       "   payment_cashout_fail_9  ...  payment_cashout_fail_47  \\\n",
       "0                       1  ...                   111.87   \n",
       "1                       1  ...                    49.50   \n",
       "2                       1  ...                     0.00   \n",
       "3                       2  ...                   297.00   \n",
       "4                       1  ...                     0.00   \n",
       "\n",
       "   payment_cashout_fail_48  payment_cashout_fail_49  payment_cashout_fail_50  \\\n",
       "0                   111.87                      0.0                      0.0   \n",
       "1                     0.00                      0.0                      0.0   \n",
       "2                     0.00                      0.0                      0.0   \n",
       "3                     0.00                      0.0                      0.0   \n",
       "4                     0.00                      0.0                      0.0   \n",
       "\n",
       "   payment_cashout_fail_51  payment_cashout_fail_52  payment_cashout_fail_53  \\\n",
       "0                        1                        1                        1   \n",
       "1                        1                        1                        0   \n",
       "2                        1                        0                        0   \n",
       "3                        2                        2                        0   \n",
       "4                        1                        0                        0   \n",
       "\n",
       "   payment_cashout_fail_54  payment_cashout_fail_55  payment_cashout_fail_56  \n",
       "0                        0                        0                     55.0  \n",
       "1                        0                        0                    126.0  \n",
       "2                        0                        0                    190.0  \n",
       "3                        0                        0                    174.0  \n",
       "4                        0                        0                    239.0  \n",
       "\n",
       "[5 rows x 57 columns]"
      ]
     },
     "execution_count": 68,
     "metadata": {},
     "output_type": "execute_result"
    }
   ],
   "source": [
    "payment_cashout_fail.head()"
   ]
  },
  {
   "cell_type": "markdown",
   "metadata": {},
   "source": [
    "Number of NaN values of each column"
   ]
  },
  {
   "cell_type": "code",
   "execution_count": 69,
   "metadata": {},
   "outputs": [
    {
     "data": {
      "text/plain": [
       "payment_cashout_fail_28    44581\n",
       "payment_cashout_fail_42     6665\n",
       "payment_cashout_fail_56     2807\n",
       "dtype: int64"
      ]
     },
     "execution_count": 69,
     "metadata": {},
     "output_type": "execute_result"
    }
   ],
   "source": [
    "payment_cashout_fail.isnull().sum()[payment_cashout_fail.isnull().sum()>0]"
   ]
  },
  {
   "cell_type": "markdown",
   "metadata": {},
   "source": [
    "While there are a lot of missing values in this dataset, it is important to note that we don't want to drop any features. This is because we suspect that the number of defaulted transactions would be extremely important when it comes to the actual data.\n",
    "\n",
    "**In this case, we assume that NaN corresponds to 0**\n",
    "\n",
    "cash_fail is the name of the processed dataset. The column \"num\" corresponds to the number of failed transactions. The column \"avg\" corresponds to the average value of money attempted during the failed cashouts  "
   ]
  },
  {
   "cell_type": "code",
   "execution_count": 70,
   "metadata": {},
   "outputs": [],
   "source": [
    "cash_fail= payment_cashout_fail\n",
    "cash_fail.fillna(0)\n",
    "cash_fail[\"num\"]= (cash_fail != 0).sum(axis=1)\n",
    "cash_fail[\"avg\"]= cash_fail.sum(axis=1)/cash_fail[\"num\"]"
   ]
  },
  {
   "cell_type": "markdown",
   "metadata": {},
   "source": [
    "\n",
    "#### New Account Financial Instrument"
   ]
  },
  {
   "cell_type": "code",
   "execution_count": 71,
   "metadata": {},
   "outputs": [],
   "source": [
    "acct_finan_instr=pd.read_csv(\"data/new_acct_fi.csv\", index_col=0)"
   ]
  },
  {
   "cell_type": "code",
   "execution_count": 126,
   "metadata": {},
   "outputs": [],
   "source": [
    "acct_fi_cols=acct_finan_instr.columns\n",
    "acct_fi_cols=acct_fi_cols[1:]"
   ]
  },
  {
   "cell_type": "code",
   "execution_count": 72,
   "metadata": {},
   "outputs": [
    {
     "name": "stdout",
     "output_type": "stream",
     "text": [
      "The dimensions of the dataset are:  (569104, 18)\n"
     ]
    }
   ],
   "source": [
    "print(\"The dimensions of the dataset are: \", acct_finan_instr.shape)"
   ]
  },
  {
   "cell_type": "code",
   "execution_count": 73,
   "metadata": {},
   "outputs": [
    {
     "data": {
      "text/html": [
       "<div>\n",
       "<style scoped>\n",
       "    .dataframe tbody tr th:only-of-type {\n",
       "        vertical-align: middle;\n",
       "    }\n",
       "\n",
       "    .dataframe tbody tr th {\n",
       "        vertical-align: top;\n",
       "    }\n",
       "\n",
       "    .dataframe thead th {\n",
       "        text-align: right;\n",
       "    }\n",
       "</style>\n",
       "<table border=\"1\" class=\"dataframe\">\n",
       "  <thead>\n",
       "    <tr style=\"text-align: right;\">\n",
       "      <th></th>\n",
       "      <th>cust_id</th>\n",
       "      <th>new_acct_fi_1</th>\n",
       "      <th>new_acct_fi_2</th>\n",
       "      <th>new_acct_fi_3</th>\n",
       "      <th>new_acct_fi_4</th>\n",
       "      <th>new_acct_fi_5</th>\n",
       "      <th>new_acct_fi_6</th>\n",
       "      <th>new_acct_fi_7</th>\n",
       "      <th>new_acct_fi_8</th>\n",
       "      <th>new_acct_fi_9</th>\n",
       "      <th>new_acct_fi_10</th>\n",
       "      <th>new_acct_fi_11</th>\n",
       "      <th>new_acct_fi_12</th>\n",
       "      <th>new_acct_fi_13</th>\n",
       "      <th>new_acct_fi_14</th>\n",
       "      <th>new_acct_fi_15</th>\n",
       "      <th>new_acct_fi_16</th>\n",
       "      <th>new_acct_fi_17</th>\n",
       "    </tr>\n",
       "  </thead>\n",
       "  <tbody>\n",
       "    <tr>\n",
       "      <th>0</th>\n",
       "      <td>10004244</td>\n",
       "      <td>266.817095</td>\n",
       "      <td>1683.639988</td>\n",
       "      <td>1164.479865</td>\n",
       "      <td>267.041667</td>\n",
       "      <td>1684.041667</td>\n",
       "      <td>1164.694444</td>\n",
       "      <td>1</td>\n",
       "      <td>1</td>\n",
       "      <td>3</td>\n",
       "      <td>0</td>\n",
       "      <td>3</td>\n",
       "      <td>0</td>\n",
       "      <td>0</td>\n",
       "      <td>0</td>\n",
       "      <td>0</td>\n",
       "      <td>0</td>\n",
       "      <td>3</td>\n",
       "    </tr>\n",
       "    <tr>\n",
       "      <th>1</th>\n",
       "      <td>1001247</td>\n",
       "      <td>2552.330579</td>\n",
       "      <td>2552.330579</td>\n",
       "      <td>2552.330579</td>\n",
       "      <td>2553.000000</td>\n",
       "      <td>2553.000000</td>\n",
       "      <td>2553.000000</td>\n",
       "      <td>1</td>\n",
       "      <td>1</td>\n",
       "      <td>1</td>\n",
       "      <td>0</td>\n",
       "      <td>1</td>\n",
       "      <td>0</td>\n",
       "      <td>0</td>\n",
       "      <td>0</td>\n",
       "      <td>0</td>\n",
       "      <td>0</td>\n",
       "      <td>1</td>\n",
       "    </tr>\n",
       "    <tr>\n",
       "      <th>2</th>\n",
       "      <td>1002860</td>\n",
       "      <td>2303.076759</td>\n",
       "      <td>2303.076759</td>\n",
       "      <td>2303.076759</td>\n",
       "      <td>2302.041667</td>\n",
       "      <td>2302.041667</td>\n",
       "      <td>2302.041667</td>\n",
       "      <td>1</td>\n",
       "      <td>1</td>\n",
       "      <td>1</td>\n",
       "      <td>0</td>\n",
       "      <td>1</td>\n",
       "      <td>0</td>\n",
       "      <td>0</td>\n",
       "      <td>0</td>\n",
       "      <td>0</td>\n",
       "      <td>0</td>\n",
       "      <td>1</td>\n",
       "    </tr>\n",
       "    <tr>\n",
       "      <th>3</th>\n",
       "      <td>10044071</td>\n",
       "      <td>1757.191863</td>\n",
       "      <td>1757.191863</td>\n",
       "      <td>1757.191863</td>\n",
       "      <td>1758.041667</td>\n",
       "      <td>1758.041667</td>\n",
       "      <td>1758.041667</td>\n",
       "      <td>0</td>\n",
       "      <td>0</td>\n",
       "      <td>1</td>\n",
       "      <td>0</td>\n",
       "      <td>1</td>\n",
       "      <td>0</td>\n",
       "      <td>0</td>\n",
       "      <td>0</td>\n",
       "      <td>0</td>\n",
       "      <td>0</td>\n",
       "      <td>1</td>\n",
       "    </tr>\n",
       "    <tr>\n",
       "      <th>4</th>\n",
       "      <td>10045512</td>\n",
       "      <td>1031.925706</td>\n",
       "      <td>1273.035694</td>\n",
       "      <td>1152.480700</td>\n",
       "      <td>1033.041667</td>\n",
       "      <td>1243.041667</td>\n",
       "      <td>1138.041667</td>\n",
       "      <td>1</td>\n",
       "      <td>1</td>\n",
       "      <td>2</td>\n",
       "      <td>0</td>\n",
       "      <td>2</td>\n",
       "      <td>0</td>\n",
       "      <td>0</td>\n",
       "      <td>0</td>\n",
       "      <td>0</td>\n",
       "      <td>0</td>\n",
       "      <td>2</td>\n",
       "    </tr>\n",
       "  </tbody>\n",
       "</table>\n",
       "</div>"
      ],
      "text/plain": [
       "    cust_id  new_acct_fi_1  new_acct_fi_2  new_acct_fi_3  new_acct_fi_4  \\\n",
       "0  10004244     266.817095    1683.639988    1164.479865     267.041667   \n",
       "1   1001247    2552.330579    2552.330579    2552.330579    2553.000000   \n",
       "2   1002860    2303.076759    2303.076759    2303.076759    2302.041667   \n",
       "3  10044071    1757.191863    1757.191863    1757.191863    1758.041667   \n",
       "4  10045512    1031.925706    1273.035694    1152.480700    1033.041667   \n",
       "\n",
       "   new_acct_fi_5  new_acct_fi_6  new_acct_fi_7  new_acct_fi_8  new_acct_fi_9  \\\n",
       "0    1684.041667    1164.694444              1              1              3   \n",
       "1    2553.000000    2553.000000              1              1              1   \n",
       "2    2302.041667    2302.041667              1              1              1   \n",
       "3    1758.041667    1758.041667              0              0              1   \n",
       "4    1243.041667    1138.041667              1              1              2   \n",
       "\n",
       "   new_acct_fi_10  new_acct_fi_11  new_acct_fi_12  new_acct_fi_13  \\\n",
       "0               0               3               0               0   \n",
       "1               0               1               0               0   \n",
       "2               0               1               0               0   \n",
       "3               0               1               0               0   \n",
       "4               0               2               0               0   \n",
       "\n",
       "   new_acct_fi_14  new_acct_fi_15  new_acct_fi_16  new_acct_fi_17  \n",
       "0               0               0               0               3  \n",
       "1               0               0               0               1  \n",
       "2               0               0               0               1  \n",
       "3               0               0               0               1  \n",
       "4               0               0               0               2  "
      ]
     },
     "execution_count": 73,
     "metadata": {},
     "output_type": "execute_result"
    }
   ],
   "source": [
    "acct_finan_instr.head()"
   ]
  },
  {
   "cell_type": "markdown",
   "metadata": {},
   "source": [
    "Number of NaN values of each column\n"
   ]
  },
  {
   "cell_type": "code",
   "execution_count": 74,
   "metadata": {},
   "outputs": [
    {
     "data": {
      "text/plain": [
       "Series([], dtype: int64)"
      ]
     },
     "execution_count": 74,
     "metadata": {},
     "output_type": "execute_result"
    }
   ],
   "source": [
    "acct_finan_instr.isnull().sum()[acct_finan_instr.isnull().sum()>0]"
   ]
  },
  {
   "cell_type": "markdown",
   "metadata": {},
   "source": [
    "There are no missing values in this dataset, so there is no further data processing required. We shall make a copy of this dataset and call it finan_intsr"
   ]
  },
  {
   "cell_type": "code",
   "execution_count": 75,
   "metadata": {},
   "outputs": [],
   "source": [
    "finan_instr=acct_finan_instr"
   ]
  },
  {
   "cell_type": "markdown",
   "metadata": {},
   "source": [
    "\n",
    "#### New Account Receiver Engagement"
   ]
  },
  {
   "cell_type": "code",
   "execution_count": 76,
   "metadata": {},
   "outputs": [],
   "source": [
    "acct_receiver=pd.read_csv(\"data/new_acct_receiver.csv\", index_col=0)"
   ]
  },
  {
   "cell_type": "code",
   "execution_count": 77,
   "metadata": {},
   "outputs": [
    {
     "name": "stdout",
     "output_type": "stream",
     "text": [
      "The dimensions of the dataset are:  (771148, 81)\n"
     ]
    }
   ],
   "source": [
    "print(\"The dimensions of the dataset are: \", acct_receiver.shape)"
   ]
  },
  {
   "cell_type": "code",
   "execution_count": 78,
   "metadata": {},
   "outputs": [
    {
     "data": {
      "text/html": [
       "<div>\n",
       "<style scoped>\n",
       "    .dataframe tbody tr th:only-of-type {\n",
       "        vertical-align: middle;\n",
       "    }\n",
       "\n",
       "    .dataframe tbody tr th {\n",
       "        vertical-align: top;\n",
       "    }\n",
       "\n",
       "    .dataframe thead th {\n",
       "        text-align: right;\n",
       "    }\n",
       "</style>\n",
       "<table border=\"1\" class=\"dataframe\">\n",
       "  <thead>\n",
       "    <tr style=\"text-align: right;\">\n",
       "      <th></th>\n",
       "      <th>cust_id</th>\n",
       "      <th>acct_receiver_1</th>\n",
       "      <th>acct_receiver_2</th>\n",
       "      <th>acct_receiver_3</th>\n",
       "      <th>acct_receiver_4</th>\n",
       "      <th>acct_receiver_5</th>\n",
       "      <th>acct_receiver_6</th>\n",
       "      <th>acct_receiver_7</th>\n",
       "      <th>acct_receiver_8</th>\n",
       "      <th>acct_receiver_9</th>\n",
       "      <th>...</th>\n",
       "      <th>acct_receiver_71</th>\n",
       "      <th>acct_receiver_72</th>\n",
       "      <th>acct_receiver_73</th>\n",
       "      <th>acct_receiver_74</th>\n",
       "      <th>acct_receiver_75</th>\n",
       "      <th>acct_receiver_76</th>\n",
       "      <th>acct_receiver_77</th>\n",
       "      <th>acct_receiver_78</th>\n",
       "      <th>acct_receiver_79</th>\n",
       "      <th>acct_receiver_80</th>\n",
       "    </tr>\n",
       "  </thead>\n",
       "  <tbody>\n",
       "    <tr>\n",
       "      <th>0</th>\n",
       "      <td>10001463</td>\n",
       "      <td>4</td>\n",
       "      <td>3</td>\n",
       "      <td>1</td>\n",
       "      <td>0</td>\n",
       "      <td>0</td>\n",
       "      <td>5</td>\n",
       "      <td>3</td>\n",
       "      <td>1</td>\n",
       "      <td>0</td>\n",
       "      <td>...</td>\n",
       "      <td>1730.0</td>\n",
       "      <td>830.00</td>\n",
       "      <td>0.00</td>\n",
       "      <td>0.0</td>\n",
       "      <td>0.0</td>\n",
       "      <td>2</td>\n",
       "      <td>1</td>\n",
       "      <td>0</td>\n",
       "      <td>0</td>\n",
       "      <td>0</td>\n",
       "    </tr>\n",
       "    <tr>\n",
       "      <th>1</th>\n",
       "      <td>10002983</td>\n",
       "      <td>13</td>\n",
       "      <td>4</td>\n",
       "      <td>4</td>\n",
       "      <td>0</td>\n",
       "      <td>0</td>\n",
       "      <td>17</td>\n",
       "      <td>5</td>\n",
       "      <td>5</td>\n",
       "      <td>0</td>\n",
       "      <td>...</td>\n",
       "      <td>281.5</td>\n",
       "      <td>5.50</td>\n",
       "      <td>5.50</td>\n",
       "      <td>0.0</td>\n",
       "      <td>0.0</td>\n",
       "      <td>10</td>\n",
       "      <td>1</td>\n",
       "      <td>1</td>\n",
       "      <td>0</td>\n",
       "      <td>0</td>\n",
       "    </tr>\n",
       "    <tr>\n",
       "      <th>2</th>\n",
       "      <td>10006303</td>\n",
       "      <td>8</td>\n",
       "      <td>7</td>\n",
       "      <td>6</td>\n",
       "      <td>1</td>\n",
       "      <td>0</td>\n",
       "      <td>51</td>\n",
       "      <td>29</td>\n",
       "      <td>16</td>\n",
       "      <td>2</td>\n",
       "      <td>...</td>\n",
       "      <td>67.0</td>\n",
       "      <td>67.00</td>\n",
       "      <td>47.00</td>\n",
       "      <td>0.0</td>\n",
       "      <td>0.0</td>\n",
       "      <td>3</td>\n",
       "      <td>3</td>\n",
       "      <td>2</td>\n",
       "      <td>0</td>\n",
       "      <td>0</td>\n",
       "    </tr>\n",
       "    <tr>\n",
       "      <th>3</th>\n",
       "      <td>10006693</td>\n",
       "      <td>1</td>\n",
       "      <td>0</td>\n",
       "      <td>0</td>\n",
       "      <td>0</td>\n",
       "      <td>0</td>\n",
       "      <td>3</td>\n",
       "      <td>0</td>\n",
       "      <td>0</td>\n",
       "      <td>0</td>\n",
       "      <td>...</td>\n",
       "      <td>65.0</td>\n",
       "      <td>0.00</td>\n",
       "      <td>0.00</td>\n",
       "      <td>0.0</td>\n",
       "      <td>0.0</td>\n",
       "      <td>3</td>\n",
       "      <td>0</td>\n",
       "      <td>0</td>\n",
       "      <td>0</td>\n",
       "      <td>0</td>\n",
       "    </tr>\n",
       "    <tr>\n",
       "      <th>4</th>\n",
       "      <td>10015613</td>\n",
       "      <td>8</td>\n",
       "      <td>1</td>\n",
       "      <td>1</td>\n",
       "      <td>0</td>\n",
       "      <td>0</td>\n",
       "      <td>15</td>\n",
       "      <td>1</td>\n",
       "      <td>1</td>\n",
       "      <td>0</td>\n",
       "      <td>...</td>\n",
       "      <td>326.8</td>\n",
       "      <td>202.97</td>\n",
       "      <td>202.97</td>\n",
       "      <td>0.0</td>\n",
       "      <td>0.0</td>\n",
       "      <td>8</td>\n",
       "      <td>1</td>\n",
       "      <td>1</td>\n",
       "      <td>0</td>\n",
       "      <td>0</td>\n",
       "    </tr>\n",
       "  </tbody>\n",
       "</table>\n",
       "<p>5 rows × 81 columns</p>\n",
       "</div>"
      ],
      "text/plain": [
       "    cust_id  acct_receiver_1  acct_receiver_2  acct_receiver_3  \\\n",
       "0  10001463                4                3                1   \n",
       "1  10002983               13                4                4   \n",
       "2  10006303                8                7                6   \n",
       "3  10006693                1                0                0   \n",
       "4  10015613                8                1                1   \n",
       "\n",
       "   acct_receiver_4  acct_receiver_5  acct_receiver_6  acct_receiver_7  \\\n",
       "0                0                0                5                3   \n",
       "1                0                0               17                5   \n",
       "2                1                0               51               29   \n",
       "3                0                0                3                0   \n",
       "4                0                0               15                1   \n",
       "\n",
       "   acct_receiver_8  acct_receiver_9  ...  acct_receiver_71  acct_receiver_72  \\\n",
       "0                1                0  ...            1730.0            830.00   \n",
       "1                5                0  ...             281.5              5.50   \n",
       "2               16                2  ...              67.0             67.00   \n",
       "3                0                0  ...              65.0              0.00   \n",
       "4                1                0  ...             326.8            202.97   \n",
       "\n",
       "   acct_receiver_73  acct_receiver_74  acct_receiver_75  acct_receiver_76  \\\n",
       "0              0.00               0.0               0.0                 2   \n",
       "1              5.50               0.0               0.0                10   \n",
       "2             47.00               0.0               0.0                 3   \n",
       "3              0.00               0.0               0.0                 3   \n",
       "4            202.97               0.0               0.0                 8   \n",
       "\n",
       "   acct_receiver_77  acct_receiver_78  acct_receiver_79  acct_receiver_80  \n",
       "0                 1                 0                 0                 0  \n",
       "1                 1                 1                 0                 0  \n",
       "2                 3                 2                 0                 0  \n",
       "3                 0                 0                 0                 0  \n",
       "4                 1                 1                 0                 0  \n",
       "\n",
       "[5 rows x 81 columns]"
      ]
     },
     "execution_count": 78,
     "metadata": {},
     "output_type": "execute_result"
    }
   ],
   "source": [
    "acct_receiver.head()"
   ]
  },
  {
   "cell_type": "markdown",
   "metadata": {},
   "source": [
    "Number of NaN values of each column"
   ]
  },
  {
   "cell_type": "code",
   "execution_count": 79,
   "metadata": {},
   "outputs": [
    {
     "data": {
      "text/plain": [
       "Series([], dtype: int64)"
      ]
     },
     "execution_count": 79,
     "metadata": {},
     "output_type": "execute_result"
    }
   ],
   "source": [
    "acct_receiver.isnull().sum()[acct_receiver.isnull().sum()>0]"
   ]
  },
  {
   "cell_type": "markdown",
   "metadata": {},
   "source": [
    "There are no missing values in this dataset, so there is no further data processing required. We shall make a copy of this dataset and call it receiver"
   ]
  },
  {
   "cell_type": "code",
   "execution_count": 80,
   "metadata": {},
   "outputs": [],
   "source": [
    "receiver=acct_receiver"
   ]
  },
  {
   "cell_type": "markdown",
   "metadata": {},
   "source": [
    "\n",
    "#### New Account Sender Engagement"
   ]
  },
  {
   "cell_type": "code",
   "execution_count": 81,
   "metadata": {},
   "outputs": [],
   "source": [
    "acct_sender=pd.read_csv(\"data/new_acct_sender.csv\", index_col=0)"
   ]
  },
  {
   "cell_type": "code",
   "execution_count": 82,
   "metadata": {},
   "outputs": [
    {
     "name": "stdout",
     "output_type": "stream",
     "text": [
      "The dimensions of the dataset are:  (841975, 112)\n"
     ]
    }
   ],
   "source": [
    "print(\"The dimensions of the dataset are: \", acct_sender.shape)"
   ]
  },
  {
   "cell_type": "code",
   "execution_count": 83,
   "metadata": {},
   "outputs": [
    {
     "data": {
      "text/html": [
       "<div>\n",
       "<style scoped>\n",
       "    .dataframe tbody tr th:only-of-type {\n",
       "        vertical-align: middle;\n",
       "    }\n",
       "\n",
       "    .dataframe tbody tr th {\n",
       "        vertical-align: top;\n",
       "    }\n",
       "\n",
       "    .dataframe thead th {\n",
       "        text-align: right;\n",
       "    }\n",
       "</style>\n",
       "<table border=\"1\" class=\"dataframe\">\n",
       "  <thead>\n",
       "    <tr style=\"text-align: right;\">\n",
       "      <th></th>\n",
       "      <th>cust_id</th>\n",
       "      <th>accnt_sender_1</th>\n",
       "      <th>accnt_sender_2</th>\n",
       "      <th>accnt_sender_3</th>\n",
       "      <th>accnt_sender_4</th>\n",
       "      <th>accnt_sender_5</th>\n",
       "      <th>accnt_sender_6</th>\n",
       "      <th>accnt_sender_7</th>\n",
       "      <th>accnt_sender_8</th>\n",
       "      <th>accnt_sender_9</th>\n",
       "      <th>...</th>\n",
       "      <th>accnt_sender_102</th>\n",
       "      <th>accnt_sender_103</th>\n",
       "      <th>accnt_sender_104</th>\n",
       "      <th>accnt_sender_105</th>\n",
       "      <th>accnt_sender_106</th>\n",
       "      <th>accnt_sender_107</th>\n",
       "      <th>accnt_sender_108</th>\n",
       "      <th>accnt_sender_109</th>\n",
       "      <th>accnt_sender_110</th>\n",
       "      <th>accnt_sender_111</th>\n",
       "    </tr>\n",
       "  </thead>\n",
       "  <tbody>\n",
       "    <tr>\n",
       "      <th>0</th>\n",
       "      <td>10003741</td>\n",
       "      <td>5</td>\n",
       "      <td>3</td>\n",
       "      <td>2</td>\n",
       "      <td>1</td>\n",
       "      <td>0</td>\n",
       "      <td>0</td>\n",
       "      <td>0</td>\n",
       "      <td>0</td>\n",
       "      <td>0</td>\n",
       "      <td>...</td>\n",
       "      <td>0.00</td>\n",
       "      <td>0.00</td>\n",
       "      <td>0.00</td>\n",
       "      <td>0.0</td>\n",
       "      <td>0.0</td>\n",
       "      <td>0</td>\n",
       "      <td>0</td>\n",
       "      <td>0</td>\n",
       "      <td>0</td>\n",
       "      <td>0</td>\n",
       "    </tr>\n",
       "    <tr>\n",
       "      <th>1</th>\n",
       "      <td>10004362</td>\n",
       "      <td>17</td>\n",
       "      <td>9</td>\n",
       "      <td>6</td>\n",
       "      <td>3</td>\n",
       "      <td>1</td>\n",
       "      <td>2</td>\n",
       "      <td>0</td>\n",
       "      <td>0</td>\n",
       "      <td>0</td>\n",
       "      <td>...</td>\n",
       "      <td>0.00</td>\n",
       "      <td>0.00</td>\n",
       "      <td>0.00</td>\n",
       "      <td>0.0</td>\n",
       "      <td>0.0</td>\n",
       "      <td>0</td>\n",
       "      <td>0</td>\n",
       "      <td>0</td>\n",
       "      <td>0</td>\n",
       "      <td>0</td>\n",
       "    </tr>\n",
       "    <tr>\n",
       "      <th>2</th>\n",
       "      <td>1001738</td>\n",
       "      <td>8</td>\n",
       "      <td>7</td>\n",
       "      <td>6</td>\n",
       "      <td>5</td>\n",
       "      <td>2</td>\n",
       "      <td>0</td>\n",
       "      <td>0</td>\n",
       "      <td>0</td>\n",
       "      <td>0</td>\n",
       "      <td>...</td>\n",
       "      <td>0.00</td>\n",
       "      <td>0.00</td>\n",
       "      <td>0.00</td>\n",
       "      <td>0.0</td>\n",
       "      <td>0.0</td>\n",
       "      <td>0</td>\n",
       "      <td>0</td>\n",
       "      <td>0</td>\n",
       "      <td>0</td>\n",
       "      <td>0</td>\n",
       "    </tr>\n",
       "    <tr>\n",
       "      <th>3</th>\n",
       "      <td>10021750</td>\n",
       "      <td>19</td>\n",
       "      <td>5</td>\n",
       "      <td>4</td>\n",
       "      <td>3</td>\n",
       "      <td>0</td>\n",
       "      <td>0</td>\n",
       "      <td>0</td>\n",
       "      <td>0</td>\n",
       "      <td>0</td>\n",
       "      <td>...</td>\n",
       "      <td>0.00</td>\n",
       "      <td>0.00</td>\n",
       "      <td>0.00</td>\n",
       "      <td>0.0</td>\n",
       "      <td>0.0</td>\n",
       "      <td>0</td>\n",
       "      <td>0</td>\n",
       "      <td>0</td>\n",
       "      <td>0</td>\n",
       "      <td>0</td>\n",
       "    </tr>\n",
       "    <tr>\n",
       "      <th>4</th>\n",
       "      <td>10033036</td>\n",
       "      <td>4</td>\n",
       "      <td>3</td>\n",
       "      <td>3</td>\n",
       "      <td>1</td>\n",
       "      <td>0</td>\n",
       "      <td>1</td>\n",
       "      <td>1</td>\n",
       "      <td>1</td>\n",
       "      <td>0</td>\n",
       "      <td>...</td>\n",
       "      <td>12.02</td>\n",
       "      <td>12.02</td>\n",
       "      <td>12.02</td>\n",
       "      <td>0.0</td>\n",
       "      <td>0.0</td>\n",
       "      <td>4</td>\n",
       "      <td>4</td>\n",
       "      <td>4</td>\n",
       "      <td>0</td>\n",
       "      <td>0</td>\n",
       "    </tr>\n",
       "  </tbody>\n",
       "</table>\n",
       "<p>5 rows × 112 columns</p>\n",
       "</div>"
      ],
      "text/plain": [
       "    cust_id  accnt_sender_1  accnt_sender_2  accnt_sender_3  accnt_sender_4  \\\n",
       "0  10003741               5               3               2               1   \n",
       "1  10004362              17               9               6               3   \n",
       "2   1001738               8               7               6               5   \n",
       "3  10021750              19               5               4               3   \n",
       "4  10033036               4               3               3               1   \n",
       "\n",
       "   accnt_sender_5  accnt_sender_6  accnt_sender_7  accnt_sender_8  \\\n",
       "0               0               0               0               0   \n",
       "1               1               2               0               0   \n",
       "2               2               0               0               0   \n",
       "3               0               0               0               0   \n",
       "4               0               1               1               1   \n",
       "\n",
       "   accnt_sender_9  ...  accnt_sender_102  accnt_sender_103  accnt_sender_104  \\\n",
       "0               0  ...              0.00              0.00              0.00   \n",
       "1               0  ...              0.00              0.00              0.00   \n",
       "2               0  ...              0.00              0.00              0.00   \n",
       "3               0  ...              0.00              0.00              0.00   \n",
       "4               0  ...             12.02             12.02             12.02   \n",
       "\n",
       "   accnt_sender_105  accnt_sender_106  accnt_sender_107  accnt_sender_108  \\\n",
       "0               0.0               0.0                 0                 0   \n",
       "1               0.0               0.0                 0                 0   \n",
       "2               0.0               0.0                 0                 0   \n",
       "3               0.0               0.0                 0                 0   \n",
       "4               0.0               0.0                 4                 4   \n",
       "\n",
       "   accnt_sender_109  accnt_sender_110  accnt_sender_111  \n",
       "0                 0                 0                 0  \n",
       "1                 0                 0                 0  \n",
       "2                 0                 0                 0  \n",
       "3                 0                 0                 0  \n",
       "4                 4                 0                 0  \n",
       "\n",
       "[5 rows x 112 columns]"
      ]
     },
     "execution_count": 83,
     "metadata": {},
     "output_type": "execute_result"
    }
   ],
   "source": [
    "acct_sender.head()"
   ]
  },
  {
   "cell_type": "markdown",
   "metadata": {},
   "source": [
    "Number of NaN values of each column"
   ]
  },
  {
   "cell_type": "code",
   "execution_count": 84,
   "metadata": {},
   "outputs": [
    {
     "data": {
      "text/plain": [
       "Series([], dtype: int64)"
      ]
     },
     "execution_count": 84,
     "metadata": {},
     "output_type": "execute_result"
    }
   ],
   "source": [
    "acct_sender.isnull().sum()[acct_sender.isnull().sum()>0]"
   ]
  },
  {
   "cell_type": "markdown",
   "metadata": {},
   "source": [
    "There are no missing values in this dataset, so there is no further data processing required. We shall make a copy of this dataset and call it sender"
   ]
  },
  {
   "cell_type": "code",
   "execution_count": 85,
   "metadata": {},
   "outputs": [],
   "source": [
    "sender=acct_sender"
   ]
  },
  {
   "cell_type": "markdown",
   "metadata": {},
   "source": [
    "\n",
    "#### New Account Memo sent"
   ]
  },
  {
   "cell_type": "code",
   "execution_count": 86,
   "metadata": {},
   "outputs": [],
   "source": [
    "acct_memo_sent=pd.read_csv(\"data/new_acct_memo_sent.csv\", index_col=0)"
   ]
  },
  {
   "cell_type": "code",
   "execution_count": 87,
   "metadata": {},
   "outputs": [
    {
     "name": "stdout",
     "output_type": "stream",
     "text": [
      "The dimensions of the dataset are:  (841975, 53)\n"
     ]
    }
   ],
   "source": [
    "print(\"The dimensions of the dataset are: \", acct_memo_sent.shape)"
   ]
  },
  {
   "cell_type": "code",
   "execution_count": 88,
   "metadata": {},
   "outputs": [
    {
     "data": {
      "text/html": [
       "<div>\n",
       "<style scoped>\n",
       "    .dataframe tbody tr th:only-of-type {\n",
       "        vertical-align: middle;\n",
       "    }\n",
       "\n",
       "    .dataframe tbody tr th {\n",
       "        vertical-align: top;\n",
       "    }\n",
       "\n",
       "    .dataframe thead th {\n",
       "        text-align: right;\n",
       "    }\n",
       "</style>\n",
       "<table border=\"1\" class=\"dataframe\">\n",
       "  <thead>\n",
       "    <tr style=\"text-align: right;\">\n",
       "      <th></th>\n",
       "      <th>cust_id</th>\n",
       "      <th>new_acct_memo_sent_1</th>\n",
       "      <th>new_acct_memo_sent_2</th>\n",
       "      <th>new_acct_memo_sent_3</th>\n",
       "      <th>new_acct_memo_sent_4</th>\n",
       "      <th>new_acct_memo_sent_5</th>\n",
       "      <th>new_acct_memo_sent_6</th>\n",
       "      <th>new_acct_memo_sent_7</th>\n",
       "      <th>new_acct_memo_sent_8</th>\n",
       "      <th>new_acct_memo_sent_9</th>\n",
       "      <th>...</th>\n",
       "      <th>new_acct_memo_sent_43</th>\n",
       "      <th>new_acct_memo_sent_44</th>\n",
       "      <th>new_acct_memo_sent_45</th>\n",
       "      <th>new_acct_memo_sent_46</th>\n",
       "      <th>new_acct_memo_sent_47</th>\n",
       "      <th>new_acct_memo_sent_48</th>\n",
       "      <th>new_acct_memo_sent_49</th>\n",
       "      <th>new_acct_memo_sent_50</th>\n",
       "      <th>new_acct_memo_sent_51</th>\n",
       "      <th>new_acct_memo_sent_52</th>\n",
       "    </tr>\n",
       "  </thead>\n",
       "  <tbody>\n",
       "    <tr>\n",
       "      <th>0</th>\n",
       "      <td>10001681</td>\n",
       "      <td>12</td>\n",
       "      <td>105.70</td>\n",
       "      <td>17.5</td>\n",
       "      <td>2.642500</td>\n",
       "      <td>0</td>\n",
       "      <td>0.0</td>\n",
       "      <td>0.0</td>\n",
       "      <td>0.0</td>\n",
       "      <td>3</td>\n",
       "      <td>...</td>\n",
       "      <td>400.0</td>\n",
       "      <td>14.436250</td>\n",
       "      <td>0</td>\n",
       "      <td>0.0</td>\n",
       "      <td>0.0</td>\n",
       "      <td>0.0</td>\n",
       "      <td>0</td>\n",
       "      <td>0.00</td>\n",
       "      <td>0.00</td>\n",
       "      <td>0.000000</td>\n",
       "    </tr>\n",
       "    <tr>\n",
       "      <th>1</th>\n",
       "      <td>10002304</td>\n",
       "      <td>2</td>\n",
       "      <td>61.00</td>\n",
       "      <td>55.0</td>\n",
       "      <td>1.452381</td>\n",
       "      <td>0</td>\n",
       "      <td>0.0</td>\n",
       "      <td>0.0</td>\n",
       "      <td>0.0</td>\n",
       "      <td>1</td>\n",
       "      <td>...</td>\n",
       "      <td>0.0</td>\n",
       "      <td>0.000000</td>\n",
       "      <td>0</td>\n",
       "      <td>0.0</td>\n",
       "      <td>0.0</td>\n",
       "      <td>0.0</td>\n",
       "      <td>2</td>\n",
       "      <td>47.00</td>\n",
       "      <td>27.00</td>\n",
       "      <td>1.119048</td>\n",
       "    </tr>\n",
       "    <tr>\n",
       "      <th>2</th>\n",
       "      <td>10002835</td>\n",
       "      <td>12</td>\n",
       "      <td>201.39</td>\n",
       "      <td>71.0</td>\n",
       "      <td>2.615455</td>\n",
       "      <td>0</td>\n",
       "      <td>0.0</td>\n",
       "      <td>0.0</td>\n",
       "      <td>0.0</td>\n",
       "      <td>0</td>\n",
       "      <td>...</td>\n",
       "      <td>72.0</td>\n",
       "      <td>0.935065</td>\n",
       "      <td>0</td>\n",
       "      <td>0.0</td>\n",
       "      <td>0.0</td>\n",
       "      <td>0.0</td>\n",
       "      <td>3</td>\n",
       "      <td>128.16</td>\n",
       "      <td>78.16</td>\n",
       "      <td>1.664416</td>\n",
       "    </tr>\n",
       "    <tr>\n",
       "      <th>3</th>\n",
       "      <td>10004172</td>\n",
       "      <td>1</td>\n",
       "      <td>6.00</td>\n",
       "      <td>6.0</td>\n",
       "      <td>0.750000</td>\n",
       "      <td>0</td>\n",
       "      <td>0.0</td>\n",
       "      <td>0.0</td>\n",
       "      <td>0.0</td>\n",
       "      <td>0</td>\n",
       "      <td>...</td>\n",
       "      <td>20.0</td>\n",
       "      <td>2.500000</td>\n",
       "      <td>0</td>\n",
       "      <td>0.0</td>\n",
       "      <td>0.0</td>\n",
       "      <td>0.0</td>\n",
       "      <td>0</td>\n",
       "      <td>0.00</td>\n",
       "      <td>0.00</td>\n",
       "      <td>0.000000</td>\n",
       "    </tr>\n",
       "    <tr>\n",
       "      <th>4</th>\n",
       "      <td>10004933</td>\n",
       "      <td>5</td>\n",
       "      <td>108.30</td>\n",
       "      <td>65.0</td>\n",
       "      <td>9.025000</td>\n",
       "      <td>0</td>\n",
       "      <td>0.0</td>\n",
       "      <td>0.0</td>\n",
       "      <td>0.0</td>\n",
       "      <td>0</td>\n",
       "      <td>...</td>\n",
       "      <td>0.0</td>\n",
       "      <td>0.000000</td>\n",
       "      <td>0</td>\n",
       "      <td>0.0</td>\n",
       "      <td>0.0</td>\n",
       "      <td>0.0</td>\n",
       "      <td>0</td>\n",
       "      <td>0.00</td>\n",
       "      <td>0.00</td>\n",
       "      <td>0.000000</td>\n",
       "    </tr>\n",
       "  </tbody>\n",
       "</table>\n",
       "<p>5 rows × 53 columns</p>\n",
       "</div>"
      ],
      "text/plain": [
       "    cust_id  new_acct_memo_sent_1  new_acct_memo_sent_2  new_acct_memo_sent_3  \\\n",
       "0  10001681                    12                105.70                  17.5   \n",
       "1  10002304                     2                 61.00                  55.0   \n",
       "2  10002835                    12                201.39                  71.0   \n",
       "3  10004172                     1                  6.00                   6.0   \n",
       "4  10004933                     5                108.30                  65.0   \n",
       "\n",
       "   new_acct_memo_sent_4  new_acct_memo_sent_5  new_acct_memo_sent_6  \\\n",
       "0              2.642500                     0                   0.0   \n",
       "1              1.452381                     0                   0.0   \n",
       "2              2.615455                     0                   0.0   \n",
       "3              0.750000                     0                   0.0   \n",
       "4              9.025000                     0                   0.0   \n",
       "\n",
       "   new_acct_memo_sent_7  new_acct_memo_sent_8  new_acct_memo_sent_9  ...  \\\n",
       "0                   0.0                   0.0                     3  ...   \n",
       "1                   0.0                   0.0                     1  ...   \n",
       "2                   0.0                   0.0                     0  ...   \n",
       "3                   0.0                   0.0                     0  ...   \n",
       "4                   0.0                   0.0                     0  ...   \n",
       "\n",
       "   new_acct_memo_sent_43  new_acct_memo_sent_44  new_acct_memo_sent_45  \\\n",
       "0                  400.0              14.436250                      0   \n",
       "1                    0.0               0.000000                      0   \n",
       "2                   72.0               0.935065                      0   \n",
       "3                   20.0               2.500000                      0   \n",
       "4                    0.0               0.000000                      0   \n",
       "\n",
       "   new_acct_memo_sent_46  new_acct_memo_sent_47  new_acct_memo_sent_48  \\\n",
       "0                    0.0                    0.0                    0.0   \n",
       "1                    0.0                    0.0                    0.0   \n",
       "2                    0.0                    0.0                    0.0   \n",
       "3                    0.0                    0.0                    0.0   \n",
       "4                    0.0                    0.0                    0.0   \n",
       "\n",
       "   new_acct_memo_sent_49  new_acct_memo_sent_50  new_acct_memo_sent_51  \\\n",
       "0                      0                   0.00                   0.00   \n",
       "1                      2                  47.00                  27.00   \n",
       "2                      3                 128.16                  78.16   \n",
       "3                      0                   0.00                   0.00   \n",
       "4                      0                   0.00                   0.00   \n",
       "\n",
       "   new_acct_memo_sent_52  \n",
       "0               0.000000  \n",
       "1               1.119048  \n",
       "2               1.664416  \n",
       "3               0.000000  \n",
       "4               0.000000  \n",
       "\n",
       "[5 rows x 53 columns]"
      ]
     },
     "execution_count": 88,
     "metadata": {},
     "output_type": "execute_result"
    }
   ],
   "source": [
    "acct_memo_sent.head()"
   ]
  },
  {
   "cell_type": "markdown",
   "metadata": {},
   "source": [
    "Number of NaN values of each column"
   ]
  },
  {
   "cell_type": "code",
   "execution_count": 89,
   "metadata": {},
   "outputs": [
    {
     "data": {
      "text/plain": [
       "Series([], dtype: int64)"
      ]
     },
     "execution_count": 89,
     "metadata": {},
     "output_type": "execute_result"
    }
   ],
   "source": [
    "acct_memo_sent.isnull().sum()[acct_memo_sent.isnull().sum()>0]"
   ]
  },
  {
   "cell_type": "markdown",
   "metadata": {},
   "source": [
    "There are no missing values in this dataset, so there is no further data processing required. We shall make a copy of this dataset and call it memo_sent"
   ]
  },
  {
   "cell_type": "code",
   "execution_count": 90,
   "metadata": {},
   "outputs": [],
   "source": [
    "memo_sent=acct_memo_sent"
   ]
  },
  {
   "cell_type": "markdown",
   "metadata": {},
   "source": [
    "\n",
    "#### New Account Memo received"
   ]
  },
  {
   "cell_type": "code",
   "execution_count": 91,
   "metadata": {},
   "outputs": [],
   "source": [
    "acct_memo_received=pd.read_csv(\"data/new_acct_memo_rcv.csv\", index_col=0)"
   ]
  },
  {
   "cell_type": "code",
   "execution_count": 92,
   "metadata": {},
   "outputs": [
    {
     "name": "stdout",
     "output_type": "stream",
     "text": [
      "The dimensions of the dataset are:  (771148, 53)\n"
     ]
    }
   ],
   "source": [
    "print(\"The dimensions of the dataset are: \", acct_memo_received.shape)"
   ]
  },
  {
   "cell_type": "code",
   "execution_count": 93,
   "metadata": {},
   "outputs": [
    {
     "data": {
      "text/html": [
       "<div>\n",
       "<style scoped>\n",
       "    .dataframe tbody tr th:only-of-type {\n",
       "        vertical-align: middle;\n",
       "    }\n",
       "\n",
       "    .dataframe tbody tr th {\n",
       "        vertical-align: top;\n",
       "    }\n",
       "\n",
       "    .dataframe thead th {\n",
       "        text-align: right;\n",
       "    }\n",
       "</style>\n",
       "<table border=\"1\" class=\"dataframe\">\n",
       "  <thead>\n",
       "    <tr style=\"text-align: right;\">\n",
       "      <th></th>\n",
       "      <th>cust_id</th>\n",
       "      <th>new_acct_memo_rcv_1</th>\n",
       "      <th>new_acct_memo_rcv_2</th>\n",
       "      <th>new_acct_memo_rcv_3</th>\n",
       "      <th>new_acct_memo_rcv_4</th>\n",
       "      <th>new_acct_memo_rcv_5</th>\n",
       "      <th>new_acct_memo_rcv_6</th>\n",
       "      <th>new_acct_memo_rcv_7</th>\n",
       "      <th>new_acct_memo_rcv_8</th>\n",
       "      <th>new_acct_memo_rcv_9</th>\n",
       "      <th>...</th>\n",
       "      <th>new_acct_memo_rcv_43</th>\n",
       "      <th>new_acct_memo_rcv_44</th>\n",
       "      <th>new_acct_memo_rcv_45</th>\n",
       "      <th>new_acct_memo_rcv_46</th>\n",
       "      <th>new_acct_memo_rcv_47</th>\n",
       "      <th>new_acct_memo_rcv_48</th>\n",
       "      <th>new_acct_memo_rcv_49</th>\n",
       "      <th>new_acct_memo_rcv_50</th>\n",
       "      <th>new_acct_memo_rcv_51</th>\n",
       "      <th>new_acct_memo_rcv_52</th>\n",
       "    </tr>\n",
       "  </thead>\n",
       "  <tbody>\n",
       "    <tr>\n",
       "      <th>0</th>\n",
       "      <td>10001395</td>\n",
       "      <td>1</td>\n",
       "      <td>5.0</td>\n",
       "      <td>5.0</td>\n",
       "      <td>0.238095</td>\n",
       "      <td>0</td>\n",
       "      <td>0.0</td>\n",
       "      <td>0.0</td>\n",
       "      <td>0.0</td>\n",
       "      <td>4</td>\n",
       "      <td>...</td>\n",
       "      <td>0.0</td>\n",
       "      <td>0.0</td>\n",
       "      <td>0</td>\n",
       "      <td>0.0</td>\n",
       "      <td>0.0</td>\n",
       "      <td>0.0</td>\n",
       "      <td>0</td>\n",
       "      <td>0.0</td>\n",
       "      <td>0.0</td>\n",
       "      <td>0.000000</td>\n",
       "    </tr>\n",
       "    <tr>\n",
       "      <th>1</th>\n",
       "      <td>10001440</td>\n",
       "      <td>1</td>\n",
       "      <td>25.0</td>\n",
       "      <td>25.0</td>\n",
       "      <td>0.961538</td>\n",
       "      <td>0</td>\n",
       "      <td>0.0</td>\n",
       "      <td>0.0</td>\n",
       "      <td>0.0</td>\n",
       "      <td>0</td>\n",
       "      <td>...</td>\n",
       "      <td>0.0</td>\n",
       "      <td>0.0</td>\n",
       "      <td>0</td>\n",
       "      <td>0.0</td>\n",
       "      <td>0.0</td>\n",
       "      <td>0.0</td>\n",
       "      <td>0</td>\n",
       "      <td>0.0</td>\n",
       "      <td>0.0</td>\n",
       "      <td>0.000000</td>\n",
       "    </tr>\n",
       "    <tr>\n",
       "      <th>2</th>\n",
       "      <td>10001463</td>\n",
       "      <td>0</td>\n",
       "      <td>0.0</td>\n",
       "      <td>0.0</td>\n",
       "      <td>0.000000</td>\n",
       "      <td>0</td>\n",
       "      <td>0.0</td>\n",
       "      <td>0.0</td>\n",
       "      <td>0.0</td>\n",
       "      <td>0</td>\n",
       "      <td>...</td>\n",
       "      <td>0.0</td>\n",
       "      <td>0.0</td>\n",
       "      <td>0</td>\n",
       "      <td>0.0</td>\n",
       "      <td>0.0</td>\n",
       "      <td>0.0</td>\n",
       "      <td>0</td>\n",
       "      <td>0.0</td>\n",
       "      <td>0.0</td>\n",
       "      <td>0.000000</td>\n",
       "    </tr>\n",
       "    <tr>\n",
       "      <th>3</th>\n",
       "      <td>10001681</td>\n",
       "      <td>2</td>\n",
       "      <td>17.0</td>\n",
       "      <td>9.0</td>\n",
       "      <td>1.307692</td>\n",
       "      <td>0</td>\n",
       "      <td>0.0</td>\n",
       "      <td>0.0</td>\n",
       "      <td>0.0</td>\n",
       "      <td>0</td>\n",
       "      <td>...</td>\n",
       "      <td>0.0</td>\n",
       "      <td>0.0</td>\n",
       "      <td>0</td>\n",
       "      <td>0.0</td>\n",
       "      <td>0.0</td>\n",
       "      <td>0.0</td>\n",
       "      <td>1</td>\n",
       "      <td>9.0</td>\n",
       "      <td>9.0</td>\n",
       "      <td>0.692308</td>\n",
       "    </tr>\n",
       "    <tr>\n",
       "      <th>4</th>\n",
       "      <td>10001834</td>\n",
       "      <td>0</td>\n",
       "      <td>0.0</td>\n",
       "      <td>0.0</td>\n",
       "      <td>0.000000</td>\n",
       "      <td>0</td>\n",
       "      <td>0.0</td>\n",
       "      <td>0.0</td>\n",
       "      <td>0.0</td>\n",
       "      <td>0</td>\n",
       "      <td>...</td>\n",
       "      <td>0.0</td>\n",
       "      <td>0.0</td>\n",
       "      <td>0</td>\n",
       "      <td>0.0</td>\n",
       "      <td>0.0</td>\n",
       "      <td>0.0</td>\n",
       "      <td>0</td>\n",
       "      <td>0.0</td>\n",
       "      <td>0.0</td>\n",
       "      <td>0.000000</td>\n",
       "    </tr>\n",
       "  </tbody>\n",
       "</table>\n",
       "<p>5 rows × 53 columns</p>\n",
       "</div>"
      ],
      "text/plain": [
       "    cust_id  new_acct_memo_rcv_1  new_acct_memo_rcv_2  new_acct_memo_rcv_3  \\\n",
       "0  10001395                    1                  5.0                  5.0   \n",
       "1  10001440                    1                 25.0                 25.0   \n",
       "2  10001463                    0                  0.0                  0.0   \n",
       "3  10001681                    2                 17.0                  9.0   \n",
       "4  10001834                    0                  0.0                  0.0   \n",
       "\n",
       "   new_acct_memo_rcv_4  new_acct_memo_rcv_5  new_acct_memo_rcv_6  \\\n",
       "0             0.238095                    0                  0.0   \n",
       "1             0.961538                    0                  0.0   \n",
       "2             0.000000                    0                  0.0   \n",
       "3             1.307692                    0                  0.0   \n",
       "4             0.000000                    0                  0.0   \n",
       "\n",
       "   new_acct_memo_rcv_7  new_acct_memo_rcv_8  new_acct_memo_rcv_9  ...  \\\n",
       "0                  0.0                  0.0                    4  ...   \n",
       "1                  0.0                  0.0                    0  ...   \n",
       "2                  0.0                  0.0                    0  ...   \n",
       "3                  0.0                  0.0                    0  ...   \n",
       "4                  0.0                  0.0                    0  ...   \n",
       "\n",
       "   new_acct_memo_rcv_43  new_acct_memo_rcv_44  new_acct_memo_rcv_45  \\\n",
       "0                   0.0                   0.0                     0   \n",
       "1                   0.0                   0.0                     0   \n",
       "2                   0.0                   0.0                     0   \n",
       "3                   0.0                   0.0                     0   \n",
       "4                   0.0                   0.0                     0   \n",
       "\n",
       "   new_acct_memo_rcv_46  new_acct_memo_rcv_47  new_acct_memo_rcv_48  \\\n",
       "0                   0.0                   0.0                   0.0   \n",
       "1                   0.0                   0.0                   0.0   \n",
       "2                   0.0                   0.0                   0.0   \n",
       "3                   0.0                   0.0                   0.0   \n",
       "4                   0.0                   0.0                   0.0   \n",
       "\n",
       "   new_acct_memo_rcv_49  new_acct_memo_rcv_50  new_acct_memo_rcv_51  \\\n",
       "0                     0                   0.0                   0.0   \n",
       "1                     0                   0.0                   0.0   \n",
       "2                     0                   0.0                   0.0   \n",
       "3                     1                   9.0                   9.0   \n",
       "4                     0                   0.0                   0.0   \n",
       "\n",
       "   new_acct_memo_rcv_52  \n",
       "0              0.000000  \n",
       "1              0.000000  \n",
       "2              0.000000  \n",
       "3              0.692308  \n",
       "4              0.000000  \n",
       "\n",
       "[5 rows x 53 columns]"
      ]
     },
     "execution_count": 93,
     "metadata": {},
     "output_type": "execute_result"
    }
   ],
   "source": [
    "acct_memo_received.head()"
   ]
  },
  {
   "cell_type": "markdown",
   "metadata": {},
   "source": [
    "Number of NaN values of each column"
   ]
  },
  {
   "cell_type": "code",
   "execution_count": 94,
   "metadata": {},
   "outputs": [
    {
     "data": {
      "text/plain": [
       "Series([], dtype: int64)"
      ]
     },
     "execution_count": 94,
     "metadata": {},
     "output_type": "execute_result"
    }
   ],
   "source": [
    "acct_memo_received.isnull().sum()[acct_memo_received.isnull().sum()>0]"
   ]
  },
  {
   "cell_type": "markdown",
   "metadata": {},
   "source": [
    "There are no missing values in this dataset, so there is no further data processing required. We shall make a copy of this dataset and call it memo_rcv"
   ]
  },
  {
   "cell_type": "code",
   "execution_count": 95,
   "metadata": {},
   "outputs": [],
   "source": [
    "memo_rcv=acct_memo_received"
   ]
  },
  {
   "cell_type": "markdown",
   "metadata": {},
   "source": [
    "### Combining all the train data"
   ]
  },
  {
   "cell_type": "code",
   "execution_count": 96,
   "metadata": {},
   "outputs": [
    {
     "name": "stdout",
     "output_type": "stream",
     "text": [
      "Number of datapoints of class 0 =  640000\n",
      "Number of datapoints of class 1 =  80000\n"
     ]
    }
   ],
   "source": [
    "base_train = pd.read_csv(\"data/train_df.csv\")\n",
    "print(\"Number of datapoints of class 0 = \",(base_train[\"target\"] == 0).astype(int).sum())\n",
    "print(\"Number of datapoints of class 1 = \",(base_train[\"target\"] == 1).astype(int).sum())\n"
   ]
  },
  {
   "cell_type": "code",
   "execution_count": 97,
   "metadata": {},
   "outputs": [],
   "source": [
    "base_test = pd.read_csv(\"data/test_cust_id.csv\")"
   ]
  },
  {
   "cell_type": "code",
   "execution_count": 98,
   "metadata": {},
   "outputs": [
    {
     "data": {
      "text/html": [
       "<div>\n",
       "<style scoped>\n",
       "    .dataframe tbody tr th:only-of-type {\n",
       "        vertical-align: middle;\n",
       "    }\n",
       "\n",
       "    .dataframe tbody tr th {\n",
       "        vertical-align: top;\n",
       "    }\n",
       "\n",
       "    .dataframe thead th {\n",
       "        text-align: right;\n",
       "    }\n",
       "</style>\n",
       "<table border=\"1\" class=\"dataframe\">\n",
       "  <thead>\n",
       "    <tr style=\"text-align: right;\">\n",
       "      <th></th>\n",
       "      <th>cust_id</th>\n",
       "      <th>target</th>\n",
       "    </tr>\n",
       "  </thead>\n",
       "  <tbody>\n",
       "    <tr>\n",
       "      <th>0</th>\n",
       "      <td>46006086</td>\n",
       "      <td>0.0</td>\n",
       "    </tr>\n",
       "    <tr>\n",
       "      <th>1</th>\n",
       "      <td>13494269</td>\n",
       "      <td>0.0</td>\n",
       "    </tr>\n",
       "    <tr>\n",
       "      <th>2</th>\n",
       "      <td>58609039</td>\n",
       "      <td>0.0</td>\n",
       "    </tr>\n",
       "    <tr>\n",
       "      <th>3</th>\n",
       "      <td>14920847</td>\n",
       "      <td>0.0</td>\n",
       "    </tr>\n",
       "    <tr>\n",
       "      <th>4</th>\n",
       "      <td>59616399</td>\n",
       "      <td>1.0</td>\n",
       "    </tr>\n",
       "  </tbody>\n",
       "</table>\n",
       "</div>"
      ],
      "text/plain": [
       "    cust_id  target\n",
       "0  46006086     0.0\n",
       "1  13494269     0.0\n",
       "2  58609039     0.0\n",
       "3  14920847     0.0\n",
       "4  59616399     1.0"
      ]
     },
     "execution_count": 98,
     "metadata": {},
     "output_type": "execute_result"
    }
   ],
   "source": [
    "base_train.head()"
   ]
  },
  {
   "cell_type": "markdown",
   "metadata": {},
   "source": [
    "It's important to keep in mind the class imbalance that we keep above in later analyses "
   ]
  },
  {
   "cell_type": "code",
   "execution_count": 99,
   "metadata": {},
   "outputs": [],
   "source": [
    "to_merge=[cash_fail, finan_instr,fraud,sender,receiver,memo_sent,memo_rcv]\n",
    "total = reduce(lambda  left,right: pd.merge(left,right,on=['cust_id'], how='outer'), to_merge)"
   ]
  },
  {
   "cell_type": "code",
   "execution_count": 100,
   "metadata": {},
   "outputs": [
    {
     "name": "stdout",
     "output_type": "stream",
     "text": [
      "Dimensions of the combined dataframe are: (900000, 384)\n"
     ]
    }
   ],
   "source": [
    "print(\"Dimensions of the combined dataframe are:\", total.shape)"
   ]
  },
  {
   "cell_type": "code",
   "execution_count": 101,
   "metadata": {},
   "outputs": [],
   "source": [
    "total.isnull().sum()[total.isnull().sum()>0].to_csv(\"Missing_values.csv\")"
   ]
  },
  {
   "cell_type": "code",
   "execution_count": 102,
   "metadata": {},
   "outputs": [],
   "source": [
    "# sns.heatmap(total.isnull(), cbar=False)"
   ]
  },
  {
   "cell_type": "markdown",
   "metadata": {},
   "source": [
    "* 128852 received \n",
    "* 330896 new acct fi\n",
    "* 27110 fraud update feature\n",
    "* 58025 sent\n",
    "* 850022 payment cashout"
   ]
  },
  {
   "cell_type": "markdown",
   "metadata": {},
   "source": [
    "##### Creating the training and test dataset"
   ]
  },
  {
   "cell_type": "code",
   "execution_count": 103,
   "metadata": {},
   "outputs": [
    {
     "data": {
      "text/plain": [
       "(720000, 385)"
      ]
     },
     "execution_count": 103,
     "metadata": {},
     "output_type": "execute_result"
    }
   ],
   "source": [
    "train=pd.merge(base_train,total, on=['cust_id'],how='inner')\n",
    "train.shape"
   ]
  },
  {
   "cell_type": "code",
   "execution_count": 104,
   "metadata": {},
   "outputs": [],
   "source": [
    "# sns.heatmap(train.isnull(), cbar=False)"
   ]
  },
  {
   "cell_type": "code",
   "execution_count": 105,
   "metadata": {},
   "outputs": [
    {
     "data": {
      "text/plain": [
       "(180000, 384)"
      ]
     },
     "execution_count": 105,
     "metadata": {},
     "output_type": "execute_result"
    }
   ],
   "source": [
    "test=pd.merge(base_test,total, on=['cust_id'],how='inner')\n",
    "test.shape"
   ]
  },
  {
   "cell_type": "code",
   "execution_count": 106,
   "metadata": {},
   "outputs": [],
   "source": [
    "# sns.heatmap(test.isnull(), cbar=False)"
   ]
  },
  {
   "cell_type": "code",
   "execution_count": 107,
   "metadata": {},
   "outputs": [],
   "source": [
    "train.isnull().sum()[train.isnull().sum()>0].to_csv(\"Missing_values_train.csv\")\n",
    "test.isnull().sum()[test.isnull().sum()>0].to_csv(\"Missing_values_test.csv\")"
   ]
  },
  {
   "cell_type": "code",
   "execution_count": 108,
   "metadata": {},
   "outputs": [
    {
     "data": {
      "text/plain": [
       "(22848, 768)"
      ]
     },
     "execution_count": 108,
     "metadata": {},
     "output_type": "execute_result"
    }
   ],
   "source": [
    "to_merge=[train,cash_fail, finan_instr,fraud,sender,receiver,memo_sent,memo_rcv]\n",
    "intersection_train = reduce(lambda  left,right: pd.merge(left,right,on=['cust_id'], how='inner'), to_merge)\n",
    "intersection_train.shape"
   ]
  },
  {
   "cell_type": "code",
   "execution_count": 109,
   "metadata": {},
   "outputs": [],
   "source": [
    "# X=train.drop(columns=[\"target\",\"cust_id\"])\n",
    "# y=train[\"target\"]"
   ]
  },
  {
   "cell_type": "markdown",
   "metadata": {},
   "source": [
    "#### Attempting to split the customers into New and Returning"
   ]
  },
  {
   "cell_type": "code",
   "execution_count": 110,
   "metadata": {},
   "outputs": [
    {
     "name": "stdout",
     "output_type": "stream",
     "text": [
      "payment_cashout_fail_1    850022\n",
      "payment_cashout_fail_2    850022\n",
      "payment_cashout_fail_3    850022\n",
      "payment_cashout_fail_4    850022\n",
      "payment_cashout_fail_5    850022\n",
      "                           ...  \n",
      "new_acct_memo_rcv_48      128852\n",
      "new_acct_memo_rcv_49      128852\n",
      "new_acct_memo_rcv_50      128852\n",
      "new_acct_memo_rcv_51      128852\n",
      "new_acct_memo_rcv_52      128852\n",
      "Length: 383, dtype: int64\n"
     ]
    }
   ],
   "source": [
    "print(total.isnull().sum()[total.isnull().sum()>0]) "
   ]
  },
  {
   "cell_type": "markdown",
   "metadata": {},
   "source": [
    "After looking at the null value heatmap, we decided to split the dataframe into new and returning customers according to missing values of the new_acct_fi dataframe\n",
    "We also chose to drop all the payment cashout fail columns. Simply because too many of the values were missing"
   ]
  },
  {
   "cell_type": "code",
   "execution_count": 111,
   "metadata": {},
   "outputs": [],
   "source": [
    "train.drop(columns=cashout_fail_cols,inplace=True)"
   ]
  },
  {
   "cell_type": "code",
   "execution_count": 112,
   "metadata": {},
   "outputs": [],
   "source": [
    "test.drop(columns=cashout_fail_cols,inplace=True)"
   ]
  },
  {
   "cell_type": "code",
   "execution_count": 113,
   "metadata": {},
   "outputs": [
    {
     "data": {
      "text/html": [
       "<div>\n",
       "<style scoped>\n",
       "    .dataframe tbody tr th:only-of-type {\n",
       "        vertical-align: middle;\n",
       "    }\n",
       "\n",
       "    .dataframe tbody tr th {\n",
       "        vertical-align: top;\n",
       "    }\n",
       "\n",
       "    .dataframe thead th {\n",
       "        text-align: right;\n",
       "    }\n",
       "</style>\n",
       "<table border=\"1\" class=\"dataframe\">\n",
       "  <thead>\n",
       "    <tr style=\"text-align: right;\">\n",
       "      <th></th>\n",
       "      <th>cust_id</th>\n",
       "      <th>target</th>\n",
       "      <th>num</th>\n",
       "      <th>avg</th>\n",
       "      <th>new_acct_fi_1</th>\n",
       "      <th>new_acct_fi_2</th>\n",
       "      <th>new_acct_fi_3</th>\n",
       "      <th>new_acct_fi_4</th>\n",
       "      <th>new_acct_fi_5</th>\n",
       "      <th>new_acct_fi_6</th>\n",
       "      <th>...</th>\n",
       "      <th>new_acct_memo_rcv_43</th>\n",
       "      <th>new_acct_memo_rcv_44</th>\n",
       "      <th>new_acct_memo_rcv_45</th>\n",
       "      <th>new_acct_memo_rcv_46</th>\n",
       "      <th>new_acct_memo_rcv_47</th>\n",
       "      <th>new_acct_memo_rcv_48</th>\n",
       "      <th>new_acct_memo_rcv_49</th>\n",
       "      <th>new_acct_memo_rcv_50</th>\n",
       "      <th>new_acct_memo_rcv_51</th>\n",
       "      <th>new_acct_memo_rcv_52</th>\n",
       "    </tr>\n",
       "  </thead>\n",
       "  <tbody>\n",
       "    <tr>\n",
       "      <th>0</th>\n",
       "      <td>46006086</td>\n",
       "      <td>0.0</td>\n",
       "      <td>NaN</td>\n",
       "      <td>NaN</td>\n",
       "      <td>NaN</td>\n",
       "      <td>NaN</td>\n",
       "      <td>NaN</td>\n",
       "      <td>NaN</td>\n",
       "      <td>NaN</td>\n",
       "      <td>NaN</td>\n",
       "      <td>...</td>\n",
       "      <td>0.0</td>\n",
       "      <td>0.0</td>\n",
       "      <td>0.0</td>\n",
       "      <td>0.0</td>\n",
       "      <td>0.0</td>\n",
       "      <td>0.0</td>\n",
       "      <td>0.0</td>\n",
       "      <td>0.0</td>\n",
       "      <td>0.0</td>\n",
       "      <td>0.000000</td>\n",
       "    </tr>\n",
       "    <tr>\n",
       "      <th>1</th>\n",
       "      <td>13494269</td>\n",
       "      <td>0.0</td>\n",
       "      <td>20.0</td>\n",
       "      <td>674843.546</td>\n",
       "      <td>1612.046030</td>\n",
       "      <td>1612.046030</td>\n",
       "      <td>1612.046030</td>\n",
       "      <td>1613.041667</td>\n",
       "      <td>1613.041667</td>\n",
       "      <td>1613.041667</td>\n",
       "      <td>...</td>\n",
       "      <td>0.0</td>\n",
       "      <td>0.0</td>\n",
       "      <td>0.0</td>\n",
       "      <td>0.0</td>\n",
       "      <td>0.0</td>\n",
       "      <td>0.0</td>\n",
       "      <td>1.0</td>\n",
       "      <td>100.0</td>\n",
       "      <td>100.0</td>\n",
       "      <td>4.166667</td>\n",
       "    </tr>\n",
       "    <tr>\n",
       "      <th>2</th>\n",
       "      <td>58609039</td>\n",
       "      <td>0.0</td>\n",
       "      <td>NaN</td>\n",
       "      <td>NaN</td>\n",
       "      <td>NaN</td>\n",
       "      <td>NaN</td>\n",
       "      <td>NaN</td>\n",
       "      <td>NaN</td>\n",
       "      <td>NaN</td>\n",
       "      <td>NaN</td>\n",
       "      <td>...</td>\n",
       "      <td>0.0</td>\n",
       "      <td>0.0</td>\n",
       "      <td>0.0</td>\n",
       "      <td>0.0</td>\n",
       "      <td>0.0</td>\n",
       "      <td>0.0</td>\n",
       "      <td>0.0</td>\n",
       "      <td>0.0</td>\n",
       "      <td>0.0</td>\n",
       "      <td>0.000000</td>\n",
       "    </tr>\n",
       "    <tr>\n",
       "      <th>3</th>\n",
       "      <td>14920847</td>\n",
       "      <td>0.0</td>\n",
       "      <td>NaN</td>\n",
       "      <td>NaN</td>\n",
       "      <td>1565.431042</td>\n",
       "      <td>1565.431042</td>\n",
       "      <td>1565.431042</td>\n",
       "      <td>1566.041667</td>\n",
       "      <td>1566.041667</td>\n",
       "      <td>1566.041667</td>\n",
       "      <td>...</td>\n",
       "      <td>0.0</td>\n",
       "      <td>0.0</td>\n",
       "      <td>0.0</td>\n",
       "      <td>0.0</td>\n",
       "      <td>0.0</td>\n",
       "      <td>0.0</td>\n",
       "      <td>0.0</td>\n",
       "      <td>0.0</td>\n",
       "      <td>0.0</td>\n",
       "      <td>0.000000</td>\n",
       "    </tr>\n",
       "    <tr>\n",
       "      <th>4</th>\n",
       "      <td>59616399</td>\n",
       "      <td>1.0</td>\n",
       "      <td>NaN</td>\n",
       "      <td>NaN</td>\n",
       "      <td>NaN</td>\n",
       "      <td>NaN</td>\n",
       "      <td>NaN</td>\n",
       "      <td>NaN</td>\n",
       "      <td>NaN</td>\n",
       "      <td>NaN</td>\n",
       "      <td>...</td>\n",
       "      <td>NaN</td>\n",
       "      <td>NaN</td>\n",
       "      <td>NaN</td>\n",
       "      <td>NaN</td>\n",
       "      <td>NaN</td>\n",
       "      <td>NaN</td>\n",
       "      <td>NaN</td>\n",
       "      <td>NaN</td>\n",
       "      <td>NaN</td>\n",
       "      <td>NaN</td>\n",
       "    </tr>\n",
       "  </tbody>\n",
       "</table>\n",
       "<p>5 rows × 329 columns</p>\n",
       "</div>"
      ],
      "text/plain": [
       "    cust_id  target   num         avg  new_acct_fi_1  new_acct_fi_2  \\\n",
       "0  46006086     0.0   NaN         NaN            NaN            NaN   \n",
       "1  13494269     0.0  20.0  674843.546    1612.046030    1612.046030   \n",
       "2  58609039     0.0   NaN         NaN            NaN            NaN   \n",
       "3  14920847     0.0   NaN         NaN    1565.431042    1565.431042   \n",
       "4  59616399     1.0   NaN         NaN            NaN            NaN   \n",
       "\n",
       "   new_acct_fi_3  new_acct_fi_4  new_acct_fi_5  new_acct_fi_6  ...  \\\n",
       "0            NaN            NaN            NaN            NaN  ...   \n",
       "1    1612.046030    1613.041667    1613.041667    1613.041667  ...   \n",
       "2            NaN            NaN            NaN            NaN  ...   \n",
       "3    1565.431042    1566.041667    1566.041667    1566.041667  ...   \n",
       "4            NaN            NaN            NaN            NaN  ...   \n",
       "\n",
       "   new_acct_memo_rcv_43  new_acct_memo_rcv_44  new_acct_memo_rcv_45  \\\n",
       "0                   0.0                   0.0                   0.0   \n",
       "1                   0.0                   0.0                   0.0   \n",
       "2                   0.0                   0.0                   0.0   \n",
       "3                   0.0                   0.0                   0.0   \n",
       "4                   NaN                   NaN                   NaN   \n",
       "\n",
       "   new_acct_memo_rcv_46  new_acct_memo_rcv_47  new_acct_memo_rcv_48  \\\n",
       "0                   0.0                   0.0                   0.0   \n",
       "1                   0.0                   0.0                   0.0   \n",
       "2                   0.0                   0.0                   0.0   \n",
       "3                   0.0                   0.0                   0.0   \n",
       "4                   NaN                   NaN                   NaN   \n",
       "\n",
       "   new_acct_memo_rcv_49  new_acct_memo_rcv_50  new_acct_memo_rcv_51  \\\n",
       "0                   0.0                   0.0                   0.0   \n",
       "1                   1.0                 100.0                 100.0   \n",
       "2                   0.0                   0.0                   0.0   \n",
       "3                   0.0                   0.0                   0.0   \n",
       "4                   NaN                   NaN                   NaN   \n",
       "\n",
       "   new_acct_memo_rcv_52  \n",
       "0              0.000000  \n",
       "1              4.166667  \n",
       "2              0.000000  \n",
       "3              0.000000  \n",
       "4                   NaN  \n",
       "\n",
       "[5 rows x 329 columns]"
      ]
     },
     "execution_count": 113,
     "metadata": {},
     "output_type": "execute_result"
    }
   ],
   "source": [
    "train.head()"
   ]
  },
  {
   "cell_type": "code",
   "execution_count": 127,
   "metadata": {},
   "outputs": [
    {
     "name": "stderr",
     "output_type": "stream",
     "text": [
      "/home/gurmehar/anaconda3/envs/insti/lib/python3.9/site-packages/pandas/core/frame.py:4906: SettingWithCopyWarning: \n",
      "A value is trying to be set on a copy of a slice from a DataFrame\n",
      "\n",
      "See the caveats in the documentation: https://pandas.pydata.org/pandas-docs/stable/user_guide/indexing.html#returning-a-view-versus-a-copy\n",
      "  return super().drop(\n"
     ]
    }
   ],
   "source": [
    "train_old=train[train[\"new_acct_fi_1\"].notna()]\n",
    "train_new=train[pd.isna(train[\"new_acct_fi_1\"])]\n",
    "train_new.drop(columns=acct_fi_cols,inplace=True)\n",
    "X_train_old=train_old.drop(columns=[\"target\",\"cust_id\"])\n",
    "y_train_old=train_old[\"target\"]\n",
    "X_train_new=train_new.drop(columns=[\"target\",\"cust_id\"])\n",
    "y_train_new=train_new[\"target\"]"
   ]
  },
  {
   "cell_type": "code",
   "execution_count": 131,
   "metadata": {},
   "outputs": [
    {
     "name": "stderr",
     "output_type": "stream",
     "text": [
      "/home/gurmehar/anaconda3/envs/insti/lib/python3.9/site-packages/pandas/core/frame.py:4906: SettingWithCopyWarning: \n",
      "A value is trying to be set on a copy of a slice from a DataFrame\n",
      "\n",
      "See the caveats in the documentation: https://pandas.pydata.org/pandas-docs/stable/user_guide/indexing.html#returning-a-view-versus-a-copy\n",
      "  return super().drop(\n"
     ]
    }
   ],
   "source": [
    "test_old=test[test[\"new_acct_fi_1\"].notna()]\n",
    "test_new=test[pd.isna(test[\"new_acct_fi_1\"])]\n",
    "test_new.drop(columns=acct_fi_cols,inplace=True)"
   ]
  },
  {
   "cell_type": "markdown",
   "metadata": {},
   "source": [
    "#### Processing missing values"
   ]
  },
  {
   "cell_type": "code",
   "execution_count": 132,
   "metadata": {},
   "outputs": [
    {
     "name": "stderr",
     "output_type": "stream",
     "text": [
      "/home/gurmehar/anaconda3/envs/insti/lib/python3.9/site-packages/pandas/core/generic.py:6392: SettingWithCopyWarning: \n",
      "A value is trying to be set on a copy of a slice from a DataFrame\n",
      "\n",
      "See the caveats in the documentation: https://pandas.pydata.org/pandas-docs/stable/user_guide/indexing.html#returning-a-view-versus-a-copy\n",
      "  return self._update_inplace(result)\n"
     ]
    }
   ],
   "source": [
    "X_train_old.fillna(0,inplace=True)\n",
    "X_train_new.fillna(0,inplace=True)\n",
    "y_train_old.fillna(0,inplace=True)\n",
    "y_train_new.fillna(0,inplace=True)"
   ]
  },
  {
   "cell_type": "markdown",
   "metadata": {},
   "source": [
    "### Random Forest on the whole dataset as a benchmark"
   ]
  },
  {
   "cell_type": "code",
   "execution_count": 133,
   "metadata": {},
   "outputs": [],
   "source": [
    "# X.dropna(inplace=True)\n",
    "\n",
    "# RF=RandomForestClassifier(verbose=2)\n",
    "\n",
    "# X_train, X_test, y_train, y_test = train_test_split(X,y,test_size=0.25,random_state=42)\n",
    "# RF.fit(X_train,y_train)\n",
    "# y_pred=RF.predict(X_test)\n",
    "# print(\"Score: \", roc_auc_score(y_pred,y_test))\n"
   ]
  },
  {
   "cell_type": "code",
   "execution_count": 134,
   "metadata": {},
   "outputs": [],
   "source": [
    "temp_test=test.copy()"
   ]
  },
  {
   "cell_type": "code",
   "execution_count": 135,
   "metadata": {},
   "outputs": [],
   "source": [
    "# test=test.fillna(0)\n",
    "# output=RF.predict(test.drop(columns=[\"cust_id\"]))\n"
   ]
  },
  {
   "cell_type": "markdown",
   "metadata": {},
   "source": [
    "### Random forest "
   ]
  },
  {
   "cell_type": "code",
   "execution_count": 136,
   "metadata": {},
   "outputs": [],
   "source": [
    "RF_new=RandomForestClassifier(verbose=2)\n",
    "RF_old=RandomForestClassifier(verbose=2)"
   ]
  },
  {
   "cell_type": "markdown",
   "metadata": {},
   "source": [
    "#### New customers"
   ]
  },
  {
   "cell_type": "code",
   "execution_count": 137,
   "metadata": {},
   "outputs": [
    {
     "name": "stderr",
     "output_type": "stream",
     "text": [
      "[Parallel(n_jobs=1)]: Using backend SequentialBackend with 1 concurrent workers.\n"
     ]
    },
    {
     "name": "stdout",
     "output_type": "stream",
     "text": [
      "building tree 1 of 100\n"
     ]
    },
    {
     "name": "stderr",
     "output_type": "stream",
     "text": [
      "[Parallel(n_jobs=1)]: Done   1 out of   1 | elapsed:    1.4s remaining:    0.0s\n"
     ]
    },
    {
     "name": "stdout",
     "output_type": "stream",
     "text": [
      "building tree 2 of 100\n",
      "building tree 3 of 100\n",
      "building tree 4 of 100\n",
      "building tree 5 of 100\n",
      "building tree 6 of 100\n",
      "building tree 7 of 100\n",
      "building tree 8 of 100\n",
      "building tree 9 of 100\n",
      "building tree 10 of 100\n",
      "building tree 11 of 100\n",
      "building tree 12 of 100\n",
      "building tree 13 of 100\n",
      "building tree 14 of 100\n",
      "building tree 15 of 100\n",
      "building tree 16 of 100\n",
      "building tree 17 of 100\n",
      "building tree 18 of 100\n",
      "building tree 19 of 100\n",
      "building tree 20 of 100\n",
      "building tree 21 of 100\n",
      "building tree 22 of 100\n",
      "building tree 23 of 100\n",
      "building tree 24 of 100\n",
      "building tree 25 of 100\n",
      "building tree 26 of 100\n",
      "building tree 27 of 100\n",
      "building tree 28 of 100\n",
      "building tree 29 of 100\n",
      "building tree 30 of 100\n",
      "building tree 31 of 100\n",
      "building tree 32 of 100\n",
      "building tree 33 of 100\n",
      "building tree 34 of 100\n",
      "building tree 35 of 100\n",
      "building tree 36 of 100\n",
      "building tree 37 of 100\n",
      "building tree 38 of 100\n",
      "building tree 39 of 100\n",
      "building tree 40 of 100\n",
      "building tree 41 of 100\n",
      "building tree 42 of 100\n",
      "building tree 43 of 100\n",
      "building tree 44 of 100\n",
      "building tree 45 of 100\n",
      "building tree 46 of 100\n",
      "building tree 47 of 100\n",
      "building tree 48 of 100\n",
      "building tree 49 of 100\n",
      "building tree 50 of 100\n",
      "building tree 51 of 100\n",
      "building tree 52 of 100\n",
      "building tree 53 of 100\n",
      "building tree 54 of 100\n",
      "building tree 55 of 100\n",
      "building tree 56 of 100\n",
      "building tree 57 of 100\n",
      "building tree 58 of 100\n",
      "building tree 59 of 100\n",
      "building tree 60 of 100\n",
      "building tree 61 of 100\n",
      "building tree 62 of 100\n",
      "building tree 63 of 100\n",
      "building tree 64 of 100\n",
      "building tree 65 of 100\n",
      "building tree 66 of 100\n",
      "building tree 67 of 100\n",
      "building tree 68 of 100\n",
      "building tree 69 of 100\n",
      "building tree 70 of 100\n",
      "building tree 71 of 100\n",
      "building tree 72 of 100\n",
      "building tree 73 of 100\n",
      "building tree 74 of 100\n",
      "building tree 75 of 100\n",
      "building tree 76 of 100\n",
      "building tree 77 of 100\n",
      "building tree 78 of 100\n",
      "building tree 79 of 100\n",
      "building tree 80 of 100\n",
      "building tree 81 of 100\n",
      "building tree 82 of 100\n",
      "building tree 83 of 100\n",
      "building tree 84 of 100\n",
      "building tree 85 of 100\n",
      "building tree 86 of 100\n",
      "building tree 87 of 100\n",
      "building tree 88 of 100\n",
      "building tree 89 of 100\n",
      "building tree 90 of 100\n",
      "building tree 91 of 100\n",
      "building tree 92 of 100\n",
      "building tree 93 of 100\n",
      "building tree 94 of 100\n",
      "building tree 95 of 100\n",
      "building tree 96 of 100\n",
      "building tree 97 of 100\n",
      "building tree 98 of 100\n",
      "building tree 99 of 100\n",
      "building tree 100 of 100\n"
     ]
    },
    {
     "name": "stderr",
     "output_type": "stream",
     "text": [
      "[Parallel(n_jobs=1)]: Done 100 out of 100 | elapsed:  2.0min finished\n",
      "[Parallel(n_jobs=1)]: Using backend SequentialBackend with 1 concurrent workers.\n",
      "[Parallel(n_jobs=1)]: Done   1 out of   1 | elapsed:    0.0s remaining:    0.0s\n"
     ]
    },
    {
     "name": "stdout",
     "output_type": "stream",
     "text": [
      "Score:  0.6970605837776008\n"
     ]
    },
    {
     "name": "stderr",
     "output_type": "stream",
     "text": [
      "[Parallel(n_jobs=1)]: Done 100 out of 100 | elapsed:    1.9s finished\n"
     ]
    }
   ],
   "source": [
    "X_RF_new_train, X_RF_new_test, y_RF_new_train, y_RF_new_test = train_test_split(X_train_new,y_train_new,test_size=0.25,random_state=42)\n",
    "RF_new.fit(X_RF_new_train,y_RF_new_train)\n",
    "y_pred_RF_new=RF_new.predict(X_RF_new_test)\n",
    "print(\"Score: \", roc_auc_score(y_pred_RF_new,y_RF_new_test))\n"
   ]
  },
  {
   "cell_type": "markdown",
   "metadata": {},
   "source": [
    "#### Old customers"
   ]
  },
  {
   "cell_type": "code",
   "execution_count": 138,
   "metadata": {},
   "outputs": [
    {
     "name": "stderr",
     "output_type": "stream",
     "text": [
      "[Parallel(n_jobs=1)]: Using backend SequentialBackend with 1 concurrent workers.\n"
     ]
    },
    {
     "name": "stdout",
     "output_type": "stream",
     "text": [
      "building tree 1 of 100\n"
     ]
    },
    {
     "name": "stderr",
     "output_type": "stream",
     "text": [
      "[Parallel(n_jobs=1)]: Done   1 out of   1 | elapsed:    2.7s remaining:    0.0s\n"
     ]
    },
    {
     "name": "stdout",
     "output_type": "stream",
     "text": [
      "building tree 2 of 100\n",
      "building tree 3 of 100\n",
      "building tree 4 of 100\n",
      "building tree 5 of 100\n",
      "building tree 6 of 100\n",
      "building tree 7 of 100\n",
      "building tree 8 of 100\n",
      "building tree 9 of 100\n",
      "building tree 10 of 100\n",
      "building tree 11 of 100\n",
      "building tree 12 of 100\n",
      "building tree 13 of 100\n",
      "building tree 14 of 100\n",
      "building tree 15 of 100\n",
      "building tree 16 of 100\n",
      "building tree 17 of 100\n",
      "building tree 18 of 100\n",
      "building tree 19 of 100\n",
      "building tree 20 of 100\n",
      "building tree 21 of 100\n",
      "building tree 22 of 100\n",
      "building tree 23 of 100\n",
      "building tree 24 of 100\n",
      "building tree 25 of 100\n",
      "building tree 26 of 100\n",
      "building tree 27 of 100\n",
      "building tree 28 of 100\n",
      "building tree 29 of 100\n",
      "building tree 30 of 100\n",
      "building tree 31 of 100\n",
      "building tree 32 of 100\n",
      "building tree 33 of 100\n",
      "building tree 34 of 100\n",
      "building tree 35 of 100\n",
      "building tree 36 of 100\n",
      "building tree 37 of 100\n",
      "building tree 38 of 100\n",
      "building tree 39 of 100\n",
      "building tree 40 of 100\n",
      "building tree 41 of 100\n",
      "building tree 42 of 100\n",
      "building tree 43 of 100\n",
      "building tree 44 of 100\n",
      "building tree 45 of 100\n",
      "building tree 46 of 100\n",
      "building tree 47 of 100\n",
      "building tree 48 of 100\n",
      "building tree 49 of 100\n",
      "building tree 50 of 100\n",
      "building tree 51 of 100\n",
      "building tree 52 of 100\n",
      "building tree 53 of 100\n",
      "building tree 54 of 100\n",
      "building tree 55 of 100\n",
      "building tree 56 of 100\n",
      "building tree 57 of 100\n",
      "building tree 58 of 100\n",
      "building tree 59 of 100\n",
      "building tree 60 of 100\n",
      "building tree 61 of 100\n",
      "building tree 62 of 100\n",
      "building tree 63 of 100\n",
      "building tree 64 of 100\n",
      "building tree 65 of 100\n",
      "building tree 66 of 100\n",
      "building tree 67 of 100\n",
      "building tree 68 of 100\n",
      "building tree 69 of 100\n",
      "building tree 70 of 100\n",
      "building tree 71 of 100\n",
      "building tree 72 of 100\n",
      "building tree 73 of 100\n",
      "building tree 74 of 100\n",
      "building tree 75 of 100\n",
      "building tree 76 of 100\n",
      "building tree 77 of 100\n",
      "building tree 78 of 100\n",
      "building tree 79 of 100\n",
      "building tree 80 of 100\n",
      "building tree 81 of 100\n",
      "building tree 82 of 100\n",
      "building tree 83 of 100\n",
      "building tree 84 of 100\n",
      "building tree 85 of 100\n",
      "building tree 86 of 100\n",
      "building tree 87 of 100\n",
      "building tree 88 of 100\n",
      "building tree 89 of 100\n",
      "building tree 90 of 100\n",
      "building tree 91 of 100\n",
      "building tree 92 of 100\n",
      "building tree 93 of 100\n",
      "building tree 94 of 100\n",
      "building tree 95 of 100\n",
      "building tree 96 of 100\n",
      "building tree 97 of 100\n",
      "building tree 98 of 100\n",
      "building tree 99 of 100\n",
      "building tree 100 of 100\n"
     ]
    },
    {
     "name": "stderr",
     "output_type": "stream",
     "text": [
      "[Parallel(n_jobs=1)]: Done 100 out of 100 | elapsed:  5.4min finished\n",
      "[Parallel(n_jobs=1)]: Using backend SequentialBackend with 1 concurrent workers.\n",
      "[Parallel(n_jobs=1)]: Done   1 out of   1 | elapsed:    0.0s remaining:    0.0s\n"
     ]
    },
    {
     "name": "stdout",
     "output_type": "stream",
     "text": [
      "Score:  0.721957071706723\n"
     ]
    },
    {
     "name": "stderr",
     "output_type": "stream",
     "text": [
      "[Parallel(n_jobs=1)]: Done 100 out of 100 | elapsed:    4.3s finished\n"
     ]
    }
   ],
   "source": [
    "X_RF_old_train, X_RF_old_test, y_RF_old_train, y_RF_old_test = train_test_split(X_train_old,y_train_old,test_size=0.25,random_state=42)\n",
    "RF_old.fit(X_RF_old_train,y_RF_old_train)\n",
    "y_pred_RF_old=RF_old.predict(X_RF_old_test)\n",
    "print(\"Score: \", roc_auc_score(y_pred_RF_old,y_RF_old_test))\n"
   ]
  },
  {
   "cell_type": "markdown",
   "metadata": {},
   "source": [
    "#### Computing the score for the combined model"
   ]
  },
  {
   "cell_type": "code",
   "execution_count": 139,
   "metadata": {},
   "outputs": [
    {
     "name": "stdout",
     "output_type": "stream",
     "text": [
      " Overall Score:  0.7159668090073927\n"
     ]
    }
   ],
   "source": [
    "y_pred_RF_train= np.hstack([y_pred_RF_old,y_pred_RF_new])\n",
    "y_RF_test_train= np.hstack([y_RF_old_test,y_RF_new_test])\n",
    "# print(\"Score: \", roc_auc_score(y_pred_RF_new,y_RF_new_test))\n",
    "# print(\"Score: \", roc_auc_score(y_pred_RF_old,y_RF_old_test))\n",
    "print(\" Overall Score: \", roc_auc_score(y_pred_RF_train,y_RF_test_train))\n"
   ]
  },
  {
   "cell_type": "markdown",
   "metadata": {},
   "source": [
    "### Making submissions"
   ]
  },
  {
   "cell_type": "code",
   "execution_count": 140,
   "metadata": {},
   "outputs": [
    {
     "ename": "NameError",
     "evalue": "name 'output_new' is not defined",
     "output_type": "error",
     "traceback": [
      "\u001b[0;31m---------------------------------------------------------------------------\u001b[0m",
      "\u001b[0;31mNameError\u001b[0m                                 Traceback (most recent call last)",
      "\u001b[0;32m/tmp/ipykernel_3621/824907388.py\u001b[0m in \u001b[0;36m<module>\u001b[0;34m\u001b[0m\n\u001b[0;32m----> 1\u001b[0;31m \u001b[0moutput_new\u001b[0m\u001b[0;34m=\u001b[0m\u001b[0moutput_new\u001b[0m \u001b[0;31m# Replace with output DF of choice\u001b[0m\u001b[0;34m\u001b[0m\u001b[0;34m\u001b[0m\u001b[0m\n\u001b[0m\u001b[1;32m      2\u001b[0m \u001b[0moutput_old\u001b[0m\u001b[0;34m=\u001b[0m\u001b[0moutput_old\u001b[0m\u001b[0;34m\u001b[0m\u001b[0;34m\u001b[0m\u001b[0m\n\u001b[1;32m      3\u001b[0m \u001b[0moutput\u001b[0m\u001b[0;34m=\u001b[0m\u001b[0mpd\u001b[0m\u001b[0;34m.\u001b[0m\u001b[0mconcat\u001b[0m\u001b[0;34m(\u001b[0m\u001b[0;34m[\u001b[0m\u001b[0moutput_old\u001b[0m\u001b[0;34m,\u001b[0m\u001b[0moutput_new\u001b[0m\u001b[0;34m]\u001b[0m\u001b[0;34m,\u001b[0m\u001b[0maxis\u001b[0m\u001b[0;34m=\u001b[0m\u001b[0;36m0\u001b[0m\u001b[0;34m)\u001b[0m\u001b[0;34m\u001b[0m\u001b[0;34m\u001b[0m\u001b[0m\n\u001b[1;32m      4\u001b[0m \u001b[0mIDs\u001b[0m\u001b[0;34m=\u001b[0m\u001b[0mpd\u001b[0m\u001b[0;34m.\u001b[0m\u001b[0mconcat\u001b[0m\u001b[0;34m(\u001b[0m\u001b[0;34m[\u001b[0m\u001b[0mtest_old\u001b[0m\u001b[0;34m[\u001b[0m\u001b[0;34m\"cust_id\"\u001b[0m\u001b[0;34m]\u001b[0m\u001b[0;34m,\u001b[0m\u001b[0mtest_new\u001b[0m\u001b[0;34m[\u001b[0m\u001b[0;34m\"cust_id\"\u001b[0m\u001b[0;34m]\u001b[0m\u001b[0;34m]\u001b[0m\u001b[0;34m,\u001b[0m\u001b[0maxis\u001b[0m\u001b[0;34m=\u001b[0m\u001b[0;36m0\u001b[0m\u001b[0;34m)\u001b[0m\u001b[0;34m\u001b[0m\u001b[0;34m\u001b[0m\u001b[0m\n\u001b[1;32m      5\u001b[0m \u001b[0msubmission_array\u001b[0m\u001b[0;34m=\u001b[0m\u001b[0mnp\u001b[0m\u001b[0;34m.\u001b[0m\u001b[0marray\u001b[0m\u001b[0;34m(\u001b[0m\u001b[0;34m[\u001b[0m\u001b[0moutput\u001b[0m\u001b[0;34m]\u001b[0m\u001b[0;34m)\u001b[0m\u001b[0;34m.\u001b[0m\u001b[0mT\u001b[0m\u001b[0;34m\u001b[0m\u001b[0;34m\u001b[0m\u001b[0m\n",
      "\u001b[0;31mNameError\u001b[0m: name 'output_new' is not defined"
     ]
    }
   ],
   "source": [
    "output_new=output_new # Replace with output DF of choice\n",
    "output_old=output_old\n",
    "output=pd.concat([output_old,output_new],axis=0)\n",
    "IDs=pd.concat([test_old[\"cust_id\"],test_new[\"cust_id\"]],axis=0)\n",
    "submission_array=np.array([output]).T\n",
    "submission_df=pd.DataFrame(submission_array)\n",
    "final_submission=pd.concat([IDs,submission_df],axis=1)"
   ]
  },
  {
   "cell_type": "code",
   "execution_count": null,
   "metadata": {},
   "outputs": [],
   "source": [
    "final_submission.columns=[\"cust_id\",\"target\"]\n",
    "final_submission=final_submission.set_index('cust_id')\n",
    "final_submission.to_csv(\"Random_forest_base.csv\")"
   ]
  }
 ],
 "metadata": {
  "interpreter": {
   "hash": "66df40ab680059a4251c119692071fdd5f0e1c24b537ddff8284f38996434d95"
  },
  "kernelspec": {
   "display_name": "Python 3.9.7 64-bit ('insti': conda)",
   "name": "python3"
  },
  "language_info": {
   "codemirror_mode": {
    "name": "ipython",
    "version": 3
   },
   "file_extension": ".py",
   "mimetype": "text/x-python",
   "name": "python",
   "nbconvert_exporter": "python",
   "pygments_lexer": "ipython3",
   "version": "3.9.7"
  },
  "orig_nbformat": 4
 },
 "nbformat": 4,
 "nbformat_minor": 2
}
