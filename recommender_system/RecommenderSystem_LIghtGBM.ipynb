{
  "nbformat": 4,
  "nbformat_minor": 0,
  "metadata": {
    "colab": {
      "name": "DataContest_LIghtGBM.ipynb",
      "provenance": [],
      "collapsed_sections": [],
      "toc_visible": true
    },
    "kernelspec": {
      "display_name": "Python 3",
      "name": "python3"
    },
    "language_info": {
      "name": "python"
    },
    "accelerator": "GPU"
  },
  "cells": [
    {
      "cell_type": "code",
      "metadata": {
        "id": "YQ6L0vnzyP9v",
        "colab": {
          "base_uri": "https://localhost:8080/"
        },
        "outputId": "f0cec46b-8a3a-4b84-936c-2c2ab0ce1906"
      },
      "source": [
        "!pip install optuna\n",
        "#!pip install catboost"
      ],
      "execution_count": 1,
      "outputs": [
        {
          "output_type": "stream",
          "text": [
            "Collecting optuna\n",
            "\u001b[?25l  Downloading https://files.pythonhosted.org/packages/2b/21/d13081805e1e1afc71f5bb743ece324c8bd576237c51b899ecb38a717502/optuna-2.7.0-py3-none-any.whl (293kB)\n",
            "\r\u001b[K     |█▏                              | 10kB 22.7MB/s eta 0:00:01\r\u001b[K     |██▎                             | 20kB 32.1MB/s eta 0:00:01\r\u001b[K     |███▍                            | 30kB 36.5MB/s eta 0:00:01\r\u001b[K     |████▌                           | 40kB 21.4MB/s eta 0:00:01\r\u001b[K     |█████▋                          | 51kB 15.4MB/s eta 0:00:01\r\u001b[K     |██████▊                         | 61kB 12.3MB/s eta 0:00:01\r\u001b[K     |███████▉                        | 71kB 13.6MB/s eta 0:00:01\r\u001b[K     |█████████                       | 81kB 15.0MB/s eta 0:00:01\r\u001b[K     |██████████                      | 92kB 12.7MB/s eta 0:00:01\r\u001b[K     |███████████▏                    | 102kB 13.9MB/s eta 0:00:01\r\u001b[K     |████████████▎                   | 112kB 13.9MB/s eta 0:00:01\r\u001b[K     |█████████████▍                  | 122kB 13.9MB/s eta 0:00:01\r\u001b[K     |██████████████▌                 | 133kB 13.9MB/s eta 0:00:01\r\u001b[K     |███████████████▋                | 143kB 13.9MB/s eta 0:00:01\r\u001b[K     |████████████████▊               | 153kB 13.9MB/s eta 0:00:01\r\u001b[K     |█████████████████▉              | 163kB 13.9MB/s eta 0:00:01\r\u001b[K     |███████████████████             | 174kB 13.9MB/s eta 0:00:01\r\u001b[K     |████████████████████            | 184kB 13.9MB/s eta 0:00:01\r\u001b[K     |█████████████████████▏          | 194kB 13.9MB/s eta 0:00:01\r\u001b[K     |██████████████████████▎         | 204kB 13.9MB/s eta 0:00:01\r\u001b[K     |███████████████████████▍        | 215kB 13.9MB/s eta 0:00:01\r\u001b[K     |████████████████████████▋       | 225kB 13.9MB/s eta 0:00:01\r\u001b[K     |█████████████████████████▊      | 235kB 13.9MB/s eta 0:00:01\r\u001b[K     |██████████████████████████▉     | 245kB 13.9MB/s eta 0:00:01\r\u001b[K     |████████████████████████████    | 256kB 13.9MB/s eta 0:00:01\r\u001b[K     |█████████████████████████████   | 266kB 13.9MB/s eta 0:00:01\r\u001b[K     |██████████████████████████████▏ | 276kB 13.9MB/s eta 0:00:01\r\u001b[K     |███████████████████████████████▎| 286kB 13.9MB/s eta 0:00:01\r\u001b[K     |████████████████████████████████| 296kB 13.9MB/s \n",
            "\u001b[?25hCollecting cmaes>=0.8.2\n",
            "  Downloading https://files.pythonhosted.org/packages/01/1f/43b01223a0366171f474320c6e966c39a11587287f098a5f09809b45e05f/cmaes-0.8.2-py3-none-any.whl\n",
            "Requirement already satisfied: packaging>=20.0 in /usr/local/lib/python3.7/dist-packages (from optuna) (20.9)\n",
            "Collecting cliff\n",
            "\u001b[?25l  Downloading https://files.pythonhosted.org/packages/87/11/aea1cacbd4cf8262809c4d6f95dcb3f2802594de1f51c5bd454d69bf15c5/cliff-3.8.0-py3-none-any.whl (80kB)\n",
            "\u001b[K     |████████████████████████████████| 81kB 7.7MB/s \n",
            "\u001b[?25hRequirement already satisfied: numpy in /usr/local/lib/python3.7/dist-packages (from optuna) (1.19.5)\n",
            "Requirement already satisfied: scipy!=1.4.0 in /usr/local/lib/python3.7/dist-packages (from optuna) (1.4.1)\n",
            "Collecting colorlog\n",
            "  Downloading https://files.pythonhosted.org/packages/32/e6/e9ddc6fa1104fda718338b341e4b3dc31cd8039ab29e52fc73b508515361/colorlog-5.0.1-py2.py3-none-any.whl\n",
            "Requirement already satisfied: sqlalchemy>=1.1.0 in /usr/local/lib/python3.7/dist-packages (from optuna) (1.4.15)\n",
            "Requirement already satisfied: tqdm in /usr/local/lib/python3.7/dist-packages (from optuna) (4.41.1)\n",
            "Collecting alembic\n",
            "\u001b[?25l  Downloading https://files.pythonhosted.org/packages/d5/80/ef186e599a57d0e4cb78fc76e0bfc2e6953fa9716b2a5cf2de0117ed8eb5/alembic-1.6.5-py2.py3-none-any.whl (164kB)\n",
            "\u001b[K     |████████████████████████████████| 174kB 26.9MB/s \n",
            "\u001b[?25hRequirement already satisfied: pyparsing>=2.0.2 in /usr/local/lib/python3.7/dist-packages (from packaging>=20.0->optuna) (2.4.7)\n",
            "Collecting stevedore>=2.0.1\n",
            "\u001b[?25l  Downloading https://files.pythonhosted.org/packages/d4/49/b602307aeac3df3384ff1fcd05da9c0376c622a6c48bb5325f28ab165b57/stevedore-3.3.0-py3-none-any.whl (49kB)\n",
            "\u001b[K     |████████████████████████████████| 51kB 5.7MB/s \n",
            "\u001b[?25hCollecting pbr!=2.1.0,>=2.0.0\n",
            "\u001b[?25l  Downloading https://files.pythonhosted.org/packages/18/e0/1d4702dd81121d04a477c272d47ee5b6bc970d1a0990b11befa275c55cf2/pbr-5.6.0-py2.py3-none-any.whl (111kB)\n",
            "\u001b[K     |████████████████████████████████| 112kB 24.0MB/s \n",
            "\u001b[?25hCollecting cmd2>=1.0.0\n",
            "\u001b[?25l  Downloading https://files.pythonhosted.org/packages/15/8b/15061b32332bb35ea2a2f6263d0f616779d576e82739ec8e7fcf3c94abf5/cmd2-1.5.0-py3-none-any.whl (133kB)\n",
            "\u001b[K     |████████████████████████████████| 143kB 23.3MB/s \n",
            "\u001b[?25hRequirement already satisfied: PrettyTable>=0.7.2 in /usr/local/lib/python3.7/dist-packages (from cliff->optuna) (2.1.0)\n",
            "Requirement already satisfied: PyYAML>=3.12 in /usr/local/lib/python3.7/dist-packages (from cliff->optuna) (3.13)\n",
            "Requirement already satisfied: importlib-metadata; python_version < \"3.8\" in /usr/local/lib/python3.7/dist-packages (from sqlalchemy>=1.1.0->optuna) (4.0.1)\n",
            "Requirement already satisfied: greenlet!=0.4.17; python_version >= \"3\" in /usr/local/lib/python3.7/dist-packages (from sqlalchemy>=1.1.0->optuna) (1.1.0)\n",
            "Requirement already satisfied: python-dateutil in /usr/local/lib/python3.7/dist-packages (from alembic->optuna) (2.8.1)\n",
            "Collecting Mako\n",
            "\u001b[?25l  Downloading https://files.pythonhosted.org/packages/f3/54/dbc07fbb20865d3b78fdb7cf7fa713e2cba4f87f71100074ef2dc9f9d1f7/Mako-1.1.4-py2.py3-none-any.whl (75kB)\n",
            "\u001b[K     |████████████████████████████████| 81kB 8.9MB/s \n",
            "\u001b[?25hCollecting python-editor>=0.3\n",
            "  Downloading https://files.pythonhosted.org/packages/c6/d3/201fc3abe391bbae6606e6f1d598c15d367033332bd54352b12f35513717/python_editor-1.0.4-py3-none-any.whl\n",
            "Collecting colorama>=0.3.7\n",
            "  Downloading https://files.pythonhosted.org/packages/44/98/5b86278fbbf250d239ae0ecb724f8572af1c91f4a11edf4d36a206189440/colorama-0.4.4-py2.py3-none-any.whl\n",
            "Collecting pyperclip>=1.6\n",
            "  Downloading https://files.pythonhosted.org/packages/a7/2c/4c64579f847bd5d539803c8b909e54ba087a79d01bb3aba433a95879a6c5/pyperclip-1.8.2.tar.gz\n",
            "Requirement already satisfied: wcwidth>=0.1.7 in /usr/local/lib/python3.7/dist-packages (from cmd2>=1.0.0->cliff->optuna) (0.2.5)\n",
            "Requirement already satisfied: attrs>=16.3.0 in /usr/local/lib/python3.7/dist-packages (from cmd2>=1.0.0->cliff->optuna) (21.2.0)\n",
            "Requirement already satisfied: typing-extensions>=3.6.4; python_version < \"3.8\" in /usr/local/lib/python3.7/dist-packages (from importlib-metadata; python_version < \"3.8\"->sqlalchemy>=1.1.0->optuna) (3.7.4.3)\n",
            "Requirement already satisfied: zipp>=0.5 in /usr/local/lib/python3.7/dist-packages (from importlib-metadata; python_version < \"3.8\"->sqlalchemy>=1.1.0->optuna) (3.4.1)\n",
            "Requirement already satisfied: six>=1.5 in /usr/local/lib/python3.7/dist-packages (from python-dateutil->alembic->optuna) (1.15.0)\n",
            "Requirement already satisfied: MarkupSafe>=0.9.2 in /usr/local/lib/python3.7/dist-packages (from Mako->alembic->optuna) (2.0.1)\n",
            "Building wheels for collected packages: pyperclip\n",
            "  Building wheel for pyperclip (setup.py) ... \u001b[?25l\u001b[?25hdone\n",
            "  Created wheel for pyperclip: filename=pyperclip-1.8.2-cp37-none-any.whl size=11107 sha256=145e8fd7e2b8fcbf894d0f47100928bd3e334d012c69c9e7063770fb4f81a380\n",
            "  Stored in directory: /root/.cache/pip/wheels/25/af/b8/3407109267803f4015e1ee2ff23be0c8c19ce4008665931ee1\n",
            "Successfully built pyperclip\n",
            "Installing collected packages: cmaes, pbr, stevedore, colorama, pyperclip, cmd2, cliff, colorlog, Mako, python-editor, alembic, optuna\n",
            "Successfully installed Mako-1.1.4 alembic-1.6.5 cliff-3.8.0 cmaes-0.8.2 cmd2-1.5.0 colorama-0.4.4 colorlog-5.0.1 optuna-2.7.0 pbr-5.6.0 pyperclip-1.8.2 python-editor-1.0.4 stevedore-3.3.0\n"
          ],
          "name": "stdout"
        }
      ]
    },
    {
      "cell_type": "markdown",
      "metadata": {
        "id": "av80CKl1dnJo"
      },
      "source": [
        ""
      ]
    },
    {
      "cell_type": "code",
      "metadata": {
        "id": "NKEgVhH40ild"
      },
      "source": [
        "import numpy as np\n",
        "import pandas as pd\n",
        "import matplotlib.pyplot as plt\n",
        "from sklearn.preprocessing import LabelEncoder\n",
        "from lightgbm import LGBMClassifier,LGBMRegressor\n",
        "import lightgbm as lgbm\n",
        "from sklearn.impute import KNNImputer\n",
        "from xgboost import XGBClassifier,XGBRegressor\n",
        "#from catboost import CatBoostRegressor\n",
        "from sklearn.tree import DecisionTreeRegressor\n",
        "from sklearn.ensemble import RandomForestClassifier,RandomForestRegressor,StackingRegressor\n",
        "from sklearn.metrics import mean_squared_error,make_scorer\n",
        "from sklearn.model_selection import cross_val_score,StratifiedKFold,train_test_split,KFold\n",
        "import warnings\n",
        "warnings.filterwarnings('ignore')"
      ],
      "execution_count": 2,
      "outputs": []
    },
    {
      "cell_type": "code",
      "metadata": {
        "colab": {
          "base_uri": "https://localhost:8080/"
        },
        "id": "_MHE2wP30szo",
        "outputId": "b2e116a4-8f21-4887-a7f1-790580b7c15d"
      },
      "source": [
        "!unzip \"/content/prml-data-contest-jan-2021.zip\""
      ],
      "execution_count": 3,
      "outputs": [
        {
          "output_type": "stream",
          "text": [
            "Archive:  /content/prml-data-contest-jan-2021.zip\n",
            "  inflating: prml-data-contest-jan-2021/dummy_submission.csv  \n",
            "  inflating: prml-data-contest-jan-2021/save_for_later.csv  \n",
            "  inflating: prml-data-contest-jan-2021/song_labels.csv  \n",
            "  inflating: prml-data-contest-jan-2021/songs.csv  \n",
            "  inflating: prml-data-contest-jan-2021/test.csv  \n",
            "  inflating: prml-data-contest-jan-2021/train.csv  \n"
          ],
          "name": "stdout"
        }
      ]
    },
    {
      "cell_type": "code",
      "metadata": {
        "id": "TDlvMPyX1a2J"
      },
      "source": [
        "\n",
        "dir='/content/prml-data-contest-jan-2021'\n",
        "train_path=dir+'/train.csv'\n",
        "test_path=dir+'/test.csv'\n",
        "dummy=dir+'/dummy_submission.csv'\n",
        "save=dir+'/save_for_later.csv'\n",
        "s_labels=dir+'/song_labels.csv'\n",
        "so=dir+'/songs.csv'\n",
        "\n",
        "train=pd.read_csv(train_path)\n",
        "test=pd.read_csv(test_path)\n",
        "sub=pd.read_csv(dummy)\n",
        "songs=pd.read_csv(so)\n",
        "song_labels=pd.read_csv(s_labels)\n",
        "song_labels=song_labels.loc[song_labels.groupby(['platform_id'])['count'].idxmax()]\n",
        "save_for_later=pd.read_csv(save)"
      ],
      "execution_count": 4,
      "outputs": []
    },
    {
      "cell_type": "code",
      "metadata": {
        "colab": {
          "base_uri": "https://localhost:8080/",
          "height": 204
        },
        "id": "DZSxHP-SlnFf",
        "outputId": "5ea5976b-0c79-44d4-b25e-1c26f82c50f3"
      },
      "source": [
        "song_labels.head()"
      ],
      "execution_count": null,
      "outputs": [
        {
          "output_type": "execute_result",
          "data": {
            "text/html": [
              "<div>\n",
              "<style scoped>\n",
              "    .dataframe tbody tr th:only-of-type {\n",
              "        vertical-align: middle;\n",
              "    }\n",
              "\n",
              "    .dataframe tbody tr th {\n",
              "        vertical-align: top;\n",
              "    }\n",
              "\n",
              "    .dataframe thead th {\n",
              "        text-align: right;\n",
              "    }\n",
              "</style>\n",
              "<table border=\"1\" class=\"dataframe\">\n",
              "  <thead>\n",
              "    <tr style=\"text-align: right;\">\n",
              "      <th></th>\n",
              "      <th>platform_id</th>\n",
              "      <th>label_id</th>\n",
              "      <th>count</th>\n",
              "    </tr>\n",
              "  </thead>\n",
              "  <tbody>\n",
              "    <tr>\n",
              "      <th>522972</th>\n",
              "      <td>P10</td>\n",
              "      <td>30574</td>\n",
              "      <td>3226</td>\n",
              "    </tr>\n",
              "    <tr>\n",
              "      <th>502330</th>\n",
              "      <td>P10090</td>\n",
              "      <td>30574</td>\n",
              "      <td>3005</td>\n",
              "    </tr>\n",
              "    <tr>\n",
              "      <th>42661</th>\n",
              "      <td>P102030</td>\n",
              "      <td>30574</td>\n",
              "      <td>11049</td>\n",
              "    </tr>\n",
              "    <tr>\n",
              "      <th>382884</th>\n",
              "      <td>P10210</td>\n",
              "      <td>30574</td>\n",
              "      <td>6084</td>\n",
              "    </tr>\n",
              "    <tr>\n",
              "      <th>954569</th>\n",
              "      <td>P1025250</td>\n",
              "      <td>30574</td>\n",
              "      <td>6583</td>\n",
              "    </tr>\n",
              "  </tbody>\n",
              "</table>\n",
              "</div>"
            ],
            "text/plain": [
              "       platform_id  label_id  count\n",
              "522972         P10     30574   3226\n",
              "502330      P10090     30574   3005\n",
              "42661      P102030     30574  11049\n",
              "382884      P10210     30574   6084\n",
              "954569    P1025250     30574   6583"
            ]
          },
          "metadata": {
            "tags": []
          },
          "execution_count": 73
        }
      ]
    },
    {
      "cell_type": "code",
      "metadata": {
        "id": "4gBFfVjIohRb"
      },
      "source": [
        "save_for_later['Saved']=1\n"
      ],
      "execution_count": 5,
      "outputs": []
    },
    {
      "cell_type": "code",
      "metadata": {
        "colab": {
          "base_uri": "https://localhost:8080/",
          "height": 419
        },
        "id": "f8degLDfpiD9",
        "outputId": "390d5390-08b3-41fb-9775-459b72735a4f"
      },
      "source": [
        "song_labels"
      ],
      "execution_count": null,
      "outputs": [
        {
          "output_type": "execute_result",
          "data": {
            "text/html": [
              "<div>\n",
              "<style scoped>\n",
              "    .dataframe tbody tr th:only-of-type {\n",
              "        vertical-align: middle;\n",
              "    }\n",
              "\n",
              "    .dataframe tbody tr th {\n",
              "        vertical-align: top;\n",
              "    }\n",
              "\n",
              "    .dataframe thead th {\n",
              "        text-align: right;\n",
              "    }\n",
              "</style>\n",
              "<table border=\"1\" class=\"dataframe\">\n",
              "  <thead>\n",
              "    <tr style=\"text-align: right;\">\n",
              "      <th></th>\n",
              "      <th>platform_id</th>\n",
              "      <th>label_id</th>\n",
              "      <th>count</th>\n",
              "    </tr>\n",
              "  </thead>\n",
              "  <tbody>\n",
              "    <tr>\n",
              "      <th>522972</th>\n",
              "      <td>P10</td>\n",
              "      <td>30574</td>\n",
              "      <td>3226</td>\n",
              "    </tr>\n",
              "    <tr>\n",
              "      <th>502330</th>\n",
              "      <td>P10090</td>\n",
              "      <td>30574</td>\n",
              "      <td>3005</td>\n",
              "    </tr>\n",
              "    <tr>\n",
              "      <th>42661</th>\n",
              "      <td>P102030</td>\n",
              "      <td>30574</td>\n",
              "      <td>11049</td>\n",
              "    </tr>\n",
              "    <tr>\n",
              "      <th>382884</th>\n",
              "      <td>P10210</td>\n",
              "      <td>30574</td>\n",
              "      <td>6084</td>\n",
              "    </tr>\n",
              "    <tr>\n",
              "      <th>954569</th>\n",
              "      <td>P1025250</td>\n",
              "      <td>30574</td>\n",
              "      <td>6583</td>\n",
              "    </tr>\n",
              "    <tr>\n",
              "      <th>...</th>\n",
              "      <td>...</td>\n",
              "      <td>...</td>\n",
              "      <td>...</td>\n",
              "    </tr>\n",
              "    <tr>\n",
              "      <th>429449</th>\n",
              "      <td>Y9917879</td>\n",
              "      <td>30574</td>\n",
              "      <td>8815</td>\n",
              "    </tr>\n",
              "    <tr>\n",
              "      <th>944038</th>\n",
              "      <td>Y99219</td>\n",
              "      <td>30574</td>\n",
              "      <td>4199</td>\n",
              "    </tr>\n",
              "    <tr>\n",
              "      <th>841502</th>\n",
              "      <td>Y99329</td>\n",
              "      <td>30574</td>\n",
              "      <td>22374</td>\n",
              "    </tr>\n",
              "    <tr>\n",
              "      <th>242929</th>\n",
              "      <td>Y9975679</td>\n",
              "      <td>30574</td>\n",
              "      <td>29954</td>\n",
              "    </tr>\n",
              "    <tr>\n",
              "      <th>98363</th>\n",
              "      <td>Y9975779</td>\n",
              "      <td>30574</td>\n",
              "      <td>2124</td>\n",
              "    </tr>\n",
              "  </tbody>\n",
              "</table>\n",
              "<p>10000 rows × 3 columns</p>\n",
              "</div>"
            ],
            "text/plain": [
              "       platform_id  label_id  count\n",
              "522972         P10     30574   3226\n",
              "502330      P10090     30574   3005\n",
              "42661      P102030     30574  11049\n",
              "382884      P10210     30574   6084\n",
              "954569    P1025250     30574   6583\n",
              "...            ...       ...    ...\n",
              "429449    Y9917879     30574   8815\n",
              "944038      Y99219     30574   4199\n",
              "841502      Y99329     30574  22374\n",
              "242929    Y9975679     30574  29954\n",
              "98363     Y9975779     30574   2124\n",
              "\n",
              "[10000 rows x 3 columns]"
            ]
          },
          "metadata": {
            "tags": []
          },
          "execution_count": 43
        }
      ]
    },
    {
      "cell_type": "code",
      "metadata": {
        "colab": {
          "base_uri": "https://localhost:8080/",
          "height": 419
        },
        "id": "90EBbK7M35mp",
        "outputId": "7ed20c25-02bd-453f-f11e-9b602b4b780b"
      },
      "source": [
        "train_merged=pd.merge(train,songs,on='song_id',how='left')\n",
        "train_merged"
      ],
      "execution_count": 6,
      "outputs": [
        {
          "output_type": "execute_result",
          "data": {
            "text/html": [
              "<div>\n",
              "<style scoped>\n",
              "    .dataframe tbody tr th:only-of-type {\n",
              "        vertical-align: middle;\n",
              "    }\n",
              "\n",
              "    .dataframe tbody tr th {\n",
              "        vertical-align: top;\n",
              "    }\n",
              "\n",
              "    .dataframe thead th {\n",
              "        text-align: right;\n",
              "    }\n",
              "</style>\n",
              "<table border=\"1\" class=\"dataframe\">\n",
              "  <thead>\n",
              "    <tr style=\"text-align: right;\">\n",
              "      <th></th>\n",
              "      <th>customer_id</th>\n",
              "      <th>song_id</th>\n",
              "      <th>score</th>\n",
              "      <th>platform_id</th>\n",
              "      <th>released_year</th>\n",
              "      <th>language</th>\n",
              "      <th>number_of_comments</th>\n",
              "    </tr>\n",
              "  </thead>\n",
              "  <tbody>\n",
              "    <tr>\n",
              "      <th>0</th>\n",
              "      <td>O29219</td>\n",
              "      <td>3459</td>\n",
              "      <td>3</td>\n",
              "      <td>P49540</td>\n",
              "      <td>1782.0</td>\n",
              "      <td>eng</td>\n",
              "      <td>1066.0</td>\n",
              "    </tr>\n",
              "    <tr>\n",
              "      <th>1</th>\n",
              "      <td>I50343</td>\n",
              "      <td>5326</td>\n",
              "      <td>4</td>\n",
              "      <td>W216377</td>\n",
              "      <td>1981.0</td>\n",
              "      <td>eng</td>\n",
              "      <td>1119.0</td>\n",
              "    </tr>\n",
              "    <tr>\n",
              "      <th>2</th>\n",
              "      <td>N42888</td>\n",
              "      <td>236</td>\n",
              "      <td>5</td>\n",
              "      <td>X1898</td>\n",
              "      <td>1997.0</td>\n",
              "      <td>en-US</td>\n",
              "      <td>10439.0</td>\n",
              "    </tr>\n",
              "    <tr>\n",
              "      <th>3</th>\n",
              "      <td>F5740</td>\n",
              "      <td>724</td>\n",
              "      <td>4</td>\n",
              "      <td>W2233407</td>\n",
              "      <td>2008.0</td>\n",
              "      <td>eng</td>\n",
              "      <td>3500.0</td>\n",
              "    </tr>\n",
              "    <tr>\n",
              "      <th>4</th>\n",
              "      <td>K4115</td>\n",
              "      <td>8452</td>\n",
              "      <td>5</td>\n",
              "      <td>V5946</td>\n",
              "      <td>1987.0</td>\n",
              "      <td>NaN</td>\n",
              "      <td>762.0</td>\n",
              "    </tr>\n",
              "    <tr>\n",
              "      <th>...</th>\n",
              "      <td>...</td>\n",
              "      <td>...</td>\n",
              "      <td>...</td>\n",
              "      <td>...</td>\n",
              "      <td>...</td>\n",
              "      <td>...</td>\n",
              "      <td>...</td>\n",
              "    </tr>\n",
              "    <tr>\n",
              "      <th>710104</th>\n",
              "      <td>H6322</td>\n",
              "      <td>1003</td>\n",
              "      <td>4</td>\n",
              "      <td>V61666</td>\n",
              "      <td>1985.0</td>\n",
              "      <td>eng</td>\n",
              "      <td>2126.0</td>\n",
              "    </tr>\n",
              "    <tr>\n",
              "      <th>710105</th>\n",
              "      <td>L6306</td>\n",
              "      <td>705</td>\n",
              "      <td>5</td>\n",
              "      <td>U10605</td>\n",
              "      <td>1984.0</td>\n",
              "      <td>en-GB</td>\n",
              "      <td>1641.0</td>\n",
              "    </tr>\n",
              "    <tr>\n",
              "      <th>710106</th>\n",
              "      <td>J2494</td>\n",
              "      <td>6028</td>\n",
              "      <td>3</td>\n",
              "      <td>Y9509289</td>\n",
              "      <td>2011.0</td>\n",
              "      <td>en-US</td>\n",
              "      <td>2542.0</td>\n",
              "    </tr>\n",
              "    <tr>\n",
              "      <th>710107</th>\n",
              "      <td>G41961</td>\n",
              "      <td>2397</td>\n",
              "      <td>4</td>\n",
              "      <td>W76237</td>\n",
              "      <td>1985.0</td>\n",
              "      <td>NaN</td>\n",
              "      <td>36.0</td>\n",
              "    </tr>\n",
              "    <tr>\n",
              "      <th>710108</th>\n",
              "      <td>H14592</td>\n",
              "      <td>857</td>\n",
              "      <td>5</td>\n",
              "      <td>R902</td>\n",
              "      <td>1978.0</td>\n",
              "      <td>eng</td>\n",
              "      <td>7814.0</td>\n",
              "    </tr>\n",
              "  </tbody>\n",
              "</table>\n",
              "<p>710109 rows × 7 columns</p>\n",
              "</div>"
            ],
            "text/plain": [
              "       customer_id  song_id  score  ... released_year  language number_of_comments\n",
              "0           O29219     3459      3  ...        1782.0       eng             1066.0\n",
              "1           I50343     5326      4  ...        1981.0       eng             1119.0\n",
              "2           N42888      236      5  ...        1997.0     en-US            10439.0\n",
              "3            F5740      724      4  ...        2008.0       eng             3500.0\n",
              "4            K4115     8452      5  ...        1987.0       NaN              762.0\n",
              "...            ...      ...    ...  ...           ...       ...                ...\n",
              "710104       H6322     1003      4  ...        1985.0       eng             2126.0\n",
              "710105       L6306      705      5  ...        1984.0     en-GB             1641.0\n",
              "710106       J2494     6028      3  ...        2011.0     en-US             2542.0\n",
              "710107      G41961     2397      4  ...        1985.0       NaN               36.0\n",
              "710108      H14592      857      5  ...        1978.0       eng             7814.0\n",
              "\n",
              "[710109 rows x 7 columns]"
            ]
          },
          "metadata": {
            "tags": []
          },
          "execution_count": 6
        }
      ]
    },
    {
      "cell_type": "code",
      "metadata": {
        "id": "4O35WT9N-gEa"
      },
      "source": [
        "\n",
        "#save_for_later['Saved']=1\n",
        "#train_merged=pd.merge(train,songs,on='song_id',how='left')\n",
        "train_merged=pd.merge(train_merged,song_labels,on='platform_id',how='left')\n",
        "test_merged=pd.merge(test,songs,on='song_id',how='left')\n",
        "test_merged=pd.merge(test_merged,song_labels,on='platform_id',how='left')\n",
        "train_merged['Saved']=0\n",
        "test_merged['Saved']=0\n",
        "dat=pd.concat([train_merged,test_merged])\n",
        "dat_m=pd.merge(dat,save_for_later,how='left',on=['customer_id','song_id'])\n",
        "dat_m['Saved']=(dat_m['Saved_y'].fillna(0)+dat_m['Saved_x']).apply(lambda x:int(x))\n",
        "dat_m.drop(['Saved_x','Saved_y'],axis=1,inplace=True)\n",
        "#dat_m.loc[dat_m['language']=='en-US','language']='eng'\n",
        "#dat_m.loc[dat_m['language']=='en-CA','language']='eng'\n",
        "#dat_m.loc[dat_m['language']=='en-GB','language']='eng'"
      ],
      "execution_count": 7,
      "outputs": []
    },
    {
      "cell_type": "code",
      "metadata": {
        "id": "gZoCZ5yNpgjK"
      },
      "source": [
        ""
      ],
      "execution_count": null,
      "outputs": []
    },
    {
      "cell_type": "code",
      "metadata": {
        "colab": {
          "base_uri": "https://localhost:8080/",
          "height": 204
        },
        "id": "Ac8vLLTat6DG",
        "outputId": "9d739479-0fa8-417f-fbf5-1cfe0b7d354f"
      },
      "source": [
        "dat_m.head()"
      ],
      "execution_count": 8,
      "outputs": [
        {
          "output_type": "execute_result",
          "data": {
            "text/html": [
              "<div>\n",
              "<style scoped>\n",
              "    .dataframe tbody tr th:only-of-type {\n",
              "        vertical-align: middle;\n",
              "    }\n",
              "\n",
              "    .dataframe tbody tr th {\n",
              "        vertical-align: top;\n",
              "    }\n",
              "\n",
              "    .dataframe thead th {\n",
              "        text-align: right;\n",
              "    }\n",
              "</style>\n",
              "<table border=\"1\" class=\"dataframe\">\n",
              "  <thead>\n",
              "    <tr style=\"text-align: right;\">\n",
              "      <th></th>\n",
              "      <th>customer_id</th>\n",
              "      <th>song_id</th>\n",
              "      <th>score</th>\n",
              "      <th>platform_id</th>\n",
              "      <th>released_year</th>\n",
              "      <th>language</th>\n",
              "      <th>number_of_comments</th>\n",
              "      <th>label_id</th>\n",
              "      <th>count</th>\n",
              "      <th>Saved</th>\n",
              "    </tr>\n",
              "  </thead>\n",
              "  <tbody>\n",
              "    <tr>\n",
              "      <th>0</th>\n",
              "      <td>O29219</td>\n",
              "      <td>3459</td>\n",
              "      <td>3.0</td>\n",
              "      <td>P49540</td>\n",
              "      <td>1782.0</td>\n",
              "      <td>eng</td>\n",
              "      <td>1066.0</td>\n",
              "      <td>30574.0</td>\n",
              "      <td>31952.0</td>\n",
              "      <td>0</td>\n",
              "    </tr>\n",
              "    <tr>\n",
              "      <th>1</th>\n",
              "      <td>I50343</td>\n",
              "      <td>5326</td>\n",
              "      <td>4.0</td>\n",
              "      <td>W216377</td>\n",
              "      <td>1981.0</td>\n",
              "      <td>eng</td>\n",
              "      <td>1119.0</td>\n",
              "      <td>30574.0</td>\n",
              "      <td>14338.0</td>\n",
              "      <td>0</td>\n",
              "    </tr>\n",
              "    <tr>\n",
              "      <th>2</th>\n",
              "      <td>N42888</td>\n",
              "      <td>236</td>\n",
              "      <td>5.0</td>\n",
              "      <td>X1898</td>\n",
              "      <td>1997.0</td>\n",
              "      <td>en-US</td>\n",
              "      <td>10439.0</td>\n",
              "      <td>30574.0</td>\n",
              "      <td>21613.0</td>\n",
              "      <td>0</td>\n",
              "    </tr>\n",
              "    <tr>\n",
              "      <th>3</th>\n",
              "      <td>F5740</td>\n",
              "      <td>724</td>\n",
              "      <td>4.0</td>\n",
              "      <td>W2233407</td>\n",
              "      <td>2008.0</td>\n",
              "      <td>eng</td>\n",
              "      <td>3500.0</td>\n",
              "      <td>30574.0</td>\n",
              "      <td>22397.0</td>\n",
              "      <td>0</td>\n",
              "    </tr>\n",
              "    <tr>\n",
              "      <th>4</th>\n",
              "      <td>K4115</td>\n",
              "      <td>8452</td>\n",
              "      <td>5.0</td>\n",
              "      <td>V5946</td>\n",
              "      <td>1987.0</td>\n",
              "      <td>NaN</td>\n",
              "      <td>762.0</td>\n",
              "      <td>30574.0</td>\n",
              "      <td>5715.0</td>\n",
              "      <td>0</td>\n",
              "    </tr>\n",
              "  </tbody>\n",
              "</table>\n",
              "</div>"
            ],
            "text/plain": [
              "  customer_id  song_id  score  ... label_id    count Saved\n",
              "0      O29219     3459    3.0  ...  30574.0  31952.0     0\n",
              "1      I50343     5326    4.0  ...  30574.0  14338.0     0\n",
              "2      N42888      236    5.0  ...  30574.0  21613.0     0\n",
              "3       F5740      724    4.0  ...  30574.0  22397.0     0\n",
              "4       K4115     8452    5.0  ...  30574.0   5715.0     0\n",
              "\n",
              "[5 rows x 10 columns]"
            ]
          },
          "metadata": {
            "tags": []
          },
          "execution_count": 8
        }
      ]
    },
    {
      "cell_type": "markdown",
      "metadata": {
        "id": "mPw7l9BvbwzI"
      },
      "source": [
        "## Preprocessing"
      ]
    },
    {
      "cell_type": "code",
      "metadata": {
        "id": "kJF5DhNPUZMd"
      },
      "source": [
        "#dat_m['released_year'].fillna(0,inplace=True)\n",
        "#dat_m['platform_id'].fillna(dat_m['platform_id'].mode()[0],inplace=True)\n",
        "#dat_m['language'].fillna(dat_m['language'].mode()[0],inplace=True)\n",
        "#dat_m['number_of_comments'].fillna(0,inplace=True)\n",
        "#dat_m['count'].fillna(0,inplace=True)\n",
        "#dat_m['label_id'].fillna(0,inplace=True)"
      ],
      "execution_count": null,
      "outputs": []
    },
    {
      "cell_type": "code",
      "metadata": {
        "id": "krAJ83jPUmrh"
      },
      "source": [
        "#cols=['customer_id','platform_id', 'language']\n",
        "cols=['customer_id','song_id','platform_id','language','label_id']\n",
        "for col in cols:\n",
        "  enc=LabelEncoder()\n",
        "  dat_m[col]=enc.fit_transform(dat_m[col].astype(str))\n",
        "cols=['number_of_comments','count']\n",
        "for col in cols:\n",
        "  imp=KNNImputer(n_neighbors=15)\n",
        "  dat_m[col]=imp.fit_transform(dat_m[[col]])\n",
        "train_new=dat_m.iloc[:len(train)]\n",
        "test_new=dat_m.iloc[len(train):]\n",
        "test_new.drop(['score'],axis=1,inplace=True)"
      ],
      "execution_count": 9,
      "outputs": []
    },
    {
      "cell_type": "code",
      "metadata": {
        "id": "22w7HWl8fSfo"
      },
      "source": [
        "train_new.to_csv('train_new_proper.csv',index=False)\n",
        "test_new.to_csv('test_new_proper.csv',index=False)"
      ],
      "execution_count": 10,
      "outputs": []
    },
    {
      "cell_type": "code",
      "metadata": {
        "id": "hEr3WcWnfaRp"
      },
      "source": [
        "train_new=pd.read_csv('train_new.csv')\n",
        "test_new=pd.read_csv('test_new.csv')"
      ],
      "execution_count": null,
      "outputs": []
    },
    {
      "cell_type": "code",
      "metadata": {
        "colab": {
          "base_uri": "https://localhost:8080/"
        },
        "id": "mBfYgeR6foxB",
        "outputId": "d26e54eb-65fc-47bf-b3db-f88c1dda4787"
      },
      "source": [
        ""
      ],
      "execution_count": 11,
      "outputs": [
        {
          "output_type": "execute_result",
          "data": {
            "text/plain": [
              "customer_id              0\n",
              "song_id                  0\n",
              "score                    0\n",
              "platform_id              0\n",
              "released_year         1527\n",
              "language                 0\n",
              "number_of_comments       0\n",
              "label_id                 0\n",
              "count                    0\n",
              "Saved                    0\n",
              "dtype: int64"
            ]
          },
          "metadata": {
            "tags": []
          },
          "execution_count": 11
        }
      ]
    },
    {
      "cell_type": "markdown",
      "metadata": {
        "id": "H1H1OQUCgbEg"
      },
      "source": [
        "## Training"
      ]
    },
    {
      "cell_type": "code",
      "metadata": {
        "id": "W2pb7Ko6goui"
      },
      "source": [
        "X,y=train_new.drop(['score'],axis=1),train_new['score']\n",
        "scorer=make_scorer(mean_squared_error)\n",
        "fold=KFold(n_splits=6,random_state=101)"
      ],
      "execution_count": 11,
      "outputs": []
    },
    {
      "cell_type": "code",
      "metadata": {
        "colab": {
          "base_uri": "https://localhost:8080/",
          "height": 419
        },
        "id": "Zp2Y6wbPQV4I",
        "outputId": "a6c690a0-1884-426e-9540-50101e4ac27a"
      },
      "source": [
        "X"
      ],
      "execution_count": 12,
      "outputs": [
        {
          "output_type": "execute_result",
          "data": {
            "text/html": [
              "<div>\n",
              "<style scoped>\n",
              "    .dataframe tbody tr th:only-of-type {\n",
              "        vertical-align: middle;\n",
              "    }\n",
              "\n",
              "    .dataframe tbody tr th {\n",
              "        vertical-align: top;\n",
              "    }\n",
              "\n",
              "    .dataframe thead th {\n",
              "        text-align: right;\n",
              "    }\n",
              "</style>\n",
              "<table border=\"1\" class=\"dataframe\">\n",
              "  <thead>\n",
              "    <tr style=\"text-align: right;\">\n",
              "      <th></th>\n",
              "      <th>customer_id</th>\n",
              "      <th>song_id</th>\n",
              "      <th>platform_id</th>\n",
              "      <th>released_year</th>\n",
              "      <th>language</th>\n",
              "      <th>number_of_comments</th>\n",
              "      <th>label_id</th>\n",
              "      <th>count</th>\n",
              "      <th>Saved</th>\n",
              "    </tr>\n",
              "  </thead>\n",
              "  <tbody>\n",
              "    <tr>\n",
              "      <th>0</th>\n",
              "      <td>13168</td>\n",
              "      <td>2734</td>\n",
              "      <td>698</td>\n",
              "      <td>1782.0</td>\n",
              "      <td>6</td>\n",
              "      <td>1066.0</td>\n",
              "      <td>59</td>\n",
              "      <td>31952.0</td>\n",
              "      <td>0</td>\n",
              "    </tr>\n",
              "    <tr>\n",
              "      <th>1</th>\n",
              "      <td>5393</td>\n",
              "      <td>4809</td>\n",
              "      <td>7389</td>\n",
              "      <td>1981.0</td>\n",
              "      <td>6</td>\n",
              "      <td>1119.0</td>\n",
              "      <td>59</td>\n",
              "      <td>14338.0</td>\n",
              "      <td>0</td>\n",
              "    </tr>\n",
              "    <tr>\n",
              "      <th>2</th>\n",
              "      <td>12189</td>\n",
              "      <td>1513</td>\n",
              "      <td>8333</td>\n",
              "      <td>1997.0</td>\n",
              "      <td>5</td>\n",
              "      <td>10439.0</td>\n",
              "      <td>59</td>\n",
              "      <td>21613.0</td>\n",
              "      <td>0</td>\n",
              "    </tr>\n",
              "    <tr>\n",
              "      <th>3</th>\n",
              "      <td>1306</td>\n",
              "      <td>6935</td>\n",
              "      <td>7405</td>\n",
              "      <td>2008.0</td>\n",
              "      <td>6</td>\n",
              "      <td>3500.0</td>\n",
              "      <td>59</td>\n",
              "      <td>22397.0</td>\n",
              "      <td>0</td>\n",
              "    </tr>\n",
              "    <tr>\n",
              "      <th>4</th>\n",
              "      <td>7967</td>\n",
              "      <td>8282</td>\n",
              "      <td>6767</td>\n",
              "      <td>1987.0</td>\n",
              "      <td>14</td>\n",
              "      <td>762.0</td>\n",
              "      <td>59</td>\n",
              "      <td>5715.0</td>\n",
              "      <td>0</td>\n",
              "    </tr>\n",
              "    <tr>\n",
              "      <th>...</th>\n",
              "      <td>...</td>\n",
              "      <td>...</td>\n",
              "      <td>...</td>\n",
              "      <td>...</td>\n",
              "      <td>...</td>\n",
              "      <td>...</td>\n",
              "      <td>...</td>\n",
              "      <td>...</td>\n",
              "      <td>...</td>\n",
              "    </tr>\n",
              "    <tr>\n",
              "      <th>710104</th>\n",
              "      <td>4097</td>\n",
              "      <td>7</td>\n",
              "      <td>6780</td>\n",
              "      <td>1985.0</td>\n",
              "      <td>6</td>\n",
              "      <td>2126.0</td>\n",
              "      <td>59</td>\n",
              "      <td>57469.0</td>\n",
              "      <td>0</td>\n",
              "    </tr>\n",
              "    <tr>\n",
              "      <th>710105</th>\n",
              "      <td>9781</td>\n",
              "      <td>6724</td>\n",
              "      <td>5010</td>\n",
              "      <td>1984.0</td>\n",
              "      <td>4</td>\n",
              "      <td>1641.0</td>\n",
              "      <td>16</td>\n",
              "      <td>2687.0</td>\n",
              "      <td>0</td>\n",
              "    </tr>\n",
              "    <tr>\n",
              "      <th>710106</th>\n",
              "      <td>6035</td>\n",
              "      <td>5589</td>\n",
              "      <td>9960</td>\n",
              "      <td>2011.0</td>\n",
              "      <td>5</td>\n",
              "      <td>2542.0</td>\n",
              "      <td>59</td>\n",
              "      <td>3502.0</td>\n",
              "      <td>0</td>\n",
              "    </tr>\n",
              "    <tr>\n",
              "      <th>710107</th>\n",
              "      <td>2340</td>\n",
              "      <td>1554</td>\n",
              "      <td>7853</td>\n",
              "      <td>1985.0</td>\n",
              "      <td>14</td>\n",
              "      <td>36.0</td>\n",
              "      <td>59</td>\n",
              "      <td>2169.0</td>\n",
              "      <td>0</td>\n",
              "    </tr>\n",
              "    <tr>\n",
              "      <th>710108</th>\n",
              "      <td>2934</td>\n",
              "      <td>8412</td>\n",
              "      <td>2956</td>\n",
              "      <td>1978.0</td>\n",
              "      <td>6</td>\n",
              "      <td>7814.0</td>\n",
              "      <td>59</td>\n",
              "      <td>53759.0</td>\n",
              "      <td>0</td>\n",
              "    </tr>\n",
              "  </tbody>\n",
              "</table>\n",
              "<p>710109 rows × 9 columns</p>\n",
              "</div>"
            ],
            "text/plain": [
              "        customer_id  song_id  platform_id  ...  label_id    count  Saved\n",
              "0             13168     2734          698  ...        59  31952.0      0\n",
              "1              5393     4809         7389  ...        59  14338.0      0\n",
              "2             12189     1513         8333  ...        59  21613.0      0\n",
              "3              1306     6935         7405  ...        59  22397.0      0\n",
              "4              7967     8282         6767  ...        59   5715.0      0\n",
              "...             ...      ...          ...  ...       ...      ...    ...\n",
              "710104         4097        7         6780  ...        59  57469.0      0\n",
              "710105         9781     6724         5010  ...        16   2687.0      0\n",
              "710106         6035     5589         9960  ...        59   3502.0      0\n",
              "710107         2340     1554         7853  ...        59   2169.0      0\n",
              "710108         2934     8412         2956  ...        59  53759.0      0\n",
              "\n",
              "[710109 rows x 9 columns]"
            ]
          },
          "metadata": {
            "tags": []
          },
          "execution_count": 12
        }
      ]
    },
    {
      "cell_type": "code",
      "metadata": {
        "id": "LSRc-oRi8MyO"
      },
      "source": [
        "X_train,X_val,y_train,y_val=train_test_split(X,y,random_state=100,test_size=0.3)"
      ],
      "execution_count": 13,
      "outputs": []
    },
    {
      "cell_type": "code",
      "metadata": {
        "id": "CO0_KyyhWw3f"
      },
      "source": [
        "#params={'lambda_l1': 1.856734106912951e-06, 'lambda_l2': 3.686049110509207e-05, 'num_leaves': 179, 'feature_fraction': 0.6392889819168043, 'bagging_fraction': 0.901838979740169, 'bagging_freq': 3, 'min_child_samples': 11}"
      ],
      "execution_count": null,
      "outputs": []
    },
    {
      "cell_type": "code",
      "metadata": {
        "colab": {
          "base_uri": "https://localhost:8080/"
        },
        "id": "YCppNb0MhD7k",
        "outputId": "ece9376e-3c7b-448f-9d76-bac2492ee710"
      },
      "source": [
        "model=LGBMRegressor(objective='regression',**params2,random_state=101)\n",
        "model.fit(X_train,y_train,categorical_feature=['customer_id','song_id','platform_id','language','label_id','Saved'])\n",
        "p=model.predict(X_val)\n",
        "p1=np.clip(p,1,5)\n",
        "print(mean_squared_error(y_val,p1))"
      ],
      "execution_count": null,
      "outputs": [
        {
          "output_type": "stream",
          "text": [
            "0.9340695506814357\n"
          ],
          "name": "stdout"
        }
      ]
    },
    {
      "cell_type": "code",
      "metadata": {
        "colab": {
          "base_uri": "https://localhost:8080/",
          "height": 229
        },
        "id": "KdWSk-D6aXad",
        "outputId": "2fa2ee00-a7ec-4b3a-acbe-ad8425c6f72b"
      },
      "source": [
        "model1=LGBMRegressor(objective='regression',**params2,categorical_feature=['customer_id','song_id','platform_id','language','label_id','Saved'])\n",
        "model2=LGBMRegressor(objective='regression',**params,categorical_feature=['customer_id','song_id','platform_id','language','label_id','Saved'])\n",
        "models=[('lgbm1',model1),('lgbm2',model2)]\n",
        "model=StackingRegressor(models,final_estimator=LGBMRegressor())\n",
        "fit_params={'categorical_feature':['customer_id','song_id','platform_id','language','label_id','Saved']}\n",
        "y=model.fit(X_train,y_train)\n",
        "p=model.predict(X_val)\n",
        "p1=np.clip(p,1,5)\n",
        "print(mean_squared_error(y_val,p1))"
      ],
      "execution_count": null,
      "outputs": [
        {
          "output_type": "error",
          "ename": "NameError",
          "evalue": "ignored",
          "traceback": [
            "\u001b[0;31m---------------------------------------------------------------------------\u001b[0m",
            "\u001b[0;31mNameError\u001b[0m                                 Traceback (most recent call last)",
            "\u001b[0;32m<ipython-input-6-1e26ae225abb>\u001b[0m in \u001b[0;36m<module>\u001b[0;34m()\u001b[0m\n\u001b[0;32m----> 1\u001b[0;31m \u001b[0mmodel1\u001b[0m\u001b[0;34m=\u001b[0m\u001b[0mLGBMRegressor\u001b[0m\u001b[0;34m(\u001b[0m\u001b[0mobjective\u001b[0m\u001b[0;34m=\u001b[0m\u001b[0;34m'regression'\u001b[0m\u001b[0;34m,\u001b[0m\u001b[0;34m**\u001b[0m\u001b[0mparams2\u001b[0m\u001b[0;34m,\u001b[0m\u001b[0mcategorical_feature\u001b[0m\u001b[0;34m=\u001b[0m\u001b[0;34m[\u001b[0m\u001b[0;34m'customer_id'\u001b[0m\u001b[0;34m,\u001b[0m\u001b[0;34m'song_id'\u001b[0m\u001b[0;34m,\u001b[0m\u001b[0;34m'platform_id'\u001b[0m\u001b[0;34m,\u001b[0m\u001b[0;34m'language'\u001b[0m\u001b[0;34m,\u001b[0m\u001b[0;34m'label_id'\u001b[0m\u001b[0;34m,\u001b[0m\u001b[0;34m'Saved'\u001b[0m\u001b[0;34m]\u001b[0m\u001b[0;34m)\u001b[0m\u001b[0;34m\u001b[0m\u001b[0;34m\u001b[0m\u001b[0m\n\u001b[0m\u001b[1;32m      2\u001b[0m \u001b[0mmodel2\u001b[0m\u001b[0;34m=\u001b[0m\u001b[0mLGBMRegressor\u001b[0m\u001b[0;34m(\u001b[0m\u001b[0mobjective\u001b[0m\u001b[0;34m=\u001b[0m\u001b[0;34m'regression'\u001b[0m\u001b[0;34m,\u001b[0m\u001b[0;34m**\u001b[0m\u001b[0mparams\u001b[0m\u001b[0;34m,\u001b[0m\u001b[0mcategorical_feature\u001b[0m\u001b[0;34m=\u001b[0m\u001b[0;34m[\u001b[0m\u001b[0;34m'customer_id'\u001b[0m\u001b[0;34m,\u001b[0m\u001b[0;34m'song_id'\u001b[0m\u001b[0;34m,\u001b[0m\u001b[0;34m'platform_id'\u001b[0m\u001b[0;34m,\u001b[0m\u001b[0;34m'language'\u001b[0m\u001b[0;34m,\u001b[0m\u001b[0;34m'label_id'\u001b[0m\u001b[0;34m,\u001b[0m\u001b[0;34m'Saved'\u001b[0m\u001b[0;34m]\u001b[0m\u001b[0;34m)\u001b[0m\u001b[0;34m\u001b[0m\u001b[0;34m\u001b[0m\u001b[0m\n\u001b[1;32m      3\u001b[0m \u001b[0mmodels\u001b[0m\u001b[0;34m=\u001b[0m\u001b[0;34m[\u001b[0m\u001b[0;34m(\u001b[0m\u001b[0;34m'lgbm1'\u001b[0m\u001b[0;34m,\u001b[0m\u001b[0mmodel1\u001b[0m\u001b[0;34m)\u001b[0m\u001b[0;34m,\u001b[0m\u001b[0;34m(\u001b[0m\u001b[0;34m'lgbm2'\u001b[0m\u001b[0;34m,\u001b[0m\u001b[0mmodel2\u001b[0m\u001b[0;34m)\u001b[0m\u001b[0;34m]\u001b[0m\u001b[0;34m\u001b[0m\u001b[0;34m\u001b[0m\u001b[0m\n\u001b[1;32m      4\u001b[0m \u001b[0mmodel\u001b[0m\u001b[0;34m=\u001b[0m\u001b[0mStackingRegressor\u001b[0m\u001b[0;34m(\u001b[0m\u001b[0mmodels\u001b[0m\u001b[0;34m,\u001b[0m\u001b[0mfinal_estimator\u001b[0m\u001b[0;34m=\u001b[0m\u001b[0mLGBMRegressor\u001b[0m\u001b[0;34m(\u001b[0m\u001b[0;34m)\u001b[0m\u001b[0;34m)\u001b[0m\u001b[0;34m\u001b[0m\u001b[0;34m\u001b[0m\u001b[0m\n\u001b[1;32m      5\u001b[0m \u001b[0mfit_params\u001b[0m\u001b[0;34m=\u001b[0m\u001b[0;34m{\u001b[0m\u001b[0;34m'categorical_feature'\u001b[0m\u001b[0;34m:\u001b[0m\u001b[0;34m[\u001b[0m\u001b[0;34m'customer_id'\u001b[0m\u001b[0;34m,\u001b[0m\u001b[0;34m'song_id'\u001b[0m\u001b[0;34m,\u001b[0m\u001b[0;34m'platform_id'\u001b[0m\u001b[0;34m,\u001b[0m\u001b[0;34m'language'\u001b[0m\u001b[0;34m,\u001b[0m\u001b[0;34m'label_id'\u001b[0m\u001b[0;34m,\u001b[0m\u001b[0;34m'Saved'\u001b[0m\u001b[0;34m]\u001b[0m\u001b[0;34m}\u001b[0m\u001b[0;34m\u001b[0m\u001b[0;34m\u001b[0m\u001b[0m\n",
            "\u001b[0;31mNameError\u001b[0m: name 'params2' is not defined"
          ]
        }
      ]
    },
    {
      "cell_type": "code",
      "metadata": {
        "id": "i7l-H-YyieIG"
      },
      "source": [
        "params={'reg_alpha': 0.009820865971871366, 'reg_lambda': 3.188178573374264, 'colsample_bytree': 0.8, 'subsample': 0.4, 'learning_rate': 0.1, 'max_depth': 100, 'num_leaves': 687, 'min_child_samples': 98}"
      ],
      "execution_count": null,
      "outputs": []
    },
    {
      "cell_type": "code",
      "metadata": {
        "id": "US3KD7QkmnCq"
      },
      "source": [
        "\n",
        "vals=cross_val_score(LGBMRegressor(**params2,random_state=101,objective='regression',subsample_freq=1,min_data_per_group=1),X,y,n_jobs=-1,cv=fold,scoring=scorer,fit_params={'categorical_feature':['customer_id','song_id','platform_id','language','label_id','Saved']})"
      ],
      "execution_count": null,
      "outputs": []
    },
    {
      "cell_type": "code",
      "metadata": {
        "colab": {
          "base_uri": "https://localhost:8080/"
        },
        "id": "XYQAGEZBorMh",
        "outputId": "0e4bb2da-f7d7-4d0d-a8dc-df8cbfdfd3d9"
      },
      "source": [
        "vals"
      ],
      "execution_count": null,
      "outputs": [
        {
          "output_type": "execute_result",
          "data": {
            "text/plain": [
              "array([0.74373964, 0.73677885, 0.74342921, 0.74031572, 0.73714526])"
            ]
          },
          "metadata": {
            "tags": []
          },
          "execution_count": 108
        }
      ]
    },
    {
      "cell_type": "code",
      "metadata": {
        "id": "AOxvp5y1C0Kj",
        "colab": {
          "base_uri": "https://localhost:8080/"
        },
        "outputId": "5cf42de9-cec5-44a1-b909-9b053fddd07a"
      },
      "source": [
        "vals.mean()"
      ],
      "execution_count": null,
      "outputs": [
        {
          "output_type": "execute_result",
          "data": {
            "text/plain": [
              "0.7402817344015269"
            ]
          },
          "metadata": {
            "tags": []
          },
          "execution_count": 109
        }
      ]
    },
    {
      "cell_type": "code",
      "metadata": {
        "id": "xtAPPRi_otjj",
        "colab": {
          "base_uri": "https://localhost:8080/",
          "height": 370
        },
        "outputId": "a8f72cc4-6b9f-44eb-da53-00a8197cb716"
      },
      "source": [
        "preds,models=[],[]\n",
        "for train_idx,test_idx in fold.split(X,y):\n",
        "  X_train,y_train=X.iloc[train_idx],y[train_idx]\n",
        "  X_val,y_val=X.iloc[test_idx],y[test_idx]\n",
        "  model=LGBMRegressor(objective='regression',**params2,random_state=101,subsample_freq=1)\n",
        "  model.fit(X_train,y_train,categorical_feature=['customer_id','song_id','platform_id','language','label_id','Saved'])\n",
        "  models.append(model)\n",
        "p1=np.zeros(len(test_new))\n",
        "for model in models:\n",
        "  p=model.predict(test_new)\n",
        "  p1+=p\n",
        "preds=p1/5\n",
        "preds=np.clip(preds,1,5)"
      ],
      "execution_count": null,
      "outputs": [
        {
          "output_type": "error",
          "ename": "KeyboardInterrupt",
          "evalue": "ignored",
          "traceback": [
            "\u001b[0;31m---------------------------------------------------------------------------\u001b[0m",
            "\u001b[0;31mKeyboardInterrupt\u001b[0m                         Traceback (most recent call last)",
            "\u001b[0;32m<ipython-input-89-10f68b0d5505>\u001b[0m in \u001b[0;36m<module>\u001b[0;34m()\u001b[0m\n\u001b[1;32m      4\u001b[0m   \u001b[0mX_val\u001b[0m\u001b[0;34m,\u001b[0m\u001b[0my_val\u001b[0m\u001b[0;34m=\u001b[0m\u001b[0mX\u001b[0m\u001b[0;34m.\u001b[0m\u001b[0miloc\u001b[0m\u001b[0;34m[\u001b[0m\u001b[0mtest_idx\u001b[0m\u001b[0;34m]\u001b[0m\u001b[0;34m,\u001b[0m\u001b[0my\u001b[0m\u001b[0;34m[\u001b[0m\u001b[0mtest_idx\u001b[0m\u001b[0;34m]\u001b[0m\u001b[0;34m\u001b[0m\u001b[0;34m\u001b[0m\u001b[0m\n\u001b[1;32m      5\u001b[0m   \u001b[0mmodel\u001b[0m\u001b[0;34m=\u001b[0m\u001b[0mLGBMRegressor\u001b[0m\u001b[0;34m(\u001b[0m\u001b[0mobjective\u001b[0m\u001b[0;34m=\u001b[0m\u001b[0;34m'regression'\u001b[0m\u001b[0;34m,\u001b[0m\u001b[0;34m**\u001b[0m\u001b[0mparams2\u001b[0m\u001b[0;34m,\u001b[0m\u001b[0mrandom_state\u001b[0m\u001b[0;34m=\u001b[0m\u001b[0;36m101\u001b[0m\u001b[0;34m,\u001b[0m\u001b[0mmin_data_per_groups\u001b[0m\u001b[0;34m=\u001b[0m\u001b[0;36m1\u001b[0m\u001b[0;34m,\u001b[0m\u001b[0msubsample_freq\u001b[0m\u001b[0;34m=\u001b[0m\u001b[0;36m1\u001b[0m\u001b[0;34m)\u001b[0m\u001b[0;34m\u001b[0m\u001b[0;34m\u001b[0m\u001b[0m\n\u001b[0;32m----> 6\u001b[0;31m   \u001b[0mmodel\u001b[0m\u001b[0;34m.\u001b[0m\u001b[0mfit\u001b[0m\u001b[0;34m(\u001b[0m\u001b[0mX_train\u001b[0m\u001b[0;34m,\u001b[0m\u001b[0my_train\u001b[0m\u001b[0;34m,\u001b[0m\u001b[0mcategorical_feature\u001b[0m\u001b[0;34m=\u001b[0m\u001b[0;34m[\u001b[0m\u001b[0;34m'customer_id'\u001b[0m\u001b[0;34m,\u001b[0m\u001b[0;34m'song_id'\u001b[0m\u001b[0;34m,\u001b[0m\u001b[0;34m'platform_id'\u001b[0m\u001b[0;34m,\u001b[0m\u001b[0;34m'language'\u001b[0m\u001b[0;34m,\u001b[0m\u001b[0;34m'label_id'\u001b[0m\u001b[0;34m,\u001b[0m\u001b[0;34m'Saved'\u001b[0m\u001b[0;34m]\u001b[0m\u001b[0;34m)\u001b[0m\u001b[0;34m\u001b[0m\u001b[0;34m\u001b[0m\u001b[0m\n\u001b[0m\u001b[1;32m      7\u001b[0m   \u001b[0mmodels\u001b[0m\u001b[0;34m.\u001b[0m\u001b[0mappend\u001b[0m\u001b[0;34m(\u001b[0m\u001b[0mmodel\u001b[0m\u001b[0;34m)\u001b[0m\u001b[0;34m\u001b[0m\u001b[0;34m\u001b[0m\u001b[0m\n\u001b[1;32m      8\u001b[0m \u001b[0mp1\u001b[0m\u001b[0;34m=\u001b[0m\u001b[0mnp\u001b[0m\u001b[0;34m.\u001b[0m\u001b[0mzeros\u001b[0m\u001b[0;34m(\u001b[0m\u001b[0mlen\u001b[0m\u001b[0;34m(\u001b[0m\u001b[0mtest_new\u001b[0m\u001b[0;34m)\u001b[0m\u001b[0;34m)\u001b[0m\u001b[0;34m\u001b[0m\u001b[0;34m\u001b[0m\u001b[0m\n",
            "\u001b[0;32m/usr/local/lib/python3.7/dist-packages/lightgbm/sklearn.py\u001b[0m in \u001b[0;36mfit\u001b[0;34m(self, X, y, sample_weight, init_score, eval_set, eval_names, eval_sample_weight, eval_init_score, eval_metric, early_stopping_rounds, verbose, feature_name, categorical_feature, callbacks)\u001b[0m\n\u001b[1;32m    683\u001b[0m                                        \u001b[0mverbose\u001b[0m\u001b[0;34m=\u001b[0m\u001b[0mverbose\u001b[0m\u001b[0;34m,\u001b[0m \u001b[0mfeature_name\u001b[0m\u001b[0;34m=\u001b[0m\u001b[0mfeature_name\u001b[0m\u001b[0;34m,\u001b[0m\u001b[0;34m\u001b[0m\u001b[0;34m\u001b[0m\u001b[0m\n\u001b[1;32m    684\u001b[0m                                        \u001b[0mcategorical_feature\u001b[0m\u001b[0;34m=\u001b[0m\u001b[0mcategorical_feature\u001b[0m\u001b[0;34m,\u001b[0m\u001b[0;34m\u001b[0m\u001b[0;34m\u001b[0m\u001b[0m\n\u001b[0;32m--> 685\u001b[0;31m                                        callbacks=callbacks)\n\u001b[0m\u001b[1;32m    686\u001b[0m         \u001b[0;32mreturn\u001b[0m \u001b[0mself\u001b[0m\u001b[0;34m\u001b[0m\u001b[0;34m\u001b[0m\u001b[0m\n\u001b[1;32m    687\u001b[0m \u001b[0;34m\u001b[0m\u001b[0m\n",
            "\u001b[0;32m/usr/local/lib/python3.7/dist-packages/lightgbm/sklearn.py\u001b[0m in \u001b[0;36mfit\u001b[0;34m(self, X, y, sample_weight, init_score, group, eval_set, eval_names, eval_sample_weight, eval_class_weight, eval_init_score, eval_group, eval_metric, early_stopping_rounds, verbose, feature_name, categorical_feature, callbacks)\u001b[0m\n\u001b[1;32m    542\u001b[0m                               \u001b[0mverbose_eval\u001b[0m\u001b[0;34m=\u001b[0m\u001b[0mverbose\u001b[0m\u001b[0;34m,\u001b[0m \u001b[0mfeature_name\u001b[0m\u001b[0;34m=\u001b[0m\u001b[0mfeature_name\u001b[0m\u001b[0;34m,\u001b[0m\u001b[0;34m\u001b[0m\u001b[0;34m\u001b[0m\u001b[0m\n\u001b[1;32m    543\u001b[0m                               \u001b[0mcategorical_feature\u001b[0m\u001b[0;34m=\u001b[0m\u001b[0mcategorical_feature\u001b[0m\u001b[0;34m,\u001b[0m\u001b[0;34m\u001b[0m\u001b[0;34m\u001b[0m\u001b[0m\n\u001b[0;32m--> 544\u001b[0;31m                               callbacks=callbacks)\n\u001b[0m\u001b[1;32m    545\u001b[0m \u001b[0;34m\u001b[0m\u001b[0m\n\u001b[1;32m    546\u001b[0m         \u001b[0;32mif\u001b[0m \u001b[0mevals_result\u001b[0m\u001b[0;34m:\u001b[0m\u001b[0;34m\u001b[0m\u001b[0;34m\u001b[0m\u001b[0m\n",
            "\u001b[0;32m/usr/local/lib/python3.7/dist-packages/lightgbm/engine.py\u001b[0m in \u001b[0;36mtrain\u001b[0;34m(params, train_set, num_boost_round, valid_sets, valid_names, fobj, feval, init_model, feature_name, categorical_feature, early_stopping_rounds, evals_result, verbose_eval, learning_rates, keep_training_booster, callbacks)\u001b[0m\n\u001b[1;32m    216\u001b[0m                                     evaluation_result_list=None))\n\u001b[1;32m    217\u001b[0m \u001b[0;34m\u001b[0m\u001b[0m\n\u001b[0;32m--> 218\u001b[0;31m         \u001b[0mbooster\u001b[0m\u001b[0;34m.\u001b[0m\u001b[0mupdate\u001b[0m\u001b[0;34m(\u001b[0m\u001b[0mfobj\u001b[0m\u001b[0;34m=\u001b[0m\u001b[0mfobj\u001b[0m\u001b[0;34m)\u001b[0m\u001b[0;34m\u001b[0m\u001b[0;34m\u001b[0m\u001b[0m\n\u001b[0m\u001b[1;32m    219\u001b[0m \u001b[0;34m\u001b[0m\u001b[0m\n\u001b[1;32m    220\u001b[0m         \u001b[0mevaluation_result_list\u001b[0m \u001b[0;34m=\u001b[0m \u001b[0;34m[\u001b[0m\u001b[0;34m]\u001b[0m\u001b[0;34m\u001b[0m\u001b[0;34m\u001b[0m\u001b[0m\n",
            "\u001b[0;32m/usr/local/lib/python3.7/dist-packages/lightgbm/basic.py\u001b[0m in \u001b[0;36mupdate\u001b[0;34m(self, train_set, fobj)\u001b[0m\n\u001b[1;32m   1800\u001b[0m             _safe_call(_LIB.LGBM_BoosterUpdateOneIter(\n\u001b[1;32m   1801\u001b[0m                 \u001b[0mself\u001b[0m\u001b[0;34m.\u001b[0m\u001b[0mhandle\u001b[0m\u001b[0;34m,\u001b[0m\u001b[0;34m\u001b[0m\u001b[0;34m\u001b[0m\u001b[0m\n\u001b[0;32m-> 1802\u001b[0;31m                 ctypes.byref(is_finished)))\n\u001b[0m\u001b[1;32m   1803\u001b[0m             \u001b[0mself\u001b[0m\u001b[0;34m.\u001b[0m\u001b[0m__is_predicted_cur_iter\u001b[0m \u001b[0;34m=\u001b[0m \u001b[0;34m[\u001b[0m\u001b[0;32mFalse\u001b[0m \u001b[0;32mfor\u001b[0m \u001b[0m_\u001b[0m \u001b[0;32min\u001b[0m \u001b[0mrange_\u001b[0m\u001b[0;34m(\u001b[0m\u001b[0mself\u001b[0m\u001b[0;34m.\u001b[0m\u001b[0m__num_dataset\u001b[0m\u001b[0;34m)\u001b[0m\u001b[0;34m]\u001b[0m\u001b[0;34m\u001b[0m\u001b[0;34m\u001b[0m\u001b[0m\n\u001b[1;32m   1804\u001b[0m             \u001b[0;32mreturn\u001b[0m \u001b[0mis_finished\u001b[0m\u001b[0;34m.\u001b[0m\u001b[0mvalue\u001b[0m \u001b[0;34m==\u001b[0m \u001b[0;36m1\u001b[0m\u001b[0;34m\u001b[0m\u001b[0;34m\u001b[0m\u001b[0m\n",
            "\u001b[0;31mKeyboardInterrupt\u001b[0m: "
          ]
        }
      ]
    },
    {
      "cell_type": "code",
      "metadata": {
        "colab": {
          "base_uri": "https://localhost:8080/",
          "height": 312
        },
        "id": "pmNcR9qjHEOe",
        "outputId": "42116724-6c2b-4752-a14e-54e1dae851d8"
      },
      "source": [
        "lgbm.plot_importance(model)"
      ],
      "execution_count": null,
      "outputs": [
        {
          "output_type": "execute_result",
          "data": {
            "text/plain": [
              "<matplotlib.axes._subplots.AxesSubplot at 0x7fbf2d92f050>"
            ]
          },
          "metadata": {
            "tags": []
          },
          "execution_count": 64
        },
        {
          "output_type": "display_data",
          "data": {
            "image/png": "[encoded data removed]",
            "text/plain": [
              "<Figure size 432x288 with 1 Axes>"
            ]
          },
          "metadata": {
            "tags": [],
            "needs_background": "light"
          }
        }
      ]
    },
    {
      "cell_type": "code",
      "metadata": {
        "colab": {
          "base_uri": "https://localhost:8080/"
        },
        "id": "w0LaJ3cCswam",
        "outputId": "1c775002-58eb-4798-a7f3-c613aff1990e"
      },
      "source": [
        "len(preds)"
      ],
      "execution_count": null,
      "outputs": [
        {
          "output_type": "execute_result",
          "data": {
            "text/plain": [
              "670681"
            ]
          },
          "metadata": {
            "tags": []
          },
          "execution_count": 20
        }
      ]
    },
    {
      "cell_type": "code",
      "metadata": {
        "id": "Q8DFlmssslxR"
      },
      "source": [
        "sub['score']=preds\n",
        "sub.to_csv('Pred8.csv',index=False)"
      ],
      "execution_count": null,
      "outputs": []
    },
    {
      "cell_type": "markdown",
      "metadata": {
        "id": "oJUXeKO3w-us"
      },
      "source": [
        "## Tuning"
      ]
    },
    {
      "cell_type": "code",
      "metadata": {
        "colab": {
          "base_uri": "https://localhost:8080/"
        },
        "id": "wEFq10qyxHgy",
        "outputId": "0e0883af-6a2c-4157-c0c5-6cbabe67878d"
      },
      "source": [
        "import optuna\n",
        "from optuna import trial\n",
        "def objective(trial:optuna.trial.Trial):\n",
        "  param = {\n",
        "        'objective':'regression',\n",
        "        'boosting_type':'gbdt',\n",
        "        'metric': 'mse', \n",
        "        'random_state': 101,\n",
        "        'reg_alpha': trial.suggest_loguniform('reg_alpha', 1e-3, 10.0),\n",
        "        'reg_lambda': trial.suggest_loguniform('reg_lambda', 1e-3, 10.0),\n",
        "        'colsample_bytree': trial.suggest_categorical('colsample_bytree', [0.3,0.4,0.5,0.6,0.7,0.8,0.9, 1.0]),\n",
        "        'subsample': trial.suggest_categorical('subsample', [0.4,0.5,0.6,0.7,0.8,1.0]),\n",
        "        'learning_rate': trial.suggest_categorical('learning_rate', [0.1,0.2,0.4,0.5]),\n",
        "        'max_depth': trial.suggest_categorical('max_depth', [10,20,30, 40, 50,100,128]),\n",
        "        'num_iterations': trial.suggest_categorical('num_iterations', [200,300, 400, 500,600,700, 800, 1000]),\n",
        "        'num_leaves' : trial.suggest_int('num_leaves', 1, 1000),\n",
        "        'min_child_samples': trial.suggest_int('min_child_samples', 1, 300),\n",
        "        'subsample_freq':1,\n",
        "        'num_thread':2,\n",
        "        'verbose' : 50}\n",
        "\n",
        "  #param = {\n",
        "  #  'objective': 'regression',\n",
        "  #  'metric': 'mse',\n",
        "  #  'lambda_l1': trial.suggest_loguniform('lambda_l1', 1e-8, 10.0),\n",
        "  #  'n_estimators':trial.suggest_int('n_estimators',128,512),\n",
        "  #  'num_leaves': trial.suggest_int('num_leaves', 2, 256),\n",
        "  #  'feature_fraction': trial.suggest_uniform('feature_fraction', 0.4, 1.0),\n",
        "  #  'bagging_fraction': trial.suggest_uniform('bagging_fraction', 0.4, 1.0),\n",
        "  #  'bagging_freq': trial.suggest_int('bagging_freq', 1, 7),\n",
        "  #  'min_child_samples': trial.suggest_int('min_child_samples', 5, 100),\n",
        "  #}\n",
        "  #param = {\n",
        "  #    'iterations' : trial.suggest_int('iterations', 50, 300),                         \n",
        "  #    'depth' : trial.suggest_int('depth', 4, 10),                                       \n",
        "  #    'learning_rate' : trial.suggest_loguniform('learning_rate', 0.01, 0.3),               \n",
        "  #    'random_strength' :trial.suggest_int('random_strength', 0, 100),                       \n",
        "  #    'bagging_temperature' :trial.suggest_loguniform('bagging_temperature', 0.01, 100.00),\n",
        "  #    'learning_rate' :trial.suggest_loguniform('learning_rate', 1e-3, 1e-1),\n",
        "  #    'od_type': trial.suggest_categorical('od_type', ['IncToDec', 'Iter'])\n",
        "  #}\n",
        "  X,y=train_new.drop(['score'],axis=1),train_new['score']\n",
        "  X_train,X_val,y_train,y_val=train_test_split(X,y,random_state=101,test_size=0.3)\n",
        "  scorer=make_scorer(mean_squared_error)\n",
        "  fold=KFold(n_splits=5,random_state=101) \n",
        "  lgbm = LGBMRegressor(**param)\n",
        "  scorer=make_scorer(mean_squared_error)\n",
        "  #score = cross_val_score(LGBMRegressor(**params), X, y, verbose=1,n_jobs=-1, scoring=scorer, cv=fold,fit_params={'categorical_feature':['customer_id','song_id','platform_id','language','label_id','Saved']})\n",
        "  lgbm.fit(X_train,y_train,categorical_feature=['customer_id','song_id','platform_id','language','label_id','Saved'],  verbose = 50)\n",
        "  p=lgbm.predict(X_val)\n",
        "  p=np.clip(p,1,5)\n",
        "  score=mean_squared_error(y_val,p)\n",
        "  return score\n",
        "\n",
        "\n",
        "studies = optuna.create_study(direction='minimize')\n",
        "studies.optimize(objective, n_trials=100)\n",
        "\n",
        "print(studies.best_value)\n",
        "print(studies.best_params)"
      ],
      "execution_count": null,
      "outputs": [
        {
          "output_type": "stream",
          "text": [
            "\u001b[32m[I 2021-05-30 09:56:02,185]\u001b[0m A new study created in memory with name: no-name-7bd32cd0-8ee9-46df-bfa1-33dcbdbd4e31\u001b[0m\n",
            "\u001b[32m[I 2021-05-30 09:57:28,677]\u001b[0m Trial 0 finished with value: 0.765809955762764 and parameters: {'reg_alpha': 0.16491598342145844, 'reg_lambda': 0.002318788235860498, 'colsample_bytree': 0.9, 'subsample': 0.4, 'learning_rate': 0.1, 'max_depth': 10, 'num_iterations': 800, 'num_leaves': 695, 'min_child_samples': 47}. Best is trial 0 with value: 0.765809955762764.\u001b[0m\n",
            "\u001b[32m[I 2021-05-30 09:58:13,399]\u001b[0m Trial 1 finished with value: 0.7553665887238046 and parameters: {'reg_alpha': 0.014062306041603344, 'reg_lambda': 3.299358160657055, 'colsample_bytree': 0.9, 'subsample': 0.7, 'learning_rate': 0.2, 'max_depth': 30, 'num_iterations': 200, 'num_leaves': 984, 'min_child_samples': 192}. Best is trial 1 with value: 0.7553665887238046.\u001b[0m\n",
            "\u001b[32m[I 2021-05-30 10:02:01,326]\u001b[0m Trial 2 finished with value: 0.7516201836514765 and parameters: {'reg_alpha': 0.06364819045745623, 'reg_lambda': 0.007643434964541315, 'colsample_bytree': 0.7, 'subsample': 0.7, 'learning_rate': 0.1, 'max_depth': 50, 'num_iterations': 500, 'num_leaves': 201, 'min_child_samples': 52}. Best is trial 2 with value: 0.7516201836514765.\u001b[0m\n",
            "\u001b[32m[I 2021-05-30 10:02:18,594]\u001b[0m Trial 3 finished with value: 0.7640781261502574 and parameters: {'reg_alpha': 0.20055223655984408, 'reg_lambda': 3.8428527513575017, 'colsample_bytree': 0.4, 'subsample': 1.0, 'learning_rate': 0.2, 'max_depth': 20, 'num_iterations': 200, 'num_leaves': 183, 'min_child_samples': 69}. Best is trial 2 with value: 0.7516201836514765.\u001b[0m\n",
            "\u001b[32m[I 2021-05-30 10:08:35,232]\u001b[0m Trial 4 finished with value: 0.7611670881350058 and parameters: {'reg_alpha': 0.012693879516457876, 'reg_lambda': 0.06610989364788884, 'colsample_bytree': 0.3, 'subsample': 1.0, 'learning_rate': 0.5, 'max_depth': 128, 'num_iterations': 700, 'num_leaves': 312, 'min_child_samples': 188}. Best is trial 2 with value: 0.7516201836514765.\u001b[0m\n",
            "\u001b[32m[I 2021-05-30 10:17:09,046]\u001b[0m Trial 5 finished with value: 0.8001612854182099 and parameters: {'reg_alpha': 0.0034127797812001405, 'reg_lambda': 0.30038235868273816, 'colsample_bytree': 0.4, 'subsample': 0.5, 'learning_rate': 0.4, 'max_depth': 100, 'num_iterations': 700, 'num_leaves': 740, 'min_child_samples': 127}. Best is trial 2 with value: 0.7516201836514765.\u001b[0m\n",
            "\u001b[32m[I 2021-05-30 10:17:56,546]\u001b[0m Trial 6 finished with value: 0.7703908318416819 and parameters: {'reg_alpha': 0.4459390483883354, 'reg_lambda': 1.480079012632755, 'colsample_bytree': 0.9, 'subsample': 0.4, 'learning_rate': 0.1, 'max_depth': 10, 'num_iterations': 500, 'num_leaves': 51, 'min_child_samples': 213}. Best is trial 2 with value: 0.7516201836514765.\u001b[0m\n",
            "\u001b[32m[I 2021-05-30 10:25:56,543]\u001b[0m Trial 7 finished with value: 0.7411038569357596 and parameters: {'reg_alpha': 0.025999998262937463, 'reg_lambda': 0.0020128873360606763, 'colsample_bytree': 0.6, 'subsample': 1.0, 'learning_rate': 0.2, 'max_depth': 128, 'num_iterations': 700, 'num_leaves': 128, 'min_child_samples': 17}. Best is trial 7 with value: 0.7411038569357596.\u001b[0m\n",
            "\u001b[32m[I 2021-05-30 10:26:09,573]\u001b[0m Trial 8 finished with value: 0.788502782026943 and parameters: {'reg_alpha': 0.0594006893343646, 'reg_lambda': 0.05512455097373202, 'colsample_bytree': 0.6, 'subsample': 0.6, 'learning_rate': 0.1, 'max_depth': 128, 'num_iterations': 200, 'num_leaves': 13, 'min_child_samples': 283}. Best is trial 7 with value: 0.7411038569357596.\u001b[0m\n"
          ],
          "name": "stderr"
        }
      ]
    },
    {
      "cell_type": "code",
      "metadata": {
        "colab": {
          "base_uri": "https://localhost:8080/",
          "height": 542
        },
        "id": "vrSfCNe6-fLL",
        "outputId": "8a12e828-f9ba-42e4-a8b4-b6088e021861"
      },
      "source": [
        "optuna.visualization.plot_param_importances(studies)"
      ],
      "execution_count": null,
      "outputs": [
        {
          "output_type": "display_data",
          "data": {
            "text/html": [
              "<html>\n",
              "<head><meta charset=\"utf-8\" /></head>\n",
              "<body>\n",
              "    <div>\n",
              "            <script src=\"https://cdnjs.cloudflare.com/ajax/libs/mathjax/2.7.5/MathJax.js?config=TeX-AMS-MML_SVG\"></script><script type=\"text/javascript\">if (window.MathJax) {MathJax.Hub.Config({SVG: {font: \"STIX-Web\"}});}</script>\n",
              "                <script type=\"text/javascript\">window.PlotlyConfig = {MathJaxConfig: 'local'};</script>\n",
              "        <script src=\"https://cdn.plot.ly/plotly-latest.min.js\"></script>    \n",
              "            <div id=\"d34f438c-121e-4c17-9c7a-c5f7998776c6\" class=\"plotly-graph-div\" style=\"height:525px; width:100%;\"></div>\n",
              "            <script type=\"text/javascript\">\n",
              "                \n",
              "                    window.PLOTLYENV=window.PLOTLYENV || {};\n",
              "                    \n",
              "                if (document.getElementById(\"d34f438c-121e-4c17-9c7a-c5f7998776c6\")) {\n",
              "                    Plotly.newPlot(\n",
              "                        'd34f438c-121e-4c17-9c7a-c5f7998776c6',\n",
              "                        [{\"cliponaxis\": false, \"hovertemplate\": [\"reg_lambda (LogUniformDistribution): 0.0015995953573743826<extra></extra>\", \"colsample_bytree (CategoricalDistribution): 0.04300370367769505<extra></extra>\", \"learning_rate (CategoricalDistribution): 0.07428282908085115<extra></extra>\", \"min_child_samples (IntUniformDistribution): 0.09861631190337565<extra></extra>\", \"reg_alpha (LogUniformDistribution): 0.15389139761669945<extra></extra>\", \"num_leaves (IntUniformDistribution): 0.16271267334906833<extra></extra>\", \"subsample (CategoricalDistribution): 0.17290848324318653<extra></extra>\", \"max_depth (CategoricalDistribution): 0.29298500577174946<extra></extra>\"], \"marker\": {\"color\": [\"rgb(8,48,107)\", \"rgb(66,146,198)\", \"rgb(66,146,198)\", \"rgb(8,81,156)\", \"rgb(8,48,107)\", \"rgb(8,81,156)\", \"rgb(66,146,198)\", \"rgb(66,146,198)\"]}, \"orientation\": \"h\", \"text\": [\"0.0015995953573743826\", \"0.04300370367769505\", \"0.07428282908085115\", \"0.09861631190337565\", \"0.15389139761669945\", \"0.16271267334906833\", \"0.17290848324318653\", \"0.29298500577174946\"], \"textposition\": \"outside\", \"texttemplate\": \"%{text:.2f}\", \"type\": \"bar\", \"x\": [0.0015995953573743826, 0.04300370367769505, 0.07428282908085115, 0.09861631190337565, 0.15389139761669945, 0.16271267334906833, 0.17290848324318653, 0.29298500577174946], \"y\": [\"reg_lambda\", \"colsample_bytree\", \"learning_rate\", \"min_child_samples\", \"reg_alpha\", \"num_leaves\", \"subsample\", \"max_depth\"]}],\n",
              "                        {\"showlegend\": false, \"template\": {\"data\": {\"bar\": [{\"error_x\": {\"color\": \"#2a3f5f\"}, \"error_y\": {\"color\": \"#2a3f5f\"}, \"marker\": {\"line\": {\"color\": \"#E5ECF6\", \"width\": 0.5}}, \"type\": \"bar\"}], \"barpolar\": [{\"marker\": {\"line\": {\"color\": \"#E5ECF6\", \"width\": 0.5}}, \"type\": \"barpolar\"}], \"carpet\": [{\"aaxis\": {\"endlinecolor\": \"#2a3f5f\", \"gridcolor\": \"white\", \"linecolor\": \"white\", \"minorgridcolor\": \"white\", \"startlinecolor\": \"#2a3f5f\"}, \"baxis\": {\"endlinecolor\": \"#2a3f5f\", \"gridcolor\": \"white\", \"linecolor\": \"white\", \"minorgridcolor\": \"white\", \"startlinecolor\": \"#2a3f5f\"}, \"type\": \"carpet\"}], \"choropleth\": [{\"colorbar\": {\"outlinewidth\": 0, \"ticks\": \"\"}, \"type\": \"choropleth\"}], \"contour\": [{\"colorbar\": {\"outlinewidth\": 0, \"ticks\": \"\"}, \"colorscale\": [[0.0, \"#0d0887\"], [0.1111111111111111, \"#46039f\"], [0.2222222222222222, \"#7201a8\"], [0.3333333333333333, \"#9c179e\"], [0.4444444444444444, \"#bd3786\"], [0.5555555555555556, \"#d8576b\"], [0.6666666666666666, \"#ed7953\"], [0.7777777777777778, \"#fb9f3a\"], [0.8888888888888888, \"#fdca26\"], [1.0, \"#f0f921\"]], \"type\": \"contour\"}], \"contourcarpet\": [{\"colorbar\": {\"outlinewidth\": 0, \"ticks\": \"\"}, \"type\": \"contourcarpet\"}], \"heatmap\": [{\"colorbar\": {\"outlinewidth\": 0, \"ticks\": \"\"}, \"colorscale\": [[0.0, \"#0d0887\"], [0.1111111111111111, \"#46039f\"], [0.2222222222222222, \"#7201a8\"], [0.3333333333333333, \"#9c179e\"], [0.4444444444444444, \"#bd3786\"], [0.5555555555555556, \"#d8576b\"], [0.6666666666666666, \"#ed7953\"], [0.7777777777777778, \"#fb9f3a\"], [0.8888888888888888, \"#fdca26\"], [1.0, \"#f0f921\"]], \"type\": \"heatmap\"}], \"heatmapgl\": [{\"colorbar\": {\"outlinewidth\": 0, \"ticks\": \"\"}, \"colorscale\": [[0.0, \"#0d0887\"], [0.1111111111111111, \"#46039f\"], [0.2222222222222222, \"#7201a8\"], [0.3333333333333333, \"#9c179e\"], [0.4444444444444444, \"#bd3786\"], [0.5555555555555556, \"#d8576b\"], [0.6666666666666666, \"#ed7953\"], [0.7777777777777778, \"#fb9f3a\"], [0.8888888888888888, \"#fdca26\"], [1.0, \"#f0f921\"]], \"type\": \"heatmapgl\"}], \"histogram\": [{\"marker\": {\"colorbar\": {\"outlinewidth\": 0, \"ticks\": \"\"}}, \"type\": \"histogram\"}], \"histogram2d\": [{\"colorbar\": {\"outlinewidth\": 0, \"ticks\": \"\"}, \"colorscale\": [[0.0, \"#0d0887\"], [0.1111111111111111, \"#46039f\"], [0.2222222222222222, \"#7201a8\"], [0.3333333333333333, \"#9c179e\"], [0.4444444444444444, \"#bd3786\"], [0.5555555555555556, \"#d8576b\"], [0.6666666666666666, \"#ed7953\"], [0.7777777777777778, \"#fb9f3a\"], [0.8888888888888888, \"#fdca26\"], [1.0, \"#f0f921\"]], \"type\": \"histogram2d\"}], \"histogram2dcontour\": [{\"colorbar\": {\"outlinewidth\": 0, \"ticks\": \"\"}, \"colorscale\": [[0.0, \"#0d0887\"], [0.1111111111111111, \"#46039f\"], [0.2222222222222222, \"#7201a8\"], [0.3333333333333333, \"#9c179e\"], [0.4444444444444444, \"#bd3786\"], [0.5555555555555556, \"#d8576b\"], [0.6666666666666666, \"#ed7953\"], [0.7777777777777778, \"#fb9f3a\"], [0.8888888888888888, \"#fdca26\"], [1.0, \"#f0f921\"]], \"type\": \"histogram2dcontour\"}], \"mesh3d\": [{\"colorbar\": {\"outlinewidth\": 0, \"ticks\": \"\"}, \"type\": \"mesh3d\"}], \"parcoords\": [{\"line\": {\"colorbar\": {\"outlinewidth\": 0, \"ticks\": \"\"}}, \"type\": \"parcoords\"}], \"pie\": [{\"automargin\": true, \"type\": \"pie\"}], \"scatter\": [{\"marker\": {\"colorbar\": {\"outlinewidth\": 0, \"ticks\": \"\"}}, \"type\": \"scatter\"}], \"scatter3d\": [{\"line\": {\"colorbar\": {\"outlinewidth\": 0, \"ticks\": \"\"}}, \"marker\": {\"colorbar\": {\"outlinewidth\": 0, \"ticks\": \"\"}}, \"type\": \"scatter3d\"}], \"scattercarpet\": [{\"marker\": {\"colorbar\": {\"outlinewidth\": 0, \"ticks\": \"\"}}, \"type\": \"scattercarpet\"}], \"scattergeo\": [{\"marker\": {\"colorbar\": {\"outlinewidth\": 0, \"ticks\": \"\"}}, \"type\": \"scattergeo\"}], \"scattergl\": [{\"marker\": {\"colorbar\": {\"outlinewidth\": 0, \"ticks\": \"\"}}, \"type\": \"scattergl\"}], \"scattermapbox\": [{\"marker\": {\"colorbar\": {\"outlinewidth\": 0, \"ticks\": \"\"}}, \"type\": \"scattermapbox\"}], \"scatterpolar\": [{\"marker\": {\"colorbar\": {\"outlinewidth\": 0, \"ticks\": \"\"}}, \"type\": \"scatterpolar\"}], \"scatterpolargl\": [{\"marker\": {\"colorbar\": {\"outlinewidth\": 0, \"ticks\": \"\"}}, \"type\": \"scatterpolargl\"}], \"scatterternary\": [{\"marker\": {\"colorbar\": {\"outlinewidth\": 0, \"ticks\": \"\"}}, \"type\": \"scatterternary\"}], \"surface\": [{\"colorbar\": {\"outlinewidth\": 0, \"ticks\": \"\"}, \"colorscale\": [[0.0, \"#0d0887\"], [0.1111111111111111, \"#46039f\"], [0.2222222222222222, \"#7201a8\"], [0.3333333333333333, \"#9c179e\"], [0.4444444444444444, \"#bd3786\"], [0.5555555555555556, \"#d8576b\"], [0.6666666666666666, \"#ed7953\"], [0.7777777777777778, \"#fb9f3a\"], [0.8888888888888888, \"#fdca26\"], [1.0, \"#f0f921\"]], \"type\": \"surface\"}], \"table\": [{\"cells\": {\"fill\": {\"color\": \"#EBF0F8\"}, \"line\": {\"color\": \"white\"}}, \"header\": {\"fill\": {\"color\": \"#C8D4E3\"}, \"line\": {\"color\": \"white\"}}, \"type\": \"table\"}]}, \"layout\": {\"annotationdefaults\": {\"arrowcolor\": \"#2a3f5f\", \"arrowhead\": 0, \"arrowwidth\": 1}, \"coloraxis\": {\"colorbar\": {\"outlinewidth\": 0, \"ticks\": \"\"}}, \"colorscale\": {\"diverging\": [[0, \"#8e0152\"], [0.1, \"#c51b7d\"], [0.2, \"#de77ae\"], [0.3, \"#f1b6da\"], [0.4, \"#fde0ef\"], [0.5, \"#f7f7f7\"], [0.6, \"#e6f5d0\"], [0.7, \"#b8e186\"], [0.8, \"#7fbc41\"], [0.9, \"#4d9221\"], [1, \"#276419\"]], \"sequential\": [[0.0, \"#0d0887\"], [0.1111111111111111, \"#46039f\"], [0.2222222222222222, \"#7201a8\"], [0.3333333333333333, \"#9c179e\"], [0.4444444444444444, \"#bd3786\"], [0.5555555555555556, \"#d8576b\"], [0.6666666666666666, \"#ed7953\"], [0.7777777777777778, \"#fb9f3a\"], [0.8888888888888888, \"#fdca26\"], [1.0, \"#f0f921\"]], \"sequentialminus\": [[0.0, \"#0d0887\"], [0.1111111111111111, \"#46039f\"], [0.2222222222222222, \"#7201a8\"], [0.3333333333333333, \"#9c179e\"], [0.4444444444444444, \"#bd3786\"], [0.5555555555555556, \"#d8576b\"], [0.6666666666666666, \"#ed7953\"], [0.7777777777777778, \"#fb9f3a\"], [0.8888888888888888, \"#fdca26\"], [1.0, \"#f0f921\"]]}, \"colorway\": [\"#636efa\", \"#EF553B\", \"#00cc96\", \"#ab63fa\", \"#FFA15A\", \"#19d3f3\", \"#FF6692\", \"#B6E880\", \"#FF97FF\", \"#FECB52\"], \"font\": {\"color\": \"#2a3f5f\"}, \"geo\": {\"bgcolor\": \"white\", \"lakecolor\": \"white\", \"landcolor\": \"#E5ECF6\", \"showlakes\": true, \"showland\": true, \"subunitcolor\": \"white\"}, \"hoverlabel\": {\"align\": \"left\"}, \"hovermode\": \"closest\", \"mapbox\": {\"style\": \"light\"}, \"paper_bgcolor\": \"white\", \"plot_bgcolor\": \"#E5ECF6\", \"polar\": {\"angularaxis\": {\"gridcolor\": \"white\", \"linecolor\": \"white\", \"ticks\": \"\"}, \"bgcolor\": \"#E5ECF6\", \"radialaxis\": {\"gridcolor\": \"white\", \"linecolor\": \"white\", \"ticks\": \"\"}}, \"scene\": {\"xaxis\": {\"backgroundcolor\": \"#E5ECF6\", \"gridcolor\": \"white\", \"gridwidth\": 2, \"linecolor\": \"white\", \"showbackground\": true, \"ticks\": \"\", \"zerolinecolor\": \"white\"}, \"yaxis\": {\"backgroundcolor\": \"#E5ECF6\", \"gridcolor\": \"white\", \"gridwidth\": 2, \"linecolor\": \"white\", \"showbackground\": true, \"ticks\": \"\", \"zerolinecolor\": \"white\"}, \"zaxis\": {\"backgroundcolor\": \"#E5ECF6\", \"gridcolor\": \"white\", \"gridwidth\": 2, \"linecolor\": \"white\", \"showbackground\": true, \"ticks\": \"\", \"zerolinecolor\": \"white\"}}, \"shapedefaults\": {\"line\": {\"color\": \"#2a3f5f\"}}, \"ternary\": {\"aaxis\": {\"gridcolor\": \"white\", \"linecolor\": \"white\", \"ticks\": \"\"}, \"baxis\": {\"gridcolor\": \"white\", \"linecolor\": \"white\", \"ticks\": \"\"}, \"bgcolor\": \"#E5ECF6\", \"caxis\": {\"gridcolor\": \"white\", \"linecolor\": \"white\", \"ticks\": \"\"}}, \"title\": {\"x\": 0.05}, \"xaxis\": {\"automargin\": true, \"gridcolor\": \"white\", \"linecolor\": \"white\", \"ticks\": \"\", \"title\": {\"standoff\": 15}, \"zerolinecolor\": \"white\", \"zerolinewidth\": 2}, \"yaxis\": {\"automargin\": true, \"gridcolor\": \"white\", \"linecolor\": \"white\", \"ticks\": \"\", \"title\": {\"standoff\": 15}, \"zerolinecolor\": \"white\", \"zerolinewidth\": 2}}}, \"title\": {\"text\": \"Hyperparameter Importances\"}, \"xaxis\": {\"title\": {\"text\": \"Importance for Objective Value\"}}, \"yaxis\": {\"title\": {\"text\": \"Hyperparameter\"}}},\n",
              "                        {\"responsive\": true}\n",
              "                    ).then(function(){\n",
              "                            \n",
              "var gd = document.getElementById('d34f438c-121e-4c17-9c7a-c5f7998776c6');\n",
              "var x = new MutationObserver(function (mutations, observer) {{\n",
              "        var display = window.getComputedStyle(gd).display;\n",
              "        if (!display || display === 'none') {{\n",
              "            console.log([gd, 'removed!']);\n",
              "            Plotly.purge(gd);\n",
              "            observer.disconnect();\n",
              "        }}\n",
              "}});\n",
              "\n",
              "// Listen for the removal of the full notebook cells\n",
              "var notebookContainer = gd.closest('#notebook-container');\n",
              "if (notebookContainer) {{\n",
              "    x.observe(notebookContainer, {childList: true});\n",
              "}}\n",
              "\n",
              "// Listen for the clearing of the current output cell\n",
              "var outputEl = gd.closest('.output');\n",
              "if (outputEl) {{\n",
              "    x.observe(outputEl, {childList: true});\n",
              "}}\n",
              "\n",
              "                        })\n",
              "                };\n",
              "                \n",
              "            </script>\n",
              "        </div>\n",
              "</body>\n",
              "</html>"
            ]
          },
          "metadata": {
            "tags": []
          }
        }
      ]
    },
    {
      "cell_type": "code",
      "metadata": {
        "id": "VbBuluHkFk1A"
      },
      "source": [
        "'lambda_l1': 5.220574643186443, 'lambda_l2': 2.2037247231276307e-05, 'num_leaves': 245, 'feature_fraction': 0.40220174225040056, 'bagging_fraction': 0.9918520487946106, 'bagging_freq': 1, 'min_child_samples': 22"
      ],
      "execution_count": null,
      "outputs": []
    },
    {
      "cell_type": "code",
      "metadata": {
        "id": "lRWcygDPp66b"
      },
      "source": [
        "params2={'reg_alpha': 0.8695646157740582, 'reg_lambda': 0.04000656260214025, 'colsample_bytree': 1.0, 'subsample': 1.0, 'learning_rate': 0.1, 'max_depth': 100, 'num_leaves': 758, 'min_child_samples': 96}"
      ],
      "execution_count": null,
      "outputs": []
    },
    {
      "cell_type": "code",
      "metadata": {
        "id": "SD1qZrYUp_LT"
      },
      "source": [
        ""
      ],
      "execution_count": null,
      "outputs": []
    }
  ]
}